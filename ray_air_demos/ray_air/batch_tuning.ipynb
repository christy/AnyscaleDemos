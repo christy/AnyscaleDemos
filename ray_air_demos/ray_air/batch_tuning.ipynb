{
 "cells": [
  {
   "cell_type": "markdown",
   "id": "6f5c2fbd-31d7-4262-94c8-1f6cea6f5938",
   "metadata": {},
   "source": [
    "# Batch Tuning with Ray AIR Tune"
   ]
  },
  {
   "cell_type": "markdown",
   "id": "26d69835-0104-4a89-8418-b1986e45a15c",
   "metadata": {},
   "source": [
    "### Load and Prepare Data"
   ]
  },
  {
   "cell_type": "code",
   "execution_count": 1,
   "id": "06ec7c35-5810-460c-9cf9-5cd7b62eab72",
   "metadata": {},
   "outputs": [
    {
     "name": "stdout",
     "output_type": "stream",
     "text": [
      "Number of CPUs in this system: 8\n",
      "pyarrow: 6.0.1\n"
     ]
    }
   ],
   "source": [
    "import os\n",
    "print(f'Number of CPUs in this system: {os.cpu_count()}')\n",
    "from typing import Tuple, List, Union, Optional, Callable\n",
    "import time\n",
    "import pandas as pd\n",
    "import numpy as np\n",
    "import pyarrow\n",
    "import pyarrow.parquet as pq\n",
    "import pyarrow.dataset as pds\n",
    "\n",
    "print(f\"pyarrow: {pyarrow.__version__}\")"
   ]
  },
  {
   "cell_type": "code",
   "execution_count": 2,
   "id": "fba8f73a-e47f-469d-a116-31fc5da8ecf2",
   "metadata": {},
   "outputs": [
    {
     "name": "stderr",
     "output_type": "stream",
     "text": [
      "2022-11-06 17:08:15,620\tINFO worker.py:1509 -- Started a local Ray instance. View the dashboard at \u001b[1m\u001b[32mhttp://127.0.0.1:8265 \u001b[39m\u001b[22m\n"
     ]
    },
    {
     "data": {
      "text/html": [
       "<div>\n",
       "    <div style=\"margin-left: 50px;display: flex;flex-direction: row;align-items: center\">\n",
       "        <h3 style=\"color: var(--jp-ui-font-color0)\">Ray</h3>\n",
       "        <svg version=\"1.1\" id=\"ray\" width=\"3em\" viewBox=\"0 0 144.5 144.6\" style=\"margin-left: 3em;margin-right: 3em\">\n",
       "            <g id=\"layer-1\">\n",
       "                <path fill=\"#00a2e9\" class=\"st0\" d=\"M97.3,77.2c-3.8-1.1-6.2,0.9-8.3,5.1c-3.5,6.8-9.9,9.9-17.4,9.6S58,88.1,54.8,81.2c-1.4-3-3-4-6.3-4.1\n",
       "                    c-5.6-0.1-9.9,0.1-13.1,6.4c-3.8,7.6-13.6,10.2-21.8,7.6C5.2,88.4-0.4,80.5,0,71.7c0.1-8.4,5.7-15.8,13.8-18.2\n",
       "                    c8.4-2.6,17.5,0.7,22.3,8c1.3,1.9,1.3,5.2,3.6,5.6c3.9,0.6,8,0.2,12,0.2c1.8,0,1.9-1.6,2.4-2.8c3.5-7.8,9.7-11.8,18-11.9\n",
       "                    c8.2-0.1,14.4,3.9,17.8,11.4c1.3,2.8,2.9,3.6,5.7,3.3c1-0.1,2,0.1,3,0c2.8-0.5,6.4,1.7,8.1-2.7s-2.3-5.5-4.1-7.5\n",
       "                    c-5.1-5.7-10.9-10.8-16.1-16.3C84,38,81.9,37.1,78,38.3C66.7,42,56.2,35.7,53,24.1C50.3,14,57.3,2.8,67.7,0.5\n",
       "                    C78.4-2,89,4.7,91.5,15.3c0.1,0.3,0.1,0.5,0.2,0.8c0.7,3.4,0.7,6.9-0.8,9.8c-1.7,3.2-0.8,5,1.5,7.2c6.7,6.5,13.3,13,19.8,19.7\n",
       "                    c1.8,1.8,3,2.1,5.5,1.2c9.1-3.4,17.9-0.6,23.4,7c4.8,6.9,4.6,16.1-0.4,22.9c-5.4,7.2-14.2,9.9-23.1,6.5c-2.3-0.9-3.5-0.6-5.1,1.1\n",
       "                    c-6.7,6.9-13.6,13.7-20.5,20.4c-1.8,1.8-2.5,3.2-1.4,5.9c3.5,8.7,0.3,18.6-7.7,23.6c-7.9,5-18.2,3.8-24.8-2.9\n",
       "                    c-6.4-6.4-7.4-16.2-2.5-24.3c4.9-7.8,14.5-11,23.1-7.8c3,1.1,4.7,0.5,6.9-1.7C91.7,98.4,98,92.3,104.2,86c1.6-1.6,4.1-2.7,2.6-6.2\n",
       "                    c-1.4-3.3-3.8-2.5-6.2-2.6C99.8,77.2,98.9,77.2,97.3,77.2z M72.1,29.7c5.5,0.1,9.9-4.3,10-9.8c0-0.1,0-0.2,0-0.3\n",
       "                    C81.8,14,77,9.8,71.5,10.2c-5,0.3-9,4.2-9.3,9.2c-0.2,5.5,4,10.1,9.5,10.3C71.8,29.7,72,29.7,72.1,29.7z M72.3,62.3\n",
       "                    c-5.4-0.1-9.9,4.2-10.1,9.7c0,0.2,0,0.3,0,0.5c0.2,5.4,4.5,9.7,9.9,10c5.1,0.1,9.9-4.7,10.1-9.8c0.2-5.5-4-10-9.5-10.3\n",
       "                    C72.6,62.3,72.4,62.3,72.3,62.3z M115,72.5c0.1,5.4,4.5,9.7,9.8,9.9c5.6-0.2,10-4.8,10-10.4c-0.2-5.4-4.6-9.7-10-9.7\n",
       "                    c-5.3-0.1-9.8,4.2-9.9,9.5C115,72.1,115,72.3,115,72.5z M19.5,62.3c-5.4,0.1-9.8,4.4-10,9.8c-0.1,5.1,5.2,10.4,10.2,10.3\n",
       "                    c5.6-0.2,10-4.9,9.8-10.5c-0.1-5.4-4.5-9.7-9.9-9.6C19.6,62.3,19.5,62.3,19.5,62.3z M71.8,134.6c5.9,0.2,10.3-3.9,10.4-9.6\n",
       "                    c0.5-5.5-3.6-10.4-9.1-10.8c-5.5-0.5-10.4,3.6-10.8,9.1c0,0.5,0,0.9,0,1.4c-0.2,5.3,4,9.8,9.3,10\n",
       "                    C71.6,134.6,71.7,134.6,71.8,134.6z\"/>\n",
       "            </g>\n",
       "        </svg>\n",
       "        <table>\n",
       "            <tr>\n",
       "                <td style=\"text-align: left\"><b>Python version:</b></td>\n",
       "                <td style=\"text-align: left\"><b>3.8.13</b></td>\n",
       "            </tr>\n",
       "            <tr>\n",
       "                <td style=\"text-align: left\"><b>Ray version:</b></td>\n",
       "                <td style=\"text-align: left\"><b> 2.0.1</b></td>\n",
       "            </tr>\n",
       "            <tr>\n",
       "    <td style=\"text-align: left\"><b>Dashboard:</b></td>\n",
       "    <td style=\"text-align: left\"><b><a href=\"http://127.0.0.1:8265\" target=\"_blank\">http://127.0.0.1:8265</a></b></td>\n",
       "</tr>\n",
       "\n",
       "        </table>\n",
       "    </div>\n",
       "</div>\n"
      ],
      "text/plain": [
       "RayContext(dashboard_url='127.0.0.1:8265', python_version='3.8.13', ray_version='2.0.1', ray_commit='03b6bc7b5a305877501110ec04710a9c57011479', address_info={'node_ip_address': '127.0.0.1', 'raylet_ip_address': '127.0.0.1', 'redis_address': None, 'object_store_address': '/tmp/ray/session_2022-11-06_17-08-13_630541_46442/sockets/plasma_store', 'raylet_socket_name': '/tmp/ray/session_2022-11-06_17-08-13_630541_46442/sockets/raylet', 'webui_url': '127.0.0.1:8265', 'session_dir': '/tmp/ray/session_2022-11-06_17-08-13_630541_46442', 'metrics_export_port': 64957, 'gcs_address': '127.0.0.1:60736', 'address': '127.0.0.1:60736', 'dashboard_agent_listen_port': 52365, 'node_id': '05ac9980364e56a0b27e6b39b2d2f273a02330ac0c8e1b4c953a3ead'})"
      ]
     },
     "execution_count": 2,
     "metadata": {},
     "output_type": "execute_result"
    }
   ],
   "source": [
    "import ray\n",
    "\n",
    "if ray.is_initialized():\n",
    "    ray.shutdown()\n",
    "ray.init()"
   ]
  },
  {
   "cell_type": "code",
   "execution_count": 3,
   "id": "ac0af2c6-7c90-42bc-8687-3c9b2dc9a993",
   "metadata": {},
   "outputs": [],
   "source": [
    "# For benchmarking purposes, we can print the times of various operations.\n",
    "# In order to reduce clutter in the output, this is set to False by default.\n",
    "PRINT_TIMES = False\n",
    "\n",
    "def print_time(msg: str):\n",
    "    if PRINT_TIMES:\n",
    "        print(msg)\n",
    "        \n",
    "# To speed things up, we’ll only use a small subset of the full dataset consisting of two last months of 2019.\n",
    "# You can choose to use the full dataset for 2018-2019 by setting the SMOKE_TEST variable to False.\n",
    "SMOKE_TEST = True\n"
   ]
  },
  {
   "cell_type": "code",
   "execution_count": 4,
   "id": "5076160a-07c5-4ceb-83d6-22c14d3d05c9",
   "metadata": {},
   "outputs": [
    {
     "name": "stdout",
     "output_type": "stream",
     "text": [
      "NYC Taxi using 1 file(s)!\n",
      "s3_files: ['s3://air-example-data/ursa-labs-taxi-data/by_year/2019/06/data.parquet/ab5b9d2b8cc94be19346e260b543ec35_000000.parquet']\n",
      "Locations: [145, 166, 152]\n"
     ]
    }
   ],
   "source": [
    "# Define some global variables.\n",
    "target = \"trip_duration\"\n",
    "s3_partitions = pds.dataset(\n",
    "    \"s3://anonymous@air-example-data/ursa-labs-taxi-data/by_year/\",\n",
    "    partitioning=[\"year\", \"month\"],\n",
    ")\n",
    "s3_files = [f\"s3://{file}\" for file in s3_partitions.files]\n",
    "\n",
    "# Obtain all location IDs\n",
    "all_location_ids = (\n",
    "    pq.read_table(s3_files[0], columns=[\"dropoff_location_id\"])[\"dropoff_location_id\"]\n",
    "    .unique()\n",
    "    .to_pylist()\n",
    ")\n",
    "\n",
    "# Use smoke testing or not.\n",
    "starting_idx = -1 if SMOKE_TEST else 0\n",
    "sample_locations = [145, 166, 152] if SMOKE_TEST else all_location_ids\n",
    "\n",
    "# Display what data will be used.\n",
    "s3_files = s3_files[starting_idx:]\n",
    "print(f\"NYC Taxi using {len(s3_files)} file(s)!\")\n",
    "print(f\"s3_files: {s3_files}\")\n",
    "print(f\"Locations: {sample_locations}\")"
   ]
  },
  {
   "cell_type": "code",
   "execution_count": 5,
   "id": "0bf5b850-fa35-4397-bea6-b8c21fd754cd",
   "metadata": {},
   "outputs": [],
   "source": [
    "def read_data(file: str, sample_id: np.int32) -> pd.DataFrame:\n",
    "    # start = time.time()\n",
    "    \n",
    "    df = pq.read_table(\n",
    "        file,\n",
    "        filters=[\n",
    "            (\"passenger_count\", \">\", 0),\n",
    "            (\"trip_distance\", \">\", 0),\n",
    "            (\"fare_amount\", \">\", 0),\n",
    "            (\"pickup_location_id\", \"in\", [264, 265]),\n",
    "            (\"dropoff_location_id\", \"not in\", [264, 265]), \n",
    "            (\"dropoff_location_id\", \"=\", sample_id)\n",
    "        ],\n",
    "        columns=[\n",
    "            \"pickup_at\",\n",
    "            \"dropoff_at\",\n",
    "            \"pickup_location_id\",\n",
    "            \"dropoff_location_id\",\n",
    "            \"passenger_count\",\n",
    "            \"trip_distance\",\n",
    "            \"fare_amount\",\n",
    "        ],\n",
    "    ).to_pandas()\n",
    "\n",
    "    # data_loading_time = time.time() - start\n",
    "    # print(f\"Data loading time: {data_loading_time:.2f} seconds\")\n",
    "    return df\n",
    "\n",
    "# A pandas DataFrame UDF for transforming the Dataset in parallel.\n",
    "def transform_batch(the_df: pd.DataFrame) -> pd.DataFrame:\n",
    "    df = the_df.copy()\n",
    "    \n",
    "    df[\"trip_duration\"] = (df[\"dropoff_at\"] - df[\"pickup_at\"]).dt.seconds\n",
    "    df = df[df[\"trip_duration\"] > 60]\n",
    "    df = df[df[\"trip_duration\"] < 24 * 60 * 60] \n",
    "    df.drop([\"dropoff_at\", \"pickup_at\", \"pickup_location_id\", \"fare_amount\"]\n",
    "            , axis=1, inplace=True)\n",
    "    df[\"dropoff_location_id\"] = df[\"dropoff_location_id\"].fillna(-1)\n",
    "    return df"
   ]
  },
  {
   "cell_type": "code",
   "execution_count": 6,
   "id": "5912af06-17e7-4598-a4ec-04a99449300e",
   "metadata": {},
   "outputs": [],
   "source": [
    "# %%time\n",
    "\n",
    "# # Test reading data.\n",
    "# import itertools\n",
    "# my_list = itertools.product(s3_files, sample_locations)\n",
    "\n",
    "# # [print(f[0], f[1]) for f in my_list]  \n",
    "# df_list = [read_data(f[0], f[1]) for f in my_list]\n",
    "# df_raw = pd.concat(df_list, ignore_index=True)\n",
    "\n",
    "# # pq.read_table() one location at a time\n",
    "# # CPU times: user 5.23 s, sys: 9.14 s, total: 14.4 s\n",
    "# # Wall time: 5min 34s"
   ]
  },
  {
   "cell_type": "code",
   "execution_count": 7,
   "id": "dc5edbba-4aa1-476e-ac96-d59a8a36fa62",
   "metadata": {},
   "outputs": [],
   "source": [
    "# %%time \n",
    "\n",
    "# # Test transforming data\n",
    "# print(f\"Number of rows before transformation: {df_raw.shape}\")\n",
    "\n",
    "# # Transform data.\n",
    "# df = transform_batch(df_raw)\n",
    "\n",
    "# print(f\"Number of rows after transformation: {df.shape}\")"
   ]
  },
  {
   "cell_type": "code",
   "execution_count": 8,
   "id": "b409ed1a-591d-421a-bfe7-d1a2b8be2033",
   "metadata": {},
   "outputs": [],
   "source": [
    "# # Inspect the pandas dataframe.\n",
    "# print(df.shape)\n",
    "# print(df.dtypes)\n",
    "# df.head()"
   ]
  },
  {
   "cell_type": "markdown",
   "id": "72369cbf-e346-441c-b7e3-9280ccabc7f6",
   "metadata": {},
   "source": [
    "### Tuning"
   ]
  },
  {
   "cell_type": "code",
   "execution_count": 9,
   "id": "0bd4b4a0-bcc8-49c3-8b5e-2590f9100a9f",
   "metadata": {},
   "outputs": [
    {
     "name": "stdout",
     "output_type": "stream",
     "text": [
      "sklearn: 1.1.2\n"
     ]
    }
   ],
   "source": [
    "# import standard sklearn libraries\n",
    "import sklearn\n",
    "from sklearn.base import BaseEstimator\n",
    "from sklearn.model_selection import train_test_split\n",
    "from sklearn.linear_model import LinearRegression\n",
    "from sklearn.tree import DecisionTreeRegressor\n",
    "from sklearn.metrics import mean_absolute_error\n",
    "print(f\"sklearn: {sklearn.__version__}\")\n",
    "\n",
    "# import ray AIR libraries\n",
    "from ray import air, tune\n",
    "from ray.air import session\n",
    "from ray.air.checkpoint import Checkpoint\n",
    "from ray.air.config import ScalingConfig\n",
    "\n",
    "# set global random seed for sklearn models\n",
    "np.random.seed(415)"
   ]
  },
  {
   "cell_type": "markdown",
   "id": "cdb3c9a4-b2df-4063-8c04-f5e0136c90bf",
   "metadata": {},
   "source": [
    "Step 1: First, we define the model training function that we want to run variations of. The function takes in a config dictionary as argument, and returns a simple dict output. Learn more about logging Tune results at [How to configure logging in Tune?](https://docs.ray.io/en/master/tune/tutorials/tune-output.html#tune-logging)."
   ]
  },
  {
   "cell_type": "code",
   "execution_count": 10,
   "id": "a03c0ff8-0c42-4703-91f4-57fc0df8f0ea",
   "metadata": {},
   "outputs": [],
   "source": [
    "# 1. Define a custom train function\n",
    "def train_model(config: dict):\n",
    "\n",
    "    model = config['models']\n",
    "    the_location = config['locations']\n",
    "    \n",
    "    # Load data.\n",
    "    df_list = [read_data(f, the_location) for f in s3_files]\n",
    "    # print(f\"train_model finished reading files: {len(df_list)}\")    \n",
    "    df_raw = pd.concat(df_list, ignore_index=True)\n",
    "    # print(f\"train_model df_raw.shape: {df_raw.shape}\")\n",
    "    df = transform_batch(df_raw)\n",
    "    # print(f\"train_model df.shape: {df.shape}\")\n",
    "    \n",
    "    # Train/test split.\n",
    "    train_df, test_df = train_test_split(df, test_size=0.2, shuffle=True)\n",
    "    train_X = train_df[[\"passenger_count\", \"trip_distance\"]]\n",
    "    train_y = train_df.trip_duration\n",
    "    test_X = test_df[[\"passenger_count\", \"trip_distance\"]]\n",
    "    test_y = test_df.trip_duration\n",
    "\n",
    "    # Train model.\n",
    "    model = model.fit(train_X, train_y)\n",
    "    pred_y = model.predict(test_X)\n",
    "    \n",
    "    # Evaluate.\n",
    "    error = sklearn.metrics.mean_absolute_error(test_y, pred_y)\n",
    "    \n",
    "    # Return final stats. You can also return intermediate progress\n",
    "    # using ray.air.session.report() if needed.\n",
    "    # To return your model, you could write it to storage and return its\n",
    "    # URI in this dict, or return it as a Tune Checkpoint:\n",
    "    # https://docs.ray.io/en/latest/tune/tutorials/tune-checkpoints.html\n",
    "    # score = 1000.0\n",
    "    return {'model': model, 'score': error}"
   ]
  },
  {
   "cell_type": "markdown",
   "id": "e310b13e-ba83-4c47-84e6-d1e916483b2b",
   "metadata": {},
   "source": [
    "Step 2: Next, define the space of trials to run. Here, we define a simple grid sweep from 0..NUM_MODELS, which will generate the config dicts to be passed to each model function. Learn more about what features Tune offers for defining spaces at [Working with Tune Search Spaces](https://docs.ray.io/en/master/tune/tutorials/tune-search-spaces.html#tune-search-space-tutorial)."
   ]
  },
  {
   "cell_type": "code",
   "execution_count": 11,
   "id": "7de03814-4eec-4363-a623-790f040b99be",
   "metadata": {},
   "outputs": [],
   "source": [
    "# 2. Define a search space.\n",
    "sample_locations = [145, 166, 152] if SMOKE_TEST else all_location_ids\n",
    "search_space = {\n",
    "    \"models\": tune.grid_search([LinearRegression(fit_intercept=True), \n",
    "                                DecisionTreeRegressor(max_depth=3)]),\n",
    "    \"locations\": tune.grid_search(sample_locations),\n",
    "}"
   ]
  },
  {
   "cell_type": "markdown",
   "id": "222d0d25-a5b0-4887-9d1a-a775d0107d12",
   "metadata": {},
   "source": [
    "Step 3: Optionally, configure the resources allocated per trial. Tune uses this resources allocation to control the parallelism. For example, if each trial was configured to use 4 CPUs, and the cluster had only 32 CPUs, then Tune will limit the number of concurrent trials to 8 to avoid overloading the cluster. For more information, see [A Guide To Parallelism and Resources](https://docs.ray.io/en/master/tune/tutorials/tune-resources.html#tune-parallelism)."
   ]
  },
  {
   "cell_type": "code",
   "execution_count": 12,
   "id": "9fa9df92-a412-42a8-b833-98dc86d58350",
   "metadata": {},
   "outputs": [],
   "source": [
    "# 3. Can customize resources per trial, here we set 1 CPU each.\n",
    "train_model = tune.with_resources(train_model, {\"cpu\": 1})"
   ]
  },
  {
   "cell_type": "markdown",
   "id": "7a36ca20-54ad-4400-88fe-ca8cc7ffbf84",
   "metadata": {},
   "source": [
    "Step 4: Run the trial with Tune. Tune will report on experiment status, and after the experiment finishes, you can inspect the results. Tune can retry failed trials automatically, as well as entire experiments; see [Stopping and Resuming a Tune Run](https://docs.ray.io/en/master/tune/tutorials/tune-stopping.html#tune-stopping-guide)."
   ]
  },
  {
   "cell_type": "code",
   "execution_count": 13,
   "id": "670d4015-4b0e-4a1a-88d7-07ac4a4e2df1",
   "metadata": {},
   "outputs": [
    {
     "name": "stderr",
     "output_type": "stream",
     "text": [
      "2022-11-06 17:08:29,811\tWARNING function_trainable.py:619 -- Function checkpointing is disabled. This may result in unexpected behavior when using checkpointing features or certain schedulers. To enable, set the train function arguments to be `func(config, checkpoint_dir=None)`.\n"
     ]
    },
    {
     "data": {
      "text/html": [
       "== Status ==<br>Current time: 2022-11-06 17:15:03 (running for 00:06:33.29)<br>Memory usage on this node: 12.9/16.0 GiB<br>Using FIFO scheduling algorithm.<br>Resources requested: 0/8 CPUs, 0/0 GPUs, 0.0/8.0 GiB heap, 0.0/2.0 GiB objects<br>Result logdir: /Users/christy/Documents/github_ray_temp/ray/doc/source/data/examples/my_Tune_logs/batch_tuning<br>Number of trials: 6/6 (6 TERMINATED)<br><table>\n",
       "<thead>\n",
       "<tr><th>Trial name             </th><th>status    </th><th>loc            </th><th style=\"text-align: right;\">  locations</th><th>models              </th><th style=\"text-align: right;\">  iter</th><th style=\"text-align: right;\">  total time (s)</th><th style=\"text-align: right;\">  score</th></tr>\n",
       "</thead>\n",
       "<tbody>\n",
       "<tr><td>train_model_b0f17_00000</td><td>TERMINATED</td><td>127.0.0.1:46536</td><td style=\"text-align: right;\">        145</td><td>LinearRegression()  </td><td style=\"text-align: right;\">     1</td><td style=\"text-align: right;\">         348.86 </td><td style=\"text-align: right;\">191.841</td></tr>\n",
       "<tr><td>train_model_b0f17_00001</td><td>TERMINATED</td><td>127.0.0.1:46539</td><td style=\"text-align: right;\">        166</td><td>LinearRegression()  </td><td style=\"text-align: right;\">     1</td><td style=\"text-align: right;\">         322.047</td><td style=\"text-align: right;\">270.643</td></tr>\n",
       "<tr><td>train_model_b0f17_00002</td><td>TERMINATED</td><td>127.0.0.1:46540</td><td style=\"text-align: right;\">        152</td><td>LinearRegression()  </td><td style=\"text-align: right;\">     1</td><td style=\"text-align: right;\">         327.369</td><td style=\"text-align: right;\">448.861</td></tr>\n",
       "<tr><td>train_model_b0f17_00003</td><td>TERMINATED</td><td>127.0.0.1:46541</td><td style=\"text-align: right;\">        145</td><td>DecisionTreeReg_3340</td><td style=\"text-align: right;\">     1</td><td style=\"text-align: right;\">         389.588</td><td style=\"text-align: right;\">792.726</td></tr>\n",
       "<tr><td>train_model_b0f17_00004</td><td>TERMINATED</td><td>127.0.0.1:46542</td><td style=\"text-align: right;\">        166</td><td>DecisionTreeReg_3700</td><td style=\"text-align: right;\">     1</td><td style=\"text-align: right;\">         221.907</td><td style=\"text-align: right;\">259.403</td></tr>\n",
       "<tr><td>train_model_b0f17_00005</td><td>TERMINATED</td><td>127.0.0.1:46543</td><td style=\"text-align: right;\">        152</td><td>DecisionTreeReg_3880</td><td style=\"text-align: right;\">     1</td><td style=\"text-align: right;\">         310.555</td><td style=\"text-align: right;\">326.3  </td></tr>\n",
       "</tbody>\n",
       "</table><br><br>"
      ],
      "text/plain": [
       "<IPython.core.display.HTML object>"
      ]
     },
     "metadata": {},
     "output_type": "display_data"
    },
    {
     "name": "stderr",
     "output_type": "stream",
     "text": [
      "2022-11-06 17:12:15,992\tINFO tensorboardx.py:267 -- Removed the following hyperparameter values when logging to tensorboard: {'models': DecisionTreeRegressor(max_depth=3)}\n"
     ]
    },
    {
     "name": "stdout",
     "output_type": "stream",
     "text": [
      "Trial train_model_b0f17_00004 reported model=DecisionTreeRegressor(max_depth=3),score=259.40304132405646 with parameters={'models': DecisionTreeRegressor(max_depth=3), 'locations': 166}. This trial completed.\n"
     ]
    },
    {
     "name": "stderr",
     "output_type": "stream",
     "text": [
      "2022-11-06 17:13:44,636\tINFO tensorboardx.py:267 -- Removed the following hyperparameter values when logging to tensorboard: {'models': DecisionTreeRegressor(max_depth=3)}\n"
     ]
    },
    {
     "name": "stdout",
     "output_type": "stream",
     "text": [
      "Trial train_model_b0f17_00005 reported model=DecisionTreeRegressor(max_depth=3),score=326.3 with parameters={'models': DecisionTreeRegressor(max_depth=3), 'locations': 152}. This trial completed.\n"
     ]
    },
    {
     "name": "stderr",
     "output_type": "stream",
     "text": [
      "2022-11-06 17:13:56,107\tINFO tensorboardx.py:267 -- Removed the following hyperparameter values when logging to tensorboard: {'models': LinearRegression()}\n"
     ]
    },
    {
     "name": "stdout",
     "output_type": "stream",
     "text": [
      "Trial train_model_b0f17_00001 reported model=LinearRegression(),score=270.64341735839844 with parameters={'models': LinearRegression(), 'locations': 166}. This trial completed.\n"
     ]
    },
    {
     "name": "stderr",
     "output_type": "stream",
     "text": [
      "2022-11-06 17:14:01,388\tINFO tensorboardx.py:267 -- Removed the following hyperparameter values when logging to tensorboard: {'models': LinearRegression()}\n"
     ]
    },
    {
     "name": "stdout",
     "output_type": "stream",
     "text": [
      "Trial train_model_b0f17_00002 reported model=LinearRegression(),score=448.86126098632815 with parameters={'models': LinearRegression(), 'locations': 152}. This trial completed.\n"
     ]
    },
    {
     "name": "stderr",
     "output_type": "stream",
     "text": [
      "2022-11-06 17:14:20,847\tINFO tensorboardx.py:267 -- Removed the following hyperparameter values when logging to tensorboard: {'models': LinearRegression()}\n"
     ]
    },
    {
     "name": "stdout",
     "output_type": "stream",
     "text": [
      "Trial train_model_b0f17_00000 reported model=LinearRegression(),score=191.8406982421875 with parameters={'models': LinearRegression(), 'locations': 145}. This trial completed.\n"
     ]
    },
    {
     "name": "stderr",
     "output_type": "stream",
     "text": [
      "2022-11-06 17:15:03,660\tINFO tensorboardx.py:267 -- Removed the following hyperparameter values when logging to tensorboard: {'models': DecisionTreeRegressor(max_depth=3)}\n"
     ]
    },
    {
     "name": "stdout",
     "output_type": "stream",
     "text": [
      "Trial train_model_b0f17_00003 reported model=DecisionTreeRegressor(max_depth=3),score=792.7261904761905 with parameters={'models': DecisionTreeRegressor(max_depth=3), 'locations': 145}. This trial completed.\n"
     ]
    },
    {
     "name": "stderr",
     "output_type": "stream",
     "text": [
      "2022-11-06 17:15:03,778\tINFO tune.py:758 -- Total run time: 393.97 seconds (393.28 seconds for the tuning loop).\n"
     ]
    },
    {
     "name": "stdout",
     "output_type": "stream",
     "text": [
      "Best result:\n",
      "{'models': LinearRegression(), 'locations': 145}\n"
     ]
    }
   ],
   "source": [
    "# Define a tuner object using Ray AIR Tuner API\n",
    "stop_criteria = {\n",
    "    \"done\": True,\n",
    "    \"training_iteration\": 1 if SMOKE_TEST else 3,\n",
    "}\n",
    "tuner = tune.Tuner(\n",
    "    train_model, \n",
    "    param_space=search_space,\n",
    "    run_config=air.RunConfig(\n",
    "        \n",
    "        #redirect logs to relative path instead of default ~/ray_results/\n",
    "        local_dir = \"my_Tune_logs\",\n",
    "        name = \"batch_tuning\",\n",
    "\n",
    "        # Stopping criteria whichever occurs first: average reward over training episodes, or ...\n",
    "        stop=stop_criteria,\n",
    "\n",
    "        # Set Ray Tune verbosity.  Summary table only with levels 2 or 3.\n",
    "        verbose=2,\n",
    "        )\n",
    ")\n",
    "\n",
    "# 4. Run the trial with Ray Tune\n",
    "results = tuner.fit()\n",
    "print(\"Best result:\")\n",
    "print(results.get_best_result(metric=\"score\", mode=\"min\").config)\n",
    "\n",
    "# Total run time: 481.19 seconds (481.06 seconds for the tuning loop).\n",
    "# 8 minutes\n"
   ]
  },
  {
   "cell_type": "code",
   "execution_count": 14,
   "id": "7d03f101-4aac-4272-a12c-05de7d34adb3",
   "metadata": {},
   "outputs": [
    {
     "name": "stdout",
     "output_type": "stream",
     "text": [
      "Result(metrics={'model': LinearRegression(), 'score': 191.8406982421875, 'done': True, 'trial_id': 'b0f17_00000', 'experiment_tag': '0_locations=145,models=LinearRegression'}, error=None, log_dir=PosixPath('/Users/christy/Documents/github_ray_temp/ray/doc/source/data/examples/my_Tune_logs/batch_tuning/train_model_b0f17_00000_0_locations=145,models=LinearRegression_2022-11-06_17-08-30'))\n",
      "\n",
      "Result(metrics={'model': LinearRegression(), 'score': 270.64341735839844, 'done': True, 'trial_id': 'b0f17_00001', 'experiment_tag': '1_locations=166,models=LinearRegression'}, error=None, log_dir=PosixPath('/Users/christy/Documents/github_ray_temp/ray/doc/source/data/examples/my_Tune_logs/batch_tuning/train_model_b0f17_00001_1_locations=166,models=LinearRegression_2022-11-06_17-08-31'))\n",
      "\n",
      "Result(metrics={'model': LinearRegression(), 'score': 448.86126098632815, 'done': True, 'trial_id': 'b0f17_00002', 'experiment_tag': '2_locations=152,models=LinearRegression'}, error=None, log_dir=PosixPath('/Users/christy/Documents/github_ray_temp/ray/doc/source/data/examples/my_Tune_logs/batch_tuning/train_model_b0f17_00002_2_locations=152,models=LinearRegression_2022-11-06_17-08-31'))\n"
     ]
    }
   ],
   "source": [
    "# Access individual results.\n",
    "print(f\"{results[0]}\")\n",
    "print(f\"\\n{results[1]}\")\n",
    "print(f\"\\n{results[2]}\")"
   ]
  },
  {
   "cell_type": "code",
   "execution_count": null,
   "id": "c58866d3-f5dc-43ec-a26d-b43d612eaf05",
   "metadata": {},
   "outputs": [],
   "source": []
  }
 ],
 "metadata": {
  "kernelspec": {
   "display_name": "Python 3 (ipykernel)",
   "language": "python",
   "name": "python3"
  },
  "language_info": {
   "codemirror_mode": {
    "name": "ipython",
    "version": 3
   },
   "file_extension": ".py",
   "mimetype": "text/x-python",
   "name": "python",
   "nbconvert_exporter": "python",
   "pygments_lexer": "ipython3",
   "version": "3.8.13"
  }
 },
 "nbformat": 4,
 "nbformat_minor": 5
}
