{
 "cells": [
  {
   "cell_type": "markdown",
   "id": "6f5c2fbd-31d7-4262-94c8-1f6cea6f5938",
   "metadata": {},
   "source": [
    "# Running N Independent Trials in Parallel with Ray AIR Tune"
   ]
  },
  {
   "cell_type": "markdown",
   "id": "cdb02a92-a603-48b8-a23e-887ecaaf5470",
   "metadata": {},
   "source": [
    "# Introduction \n",
    "\n",
    "Let us quickly walk through the key concepts you need to know to use Tune.\n",
    "\n",
    "First, you define the hyperparameters you want to tune in a `Search space` and pass them into a `Trainable` or `callable` function, that specifies the objective you want to tune.  The trainable function will be called for every instance in the search space.\n",
    "\n",
    "Then you select a search algorithm and optionally use a\n",
    "scheduler to stop searches early and speed up your experiments.  We will use simple **grid search** as our `search algorithm` in this tutorial.\n",
    "\n",
    "Together with other configurations, your Trainable, Search algorithm, and Scheduler are passed into `Tuner`, which runs your experiments and creates parallel `trials`.\n",
    "\n",
    "These trials can then be used in analyses to inspect your experiment results.\n",
    "The following figure shows an overview of these components, which we will cover in this tutorial.\n",
    "\n",
    "![Tune flow diagram](../images/tune_flow.png)"
   ]
  },
  {
   "cell_type": "markdown",
   "id": "3eaee275-9cb1-4fa9-9393-a04a6fe00d84",
   "metadata": {},
   "source": [
    "# Contents\n",
    "\n",
    "In this this tutorial, you will learn about:\n",
    " 1. [Load and Prepare Parquet data](#load_data)\n",
    " 2. [Define a Trainable (callable) function](#define_trainable)\n",
    " 2. [Define your Ray Tune Search Space](#define_search_space)\n",
    " 3. [Run independent trials in Parallel using Ray AIR Tune](#run_tune_search)\n",
    " 4. [Load a model from checkpoint and perform inference](#load_checkpoint)\n",
    "\n",
    "# Walkthrough\n",
    "\n",
    "Let us start by importing a few required libraries, including open-source [Ray](https://github.com/ray-project/ray) itself!"
   ]
  },
  {
   "cell_type": "code",
   "execution_count": 1,
   "id": "06ec7c35-5810-460c-9cf9-5cd7b62eab72",
   "metadata": {},
   "outputs": [
    {
     "name": "stdout",
     "output_type": "stream",
     "text": [
      "Number of CPUs in this system: 8\n",
      "pyarrow: 6.0.1\n"
     ]
    }
   ],
   "source": [
    "import os\n",
    "print(f'Number of CPUs in this system: {os.cpu_count()}')\n",
    "from typing import Tuple, List, Union, Optional, Callable\n",
    "import time\n",
    "import pandas as pd\n",
    "import numpy as np\n",
    "import pyarrow\n",
    "import pyarrow.parquet as pq\n",
    "import pyarrow.dataset as pds\n",
    "print(f\"pyarrow: {pyarrow.__version__}\")"
   ]
  },
  {
   "cell_type": "code",
   "execution_count": 2,
   "id": "fba8f73a-e47f-469d-a116-31fc5da8ecf2",
   "metadata": {},
   "outputs": [
    {
     "name": "stderr",
     "output_type": "stream",
     "text": [
      "2022-11-08 01:31:58,070\tINFO worker.py:1509 -- Started a local Ray instance. View the dashboard at \u001b[1m\u001b[32mhttp://127.0.0.1:8265 \u001b[39m\u001b[22m\n"
     ]
    },
    {
     "data": {
      "text/html": [
       "<div>\n",
       "    <div style=\"margin-left: 50px;display: flex;flex-direction: row;align-items: center\">\n",
       "        <h3 style=\"color: var(--jp-ui-font-color0)\">Ray</h3>\n",
       "        <svg version=\"1.1\" id=\"ray\" width=\"3em\" viewBox=\"0 0 144.5 144.6\" style=\"margin-left: 3em;margin-right: 3em\">\n",
       "            <g id=\"layer-1\">\n",
       "                <path fill=\"#00a2e9\" class=\"st0\" d=\"M97.3,77.2c-3.8-1.1-6.2,0.9-8.3,5.1c-3.5,6.8-9.9,9.9-17.4,9.6S58,88.1,54.8,81.2c-1.4-3-3-4-6.3-4.1\n",
       "                    c-5.6-0.1-9.9,0.1-13.1,6.4c-3.8,7.6-13.6,10.2-21.8,7.6C5.2,88.4-0.4,80.5,0,71.7c0.1-8.4,5.7-15.8,13.8-18.2\n",
       "                    c8.4-2.6,17.5,0.7,22.3,8c1.3,1.9,1.3,5.2,3.6,5.6c3.9,0.6,8,0.2,12,0.2c1.8,0,1.9-1.6,2.4-2.8c3.5-7.8,9.7-11.8,18-11.9\n",
       "                    c8.2-0.1,14.4,3.9,17.8,11.4c1.3,2.8,2.9,3.6,5.7,3.3c1-0.1,2,0.1,3,0c2.8-0.5,6.4,1.7,8.1-2.7s-2.3-5.5-4.1-7.5\n",
       "                    c-5.1-5.7-10.9-10.8-16.1-16.3C84,38,81.9,37.1,78,38.3C66.7,42,56.2,35.7,53,24.1C50.3,14,57.3,2.8,67.7,0.5\n",
       "                    C78.4-2,89,4.7,91.5,15.3c0.1,0.3,0.1,0.5,0.2,0.8c0.7,3.4,0.7,6.9-0.8,9.8c-1.7,3.2-0.8,5,1.5,7.2c6.7,6.5,13.3,13,19.8,19.7\n",
       "                    c1.8,1.8,3,2.1,5.5,1.2c9.1-3.4,17.9-0.6,23.4,7c4.8,6.9,4.6,16.1-0.4,22.9c-5.4,7.2-14.2,9.9-23.1,6.5c-2.3-0.9-3.5-0.6-5.1,1.1\n",
       "                    c-6.7,6.9-13.6,13.7-20.5,20.4c-1.8,1.8-2.5,3.2-1.4,5.9c3.5,8.7,0.3,18.6-7.7,23.6c-7.9,5-18.2,3.8-24.8-2.9\n",
       "                    c-6.4-6.4-7.4-16.2-2.5-24.3c4.9-7.8,14.5-11,23.1-7.8c3,1.1,4.7,0.5,6.9-1.7C91.7,98.4,98,92.3,104.2,86c1.6-1.6,4.1-2.7,2.6-6.2\n",
       "                    c-1.4-3.3-3.8-2.5-6.2-2.6C99.8,77.2,98.9,77.2,97.3,77.2z M72.1,29.7c5.5,0.1,9.9-4.3,10-9.8c0-0.1,0-0.2,0-0.3\n",
       "                    C81.8,14,77,9.8,71.5,10.2c-5,0.3-9,4.2-9.3,9.2c-0.2,5.5,4,10.1,9.5,10.3C71.8,29.7,72,29.7,72.1,29.7z M72.3,62.3\n",
       "                    c-5.4-0.1-9.9,4.2-10.1,9.7c0,0.2,0,0.3,0,0.5c0.2,5.4,4.5,9.7,9.9,10c5.1,0.1,9.9-4.7,10.1-9.8c0.2-5.5-4-10-9.5-10.3\n",
       "                    C72.6,62.3,72.4,62.3,72.3,62.3z M115,72.5c0.1,5.4,4.5,9.7,9.8,9.9c5.6-0.2,10-4.8,10-10.4c-0.2-5.4-4.6-9.7-10-9.7\n",
       "                    c-5.3-0.1-9.8,4.2-9.9,9.5C115,72.1,115,72.3,115,72.5z M19.5,62.3c-5.4,0.1-9.8,4.4-10,9.8c-0.1,5.1,5.2,10.4,10.2,10.3\n",
       "                    c5.6-0.2,10-4.9,9.8-10.5c-0.1-5.4-4.5-9.7-9.9-9.6C19.6,62.3,19.5,62.3,19.5,62.3z M71.8,134.6c5.9,0.2,10.3-3.9,10.4-9.6\n",
       "                    c0.5-5.5-3.6-10.4-9.1-10.8c-5.5-0.5-10.4,3.6-10.8,9.1c0,0.5,0,0.9,0,1.4c-0.2,5.3,4,9.8,9.3,10\n",
       "                    C71.6,134.6,71.7,134.6,71.8,134.6z\"/>\n",
       "            </g>\n",
       "        </svg>\n",
       "        <table>\n",
       "            <tr>\n",
       "                <td style=\"text-align: left\"><b>Python version:</b></td>\n",
       "                <td style=\"text-align: left\"><b>3.8.13</b></td>\n",
       "            </tr>\n",
       "            <tr>\n",
       "                <td style=\"text-align: left\"><b>Ray version:</b></td>\n",
       "                <td style=\"text-align: left\"><b> 2.0.1</b></td>\n",
       "            </tr>\n",
       "            <tr>\n",
       "    <td style=\"text-align: left\"><b>Dashboard:</b></td>\n",
       "    <td style=\"text-align: left\"><b><a href=\"http://127.0.0.1:8265\" target=\"_blank\">http://127.0.0.1:8265</a></b></td>\n",
       "</tr>\n",
       "\n",
       "        </table>\n",
       "    </div>\n",
       "</div>\n"
      ],
      "text/plain": [
       "RayContext(dashboard_url='127.0.0.1:8265', python_version='3.8.13', ray_version='2.0.1', ray_commit='03b6bc7b5a305877501110ec04710a9c57011479', address_info={'node_ip_address': '127.0.0.1', 'raylet_ip_address': '127.0.0.1', 'redis_address': None, 'object_store_address': '/tmp/ray/session_2022-11-08_01-31-56_114290_77509/sockets/plasma_store', 'raylet_socket_name': '/tmp/ray/session_2022-11-08_01-31-56_114290_77509/sockets/raylet', 'webui_url': '127.0.0.1:8265', 'session_dir': '/tmp/ray/session_2022-11-08_01-31-56_114290_77509', 'metrics_export_port': 65423, 'gcs_address': '127.0.0.1:61483', 'address': '127.0.0.1:61483', 'dashboard_agent_listen_port': 52365, 'node_id': 'd5d881de21f7529000c167d2bf85209429ee22e41e935f5dada35598'})"
      ]
     },
     "execution_count": 2,
     "metadata": {},
     "output_type": "execute_result"
    }
   ],
   "source": [
    "import ray\n",
    "\n",
    "if ray.is_initialized():\n",
    "    ray.shutdown()\n",
    "ray.init()"
   ]
  },
  {
   "cell_type": "code",
   "execution_count": 3,
   "id": "ac0af2c6-7c90-42bc-8687-3c9b2dc9a993",
   "metadata": {},
   "outputs": [],
   "source": [
    "# For benchmarking purposes, we can print the times of various operations.\n",
    "# In order to reduce clutter in the output, this is set to False by default.\n",
    "PRINT_TIMES = False\n",
    "\n",
    "def print_time(msg: str):\n",
    "    if PRINT_TIMES:\n",
    "        print(msg)\n",
    "        \n",
    "# To speed things up, we’ll only use a small subset of the full dataset consisting of two last months of 2019.\n",
    "# You can choose to use the full dataset for 2018-2019 by setting the SMOKE_TEST variable to False.\n",
    "SMOKE_TEST = True\n"
   ]
  },
  {
   "cell_type": "markdown",
   "id": "26d69835-0104-4a89-8418-b1986e45a15c",
   "metadata": {
    "tags": []
   },
   "source": [
    "## Load and Prepare Parquet data <a class=\"anchor\" id=\"load_data\"></a>"
   ]
  },
  {
   "cell_type": "markdown",
   "id": "d558f234-b7af-489d-8aaa-42a7c49f2194",
   "metadata": {},
   "source": [
    "Apache Arrow uses a [C++ implementation of Apache Parquet](http://github.com/apache/parquet-cpp), which includes a native, multithreaded C++ adapter. This makes **PyArrow dataset and table faster for large parquet file reading than pandas read_parquet, even with engine=pyarrow**. \n",
    " \n",
    "Below, first we will filter files into a PyArrow dataset. In the next cell after, we will filter the data on read into a PyArrow table.  The PyArrow table will be converted after filtering to a pandas dataframe."
   ]
  },
  {
   "cell_type": "code",
   "execution_count": 4,
   "id": "5076160a-07c5-4ceb-83d6-22c14d3d05c9",
   "metadata": {},
   "outputs": [
    {
     "name": "stdout",
     "output_type": "stream",
     "text": [
      "NYC Taxi using 1 file(s)!\n",
      "s3_files: ['s3://air-example-data/ursa-labs-taxi-data/by_year/2019/06/data.parquet/ab5b9d2b8cc94be19346e260b543ec35_000000.parquet']\n",
      "Locations: [145, 166, 152]\n"
     ]
    }
   ],
   "source": [
    "# Define some global variables.\n",
    "target = \"trip_duration\"\n",
    "s3_partitions = pds.dataset(\n",
    "    \"s3://anonymous@air-example-data/ursa-labs-taxi-data/by_year/\",\n",
    "    partitioning=[\"year\", \"month\"],\n",
    ")\n",
    "s3_files = [f\"s3://{file}\" for file in s3_partitions.files]\n",
    "\n",
    "# Obtain all location IDs\n",
    "all_location_ids = (\n",
    "    pq.read_table(s3_files[0], columns=[\"dropoff_location_id\"])[\"dropoff_location_id\"]\n",
    "    .unique()\n",
    "    .to_pylist()\n",
    ")\n",
    "\n",
    "# Use smoke testing or not.\n",
    "starting_idx = -1 if SMOKE_TEST else 0\n",
    "sample_locations = [145, 166, 152] if SMOKE_TEST else all_location_ids\n",
    "\n",
    "# Display what data will be used.\n",
    "s3_files = s3_files[starting_idx:]\n",
    "print(f\"NYC Taxi using {len(s3_files)} file(s)!\")\n",
    "print(f\"s3_files: {s3_files}\")\n",
    "print(f\"Locations: {sample_locations}\")\n"
   ]
  },
  {
   "cell_type": "code",
   "execution_count": 5,
   "id": "0bf5b850-fa35-4397-bea6-b8c21fd754cd",
   "metadata": {},
   "outputs": [],
   "source": [
    "# Function to read a pyarrow.Table object using pyarrow parquet \n",
    "def read_data(file: str, sample_id: np.int32) -> pd.DataFrame:\n",
    "    \n",
    "    df = pq.read_table(\n",
    "        file,\n",
    "        filters=[\n",
    "            (\"passenger_count\", \">\", 0),\n",
    "            (\"trip_distance\", \">\", 0),\n",
    "            (\"fare_amount\", \">\", 0),\n",
    "            (\"pickup_location_id\", \"in\", [264, 265]),\n",
    "            (\"dropoff_location_id\", \"not in\", [264, 265]), \n",
    "            (\"dropoff_location_id\", \"=\", sample_id)\n",
    "        ],\n",
    "        columns=[\n",
    "            \"pickup_at\",\n",
    "            \"dropoff_at\",\n",
    "            \"pickup_location_id\",\n",
    "            \"dropoff_location_id\",\n",
    "            \"passenger_count\",\n",
    "            \"trip_distance\",\n",
    "            \"fare_amount\",\n",
    "        ],\n",
    "    ).to_pandas()\n",
    "\n",
    "    return df\n",
    "\n",
    "# Function to transform a pandas dataframe\n",
    "def transform_df(the_df: pd.DataFrame) -> pd.DataFrame:\n",
    "    df = the_df.copy()\n",
    "    \n",
    "    df[\"trip_duration\"] = (df[\"dropoff_at\"] - df[\"pickup_at\"]).dt.seconds\n",
    "    df = df[df[\"trip_duration\"] > 60]\n",
    "    df = df[df[\"trip_duration\"] < 24 * 60 * 60] \n",
    "    df.drop([\"dropoff_at\", \"pickup_at\", \"pickup_location_id\", \"fare_amount\"]\n",
    "            , axis=1, inplace=True)\n",
    "    df[\"dropoff_location_id\"] = df[\"dropoff_location_id\"].fillna(-1)\n",
    "    return df"
   ]
  },
  {
   "cell_type": "markdown",
   "id": "28814e79-f53e-4527-a959-e952f7d57fe5",
   "metadata": {},
   "source": [
    "## Define a Trainable (callable) function <a class=\"anchor\" id=\"define_trainable\"></a>"
   ]
  },
  {
   "cell_type": "code",
   "execution_count": 6,
   "id": "0bd4b4a0-bcc8-49c3-8b5e-2590f9100a9f",
   "metadata": {},
   "outputs": [
    {
     "name": "stdout",
     "output_type": "stream",
     "text": [
      "sklearn: 1.1.2\n"
     ]
    }
   ],
   "source": [
    "# import standard sklearn libraries\n",
    "import sklearn\n",
    "from sklearn.base import BaseEstimator\n",
    "from sklearn.model_selection import train_test_split\n",
    "from sklearn.linear_model import LinearRegression\n",
    "from sklearn.tree import DecisionTreeRegressor\n",
    "from sklearn.metrics import mean_absolute_error\n",
    "print(f\"sklearn: {sklearn.__version__}\")\n",
    "\n",
    "# import ray AIR libraries\n",
    "from ray import air, tune\n",
    "from ray.air import session\n",
    "from ray.air.checkpoint import Checkpoint\n",
    "from ray.air.config import ScalingConfig\n",
    "from ray.train.sklearn import SklearnCheckpoint\n",
    "from ray.train.batch_predictor import BatchPredictor\n",
    "from ray.train.sklearn import SklearnPredictor\n",
    "\n",
    "# set global random seed for sklearn models\n",
    "np.random.seed(415)"
   ]
  },
  {
   "cell_type": "markdown",
   "id": "cdb3c9a4-b2df-4063-8c04-f5e0136c90bf",
   "metadata": {},
   "source": [
    "<b>Define a \"Trainable\" object that you can pass into a Tune run.</b> Ray Tune has two ways of defining a trainable, namely the [Function API](https://docs.ray.io/en/latest/tune/api_docs/trainable.html#trainable-docs) and the Class API. Both are valid ways of defining a trainable, but *the Function API is generally recommended*.\n",
    "\n",
    "Let’s say we want to optimize a simple objective function like a (x ** 2) + b in which a and b are the hyperparameters we want to tune to minimize the objective. Since the objective also has a variable x, we need to test for different values of x. Given concrete choices for a, b and x we can evaluate the objective function and get a score to minimize.\n",
    "\n",
    "**In the cell below, our \"Trainable\" function is called `train_model`**.  It takes as input a config dictionary argument, and returns a simple dict output. "
   ]
  },
  {
   "cell_type": "code",
   "execution_count": 7,
   "id": "a03c0ff8-0c42-4703-91f4-57fc0df8f0ea",
   "metadata": {},
   "outputs": [],
   "source": [
    "# 1. Define a custom train function\n",
    "def train_model(config: dict):\n",
    "\n",
    "    model = config['model']\n",
    "    the_location = config['location']\n",
    "    \n",
    "    # Load data.\n",
    "    df_list = [read_data(f, the_location) for f in s3_files]   \n",
    "    df_raw = pd.concat(df_list, ignore_index=True)\n",
    "    df = transform_df(df_raw)\n",
    "    \n",
    "    # Train/test split.\n",
    "    train_df, test_df = train_test_split(df, test_size=0.2, shuffle=True)\n",
    "    train_X = train_df[[\"passenger_count\", \"trip_distance\"]]\n",
    "    train_y = train_df.trip_duration\n",
    "    test_X = test_df[[\"passenger_count\", \"trip_distance\"]]\n",
    "    test_y = test_df.trip_duration\n",
    "\n",
    "    # Train model.\n",
    "    model = model.fit(train_X, train_y)\n",
    "    pred_y = model.predict(test_X)\n",
    "    \n",
    "    # Evaluate.\n",
    "    error = sklearn.metrics.mean_absolute_error(test_y, pred_y)\n",
    "    \n",
    "    # Save the model as a Tune Checkpoint. This is done through \n",
    "    # ray.air.session.report() API, which can take in a Checkpoint object.\n",
    "    # https://docs.ray.io/en/latest/tune/tutorials/tune-checkpoints.html\n",
    "    \n",
    "    # Save the model checkpoint\n",
    "    checkpoint = SklearnCheckpoint.from_estimator(model, path=\".\")\n",
    "\n",
    "    # Save the checkpoint using ray.air.session()\n",
    "    session.report(\n",
    "            {\"error\": error}, \n",
    "            checkpoint=checkpoint)"
   ]
  },
  {
   "cell_type": "markdown",
   "id": "72369cbf-e346-441c-b7e3-9280ccabc7f6",
   "metadata": {
    "tags": []
   },
   "source": [
    "## Define your Ray Tune Search Space <a class=\"anchor\" id=\"define_search_space\"></a>"
   ]
  },
  {
   "cell_type": "markdown",
   "id": "e310b13e-ba83-4c47-84e6-d1e916483b2b",
   "metadata": {},
   "source": [
    "**Next, define a search space of trials to run.** Below, we define a simple grid search of 2 Scikit-learn models and NYC taxi drop-off locations. \n",
    "\n",
    "Ray Tune will generate permutations of the grid search parameters and pass these in the config dictionary passed to each Trainable function call.\n",
    "\n",
    "Besides grid search, learn about other features Tune offers for defining spaces at [Working with Tune Search Spaces](https://docs.ray.io/en/master/tune/tutorials/tune-search-spaces.html#tune-search-space-tutorial)."
   ]
  },
  {
   "cell_type": "code",
   "execution_count": 8,
   "id": "7de03814-4eec-4363-a623-790f040b99be",
   "metadata": {},
   "outputs": [],
   "source": [
    "# 2. Define a search space.\n",
    "sample_locations = [145, 166, 152] if SMOKE_TEST else all_location_ids\n",
    "search_space = {\n",
    "    \"model\": tune.grid_search([LinearRegression(fit_intercept=True), \n",
    "                                DecisionTreeRegressor(max_depth=3)]),\n",
    "    \"location\": tune.grid_search(sample_locations),\n",
    "}"
   ]
  },
  {
   "cell_type": "markdown",
   "id": "8ebb435c-8485-4146-9e22-cff77b3f4946",
   "metadata": {},
   "source": [
    "## Run independent trials in Parallel using Ray AIR Tune <a class=\"anchor\" id=\"run_tune_search\"></a>"
   ]
  },
  {
   "cell_type": "markdown",
   "id": "222d0d25-a5b0-4887-9d1a-a775d0107d12",
   "metadata": {},
   "source": [
    "**Optionally, configure the resources allocated per trial.** Tune uses this resources allocation to control the parallelism. For example, if each trial was configured to use 4 CPUs, and the cluster had only 32 CPUs, then Tune will limit the number of concurrent trials to 8 to avoid overloading the cluster. \n",
    "\n",
    "For more information, see [A Guide To Parallelism and Resources](https://docs.ray.io/en/master/tune/tutorials/tune-resources.html#tune-parallelism)."
   ]
  },
  {
   "cell_type": "code",
   "execution_count": 9,
   "id": "9fa9df92-a412-42a8-b833-98dc86d58350",
   "metadata": {},
   "outputs": [],
   "source": [
    "# 3. Can customize resources per trial, here we set 1 CPU each.\n",
    "train_model = tune.with_resources(train_model, {\"cpu\": 1})"
   ]
  },
  {
   "cell_type": "markdown",
   "id": "7a36ca20-54ad-4400-88fe-ca8cc7ffbf84",
   "metadata": {},
   "source": [
    "**Below, we introduce AIR configs and run the trial using `tuner.fit()`.** Tune will report on experiment status, and after the experiment finishes, you can inspect the results. \n",
    "\n",
    "Notice in the AIR config, we have specified a local directory `my_Tune_logs` for logging instead of the default `~/ray_results` directory. Learn more about logging Tune results at [How to configure logging in Tune](https://docs.ray.io/en/master/tune/tutorials/tune-output.html#tune-logging).\n",
    "\n",
    "Tune can retry failed trials automatically, as well as entire experiments; see [Stopping and Resuming a Tune Run](https://docs.ray.io/en/master/tune/tutorials/tune-stopping.html#tune-stopping-guide)."
   ]
  },
  {
   "cell_type": "code",
   "execution_count": 10,
   "id": "670d4015-4b0e-4a1a-88d7-07ac4a4e2df1",
   "metadata": {},
   "outputs": [
    {
     "name": "stderr",
     "output_type": "stream",
     "text": [
      "2022-11-08 01:32:13,089\tWARNING function_trainable.py:619 -- Function checkpointing is disabled. This may result in unexpected behavior when using checkpointing features or certain schedulers. To enable, set the train function arguments to be `func(config, checkpoint_dir=None)`.\n"
     ]
    },
    {
     "data": {
      "text/html": [
       "== Status ==<br>Current time: 2022-11-08 01:39:49 (running for 00:07:36.24)<br>Memory usage on this node: 13.3/16.0 GiB<br>Using FIFO scheduling algorithm.<br>Resources requested: 0/8 CPUs, 0/0 GPUs, 0.0/8.19 GiB heap, 0.0/2.0 GiB objects<br>Result logdir: /Users/christy/Documents/github_ray_temp/ray/doc/source/ray-air/examples/my_Tune_logs/batch_tuning<br>Number of trials: 6/6 (6 TERMINATED)<br><table>\n",
       "<thead>\n",
       "<tr><th>Trial name             </th><th>status    </th><th>loc            </th><th style=\"text-align: right;\">  location</th><th>model               </th><th style=\"text-align: right;\">  iter</th><th style=\"text-align: right;\">  total time (s)</th><th style=\"text-align: right;\">  error</th></tr>\n",
       "</thead>\n",
       "<tbody>\n",
       "<tr><td>train_model_39d58_00000</td><td>TERMINATED</td><td>127.0.0.1:77555</td><td style=\"text-align: right;\">       145</td><td>LinearRegression()  </td><td style=\"text-align: right;\">     1</td><td style=\"text-align: right;\">         447.438</td><td style=\"text-align: right;\">706.173</td></tr>\n",
       "<tr><td>train_model_39d58_00001</td><td>TERMINATED</td><td>127.0.0.1:77564</td><td style=\"text-align: right;\">       166</td><td>LinearRegression()  </td><td style=\"text-align: right;\">     1</td><td style=\"text-align: right;\">         317.96 </td><td style=\"text-align: right;\">272.063</td></tr>\n",
       "<tr><td>train_model_39d58_00002</td><td>TERMINATED</td><td>127.0.0.1:77565</td><td style=\"text-align: right;\">       152</td><td>LinearRegression()  </td><td style=\"text-align: right;\">     1</td><td style=\"text-align: right;\">         421.948</td><td style=\"text-align: right;\">266.036</td></tr>\n",
       "<tr><td>train_model_39d58_00003</td><td>TERMINATED</td><td>127.0.0.1:77566</td><td style=\"text-align: right;\">       145</td><td>DecisionTreeReg_5070</td><td style=\"text-align: right;\">     1</td><td style=\"text-align: right;\">         438.83 </td><td style=\"text-align: right;\">461.833</td></tr>\n",
       "<tr><td>train_model_39d58_00004</td><td>TERMINATED</td><td>127.0.0.1:77567</td><td style=\"text-align: right;\">       166</td><td>DecisionTreeReg_51f0</td><td style=\"text-align: right;\">     1</td><td style=\"text-align: right;\">         452.476</td><td style=\"text-align: right;\">227.662</td></tr>\n",
       "<tr><td>train_model_39d58_00005</td><td>TERMINATED</td><td>127.0.0.1:77568</td><td style=\"text-align: right;\">       152</td><td>DecisionTreeReg_5370</td><td style=\"text-align: right;\">     1</td><td style=\"text-align: right;\">         437.406</td><td style=\"text-align: right;\">224.3  </td></tr>\n",
       "</tbody>\n",
       "</table><br><br>"
      ],
      "text/plain": [
       "<IPython.core.display.HTML object>"
      ]
     },
     "metadata": {},
     "output_type": "display_data"
    },
    {
     "name": "stderr",
     "output_type": "stream",
     "text": [
      "2022-11-08 01:37:35,270\tINFO tensorboardx.py:267 -- Removed the following hyperparameter values when logging to tensorboard: {'model': LinearRegression()}\n"
     ]
    },
    {
     "name": "stdout",
     "output_type": "stream",
     "text": [
      "Trial train_model_39d58_00001 reported error=272.06299675835504,should_checkpoint=True with parameters={'model': LinearRegression(), 'location': 166}. This trial completed.\n"
     ]
    },
    {
     "name": "stderr",
     "output_type": "stream",
     "text": [
      "2022-11-08 01:39:19,151\tINFO tensorboardx.py:267 -- Removed the following hyperparameter values when logging to tensorboard: {'model': LinearRegression()}\n"
     ]
    },
    {
     "name": "stdout",
     "output_type": "stream",
     "text": [
      "Trial train_model_39d58_00002 reported error=266.03564453125,should_checkpoint=True with parameters={'model': LinearRegression(), 'location': 152}. This trial completed.\n"
     ]
    },
    {
     "name": "stderr",
     "output_type": "stream",
     "text": [
      "2022-11-08 01:39:34,677\tINFO tensorboardx.py:267 -- Removed the following hyperparameter values when logging to tensorboard: {'model': DecisionTreeRegressor(max_depth=3)}\n"
     ]
    },
    {
     "name": "stdout",
     "output_type": "stream",
     "text": [
      "Trial train_model_39d58_00005 reported error=224.3,should_checkpoint=True with parameters={'model': DecisionTreeRegressor(max_depth=3), 'location': 152}. This trial completed.\n"
     ]
    },
    {
     "name": "stderr",
     "output_type": "stream",
     "text": [
      "2022-11-08 01:39:36,102\tINFO tensorboardx.py:267 -- Removed the following hyperparameter values when logging to tensorboard: {'model': DecisionTreeRegressor(max_depth=3)}\n"
     ]
    },
    {
     "name": "stdout",
     "output_type": "stream",
     "text": [
      "Trial train_model_39d58_00003 reported error=461.8333333333333,should_checkpoint=True with parameters={'model': DecisionTreeRegressor(max_depth=3), 'location': 145}. This trial completed.\n"
     ]
    },
    {
     "name": "stderr",
     "output_type": "stream",
     "text": [
      "2022-11-08 01:39:42,662\tINFO tensorboardx.py:267 -- Removed the following hyperparameter values when logging to tensorboard: {'model': LinearRegression()}\n"
     ]
    },
    {
     "name": "stdout",
     "output_type": "stream",
     "text": [
      "Trial train_model_39d58_00000 reported error=706.1730143229166,should_checkpoint=True with parameters={'model': LinearRegression(), 'location': 145}. This trial completed.\n"
     ]
    },
    {
     "name": "stderr",
     "output_type": "stream",
     "text": [
      "2022-11-08 01:39:49,760\tINFO tensorboardx.py:267 -- Removed the following hyperparameter values when logging to tensorboard: {'model': DecisionTreeRegressor(max_depth=3)}\n"
     ]
    },
    {
     "name": "stdout",
     "output_type": "stream",
     "text": [
      "Trial train_model_39d58_00004 reported error=227.6619017499473,should_checkpoint=True with parameters={'model': DecisionTreeRegressor(max_depth=3), 'location': 166}. This trial completed.\n"
     ]
    },
    {
     "name": "stderr",
     "output_type": "stream",
     "text": [
      "2022-11-08 01:39:49,875\tINFO tune.py:758 -- Total run time: 456.79 seconds (456.24 seconds for the tuning loop).\n"
     ]
    },
    {
     "name": "stdout",
     "output_type": "stream",
     "text": [
      "Total number of models: 6\n",
      "TOTAL TIME TAKEN: 456.80 seconds\n",
      "Best result: {'model': DecisionTreeRegressor(max_depth=3), 'location': 152}\n"
     ]
    }
   ],
   "source": [
    "# Define a tuner object using Ray AIR Tuner API\n",
    "stop_criteria = {\n",
    "    \"done\": True,\n",
    "    \"training_iteration\": 1 if SMOKE_TEST else 3,\n",
    "}\n",
    "tuner = tune.Tuner(\n",
    "    train_model, \n",
    "    param_space=search_space,\n",
    "    run_config=air.RunConfig(\n",
    "        \n",
    "        #redirect logs to relative path instead of default ~/ray_results/\n",
    "        local_dir = \"my_Tune_logs\",\n",
    "        name = \"batch_tuning\",\n",
    "        \n",
    "        # No custom syncing\n",
    "        sync_config=tune.SyncConfig(\n",
    "            syncer=None  # Disable custom syncing (uses rsync by default)\n",
    "        ),\n",
    "        \n",
    "        # Checkpoint config\n",
    "        checkpoint_config=air.CheckpointConfig(\n",
    "            checkpoint_score_attribute=\"error\",\n",
    "        ),\n",
    "\n",
    "        # Stopping criteria whichever occurs first\n",
    "        stop=stop_criteria,\n",
    "\n",
    "        # Set Ray Tune verbosity.  Print summary table only with levels 2 or 3.\n",
    "        verbose=2,\n",
    "        ),\n",
    ")\n",
    "\n",
    "# 4. Run the trials with Ray Tune\n",
    "start = time.time()\n",
    "results = tuner.fit()\n",
    "total_time_taken = time.time() - start\n",
    "\n",
    "# Assemble Tune results into a pandas dataframe\n",
    "results_df = results.get_dataframe()\n",
    "\n",
    "# Print some training stats\n",
    "print(f\"Total number of models: {results_df.shape[0]}\")\n",
    "print(f\"TOTAL TIME TAKEN: {total_time_taken:.2f} seconds\")\n",
    "best_result = results.get_best_result(metric=\"error\", mode=\"min\").config\n",
    "print(f\"Best result: {best_result}\")"
   ]
  },
  {
   "cell_type": "code",
   "execution_count": 20,
   "id": "997f71f2-3ded-48d6-b52d-d4eef0719e68",
   "metadata": {},
   "outputs": [
    {
     "name": "stdout",
     "output_type": "stream",
     "text": [
      "Index(['error', 'time_this_iter_s', 'should_checkpoint', 'done',\n",
      "       'timesteps_total', 'episodes_total', 'training_iteration', 'trial_id',\n",
      "       'experiment_id', 'date', 'timestamp', 'time_total_s', 'pid', 'hostname',\n",
      "       'node_ip', 'time_since_restore', 'timesteps_since_restore',\n",
      "       'iterations_since_restore', 'warmup_time', 'config/location',\n",
      "       'config/model', 'logdir'],\n",
      "      dtype='object')\n"
     ]
    },
    {
     "data": {
      "text/html": [
       "<div>\n",
       "<style scoped>\n",
       "    .dataframe tbody tr th:only-of-type {\n",
       "        vertical-align: middle;\n",
       "    }\n",
       "\n",
       "    .dataframe tbody tr th {\n",
       "        vertical-align: top;\n",
       "    }\n",
       "\n",
       "    .dataframe thead th {\n",
       "        text-align: right;\n",
       "    }\n",
       "</style>\n",
       "<table border=\"1\" class=\"dataframe\">\n",
       "  <thead>\n",
       "    <tr style=\"text-align: right;\">\n",
       "      <th></th>\n",
       "      <th></th>\n",
       "      <th>error</th>\n",
       "      <th>checkpoint</th>\n",
       "      <th>checkpoint_dir</th>\n",
       "    </tr>\n",
       "    <tr>\n",
       "      <th>location_id</th>\n",
       "      <th>model_name</th>\n",
       "      <th></th>\n",
       "      <th></th>\n",
       "      <th></th>\n",
       "    </tr>\n",
       "  </thead>\n",
       "  <tbody>\n",
       "    <tr>\n",
       "      <th>145</th>\n",
       "      <th>LinearRegression()</th>\n",
       "      <td>706.173014</td>\n",
       "      <td>/Users/christy/Documents/github_ray_temp/ray/d...</td>\n",
       "      <td>/Users/christy/Documents/github_ray_temp/ray/d...</td>\n",
       "    </tr>\n",
       "    <tr>\n",
       "      <th>166</th>\n",
       "      <th>LinearRegression()</th>\n",
       "      <td>272.062997</td>\n",
       "      <td>/Users/christy/Documents/github_ray_temp/ray/d...</td>\n",
       "      <td>/Users/christy/Documents/github_ray_temp/ray/d...</td>\n",
       "    </tr>\n",
       "    <tr>\n",
       "      <th>152</th>\n",
       "      <th>LinearRegression()</th>\n",
       "      <td>266.035645</td>\n",
       "      <td>/Users/christy/Documents/github_ray_temp/ray/d...</td>\n",
       "      <td>/Users/christy/Documents/github_ray_temp/ray/d...</td>\n",
       "    </tr>\n",
       "    <tr>\n",
       "      <th>145</th>\n",
       "      <th>DecisionTreeRegressor(max_depth=3)</th>\n",
       "      <td>461.833333</td>\n",
       "      <td>/Users/christy/Documents/github_ray_temp/ray/d...</td>\n",
       "      <td>/Users/christy/Documents/github_ray_temp/ray/d...</td>\n",
       "    </tr>\n",
       "    <tr>\n",
       "      <th>166</th>\n",
       "      <th>DecisionTreeRegressor(max_depth=3)</th>\n",
       "      <td>227.661902</td>\n",
       "      <td>/Users/christy/Documents/github_ray_temp/ray/d...</td>\n",
       "      <td>/Users/christy/Documents/github_ray_temp/ray/d...</td>\n",
       "    </tr>\n",
       "  </tbody>\n",
       "</table>\n",
       "</div>"
      ],
      "text/plain": [
       "                                                     error  \\\n",
       "location_id model_name                                       \n",
       "145         LinearRegression()                  706.173014   \n",
       "166         LinearRegression()                  272.062997   \n",
       "152         LinearRegression()                  266.035645   \n",
       "145         DecisionTreeRegressor(max_depth=3)  461.833333   \n",
       "166         DecisionTreeRegressor(max_depth=3)  227.661902   \n",
       "\n",
       "                                                                                       checkpoint  \\\n",
       "location_id model_name                                                                              \n",
       "145         LinearRegression()                  /Users/christy/Documents/github_ray_temp/ray/d...   \n",
       "166         LinearRegression()                  /Users/christy/Documents/github_ray_temp/ray/d...   \n",
       "152         LinearRegression()                  /Users/christy/Documents/github_ray_temp/ray/d...   \n",
       "145         DecisionTreeRegressor(max_depth=3)  /Users/christy/Documents/github_ray_temp/ray/d...   \n",
       "166         DecisionTreeRegressor(max_depth=3)  /Users/christy/Documents/github_ray_temp/ray/d...   \n",
       "\n",
       "                                                                                   checkpoint_dir  \n",
       "location_id model_name                                                                             \n",
       "145         LinearRegression()                  /Users/christy/Documents/github_ray_temp/ray/d...  \n",
       "166         LinearRegression()                  /Users/christy/Documents/github_ray_temp/ray/d...  \n",
       "152         LinearRegression()                  /Users/christy/Documents/github_ray_temp/ray/d...  \n",
       "145         DecisionTreeRegressor(max_depth=3)  /Users/christy/Documents/github_ray_temp/ray/d...  \n",
       "166         DecisionTreeRegressor(max_depth=3)  /Users/christy/Documents/github_ray_temp/ray/d...  "
      ]
     },
     "execution_count": 20,
     "metadata": {},
     "output_type": "execute_result"
    }
   ],
   "source": [
    "# Assemble Tune results into a pandas dataframe\n",
    "results_df = results.get_dataframe()\n",
    "print(results_df.columns)\n",
    "results_df = results_df[[\"config/location\", \"config/model\", \"error\", \"logdir\"]]\n",
    "results_df.rename(columns={'config/location':'location_id'}, inplace=True)\n",
    "results_df.rename(columns={'config/model':'model_name'}, inplace=True)\n",
    "results_df.set_index([\"location_id\", \"model_name\"], inplace=True)\n",
    "results_df['checkpoint'] = results_df['logdir'].apply(lambda x: x + \"/checkpoint_000000/model\")\n",
    "results_df['checkpoint_dir'] = results_df['logdir'].apply(lambda x: x + \"/checkpoint_000000\")\n",
    "results_df.drop(\"logdir\", axis=1, inplace=True)\n",
    "results_df.head()"
   ]
  },
  {
   "cell_type": "code",
   "execution_count": 21,
   "id": "612b4bc3-72e4-478f-b59c-83c78ebd7900",
   "metadata": {},
   "outputs": [
    {
     "name": "stdout",
     "output_type": "stream",
     "text": [
      "location_id         int64\n",
      "model_name         object\n",
      "error             float64\n",
      "checkpoint         object\n",
      "checkpoint_dir     object\n",
      "dtype: object\n"
     ]
    },
    {
     "data": {
      "text/html": [
       "<div>\n",
       "<style scoped>\n",
       "    .dataframe tbody tr th:only-of-type {\n",
       "        vertical-align: middle;\n",
       "    }\n",
       "\n",
       "    .dataframe tbody tr th {\n",
       "        vertical-align: top;\n",
       "    }\n",
       "\n",
       "    .dataframe thead th {\n",
       "        text-align: right;\n",
       "    }\n",
       "</style>\n",
       "<table border=\"1\" class=\"dataframe\">\n",
       "  <thead>\n",
       "    <tr style=\"text-align: right;\">\n",
       "      <th></th>\n",
       "      <th>location_id</th>\n",
       "      <th>model_name</th>\n",
       "      <th>error</th>\n",
       "      <th>checkpoint</th>\n",
       "      <th>checkpoint_dir</th>\n",
       "    </tr>\n",
       "  </thead>\n",
       "  <tbody>\n",
       "    <tr>\n",
       "      <th>0</th>\n",
       "      <td>152</td>\n",
       "      <td>DecisionTreeRegressor(max_depth=3)</td>\n",
       "      <td>224.300000</td>\n",
       "      <td>/Users/christy/Documents/github_ray_temp/ray/d...</td>\n",
       "      <td>/Users/christy/Documents/github_ray_temp/ray/d...</td>\n",
       "    </tr>\n",
       "    <tr>\n",
       "      <th>1</th>\n",
       "      <td>166</td>\n",
       "      <td>DecisionTreeRegressor(max_depth=3)</td>\n",
       "      <td>227.661902</td>\n",
       "      <td>/Users/christy/Documents/github_ray_temp/ray/d...</td>\n",
       "      <td>/Users/christy/Documents/github_ray_temp/ray/d...</td>\n",
       "    </tr>\n",
       "    <tr>\n",
       "      <th>2</th>\n",
       "      <td>145</td>\n",
       "      <td>DecisionTreeRegressor(max_depth=3)</td>\n",
       "      <td>461.833333</td>\n",
       "      <td>/Users/christy/Documents/github_ray_temp/ray/d...</td>\n",
       "      <td>/Users/christy/Documents/github_ray_temp/ray/d...</td>\n",
       "    </tr>\n",
       "  </tbody>\n",
       "</table>\n",
       "</div>"
      ],
      "text/plain": [
       "   location_id                          model_name       error  \\\n",
       "0          152  DecisionTreeRegressor(max_depth=3)  224.300000   \n",
       "1          166  DecisionTreeRegressor(max_depth=3)  227.661902   \n",
       "2          145  DecisionTreeRegressor(max_depth=3)  461.833333   \n",
       "\n",
       "                                          checkpoint  \\\n",
       "0  /Users/christy/Documents/github_ray_temp/ray/d...   \n",
       "1  /Users/christy/Documents/github_ray_temp/ray/d...   \n",
       "2  /Users/christy/Documents/github_ray_temp/ray/d...   \n",
       "\n",
       "                                      checkpoint_dir  \n",
       "0  /Users/christy/Documents/github_ray_temp/ray/d...  \n",
       "1  /Users/christy/Documents/github_ray_temp/ray/d...  \n",
       "2  /Users/christy/Documents/github_ray_temp/ray/d...  "
      ]
     },
     "execution_count": 21,
     "metadata": {},
     "output_type": "execute_result"
    }
   ],
   "source": [
    "# Keep only 1 model per location_id with minimum error\n",
    "final_df = results_df.reset_index()\n",
    "final_df = final_df.loc[final_df.groupby('location_id')['error'].idxmin()].copy()\n",
    "final_df.sort_values(by=[\"error\"], inplace=True)\n",
    "final_df.reset_index(inplace=True, drop=True)\n",
    "print(final_df.dtypes)\n",
    "final_df"
   ]
  },
  {
   "cell_type": "markdown",
   "id": "a4554830-1546-4353-a41e-621bdf46aeab",
   "metadata": {},
   "source": [
    "## Load a model from checkpoint and perform inference  <a class=\"anchor\" id=\"load_checkpoint\"></a>"
   ]
  },
  {
   "cell_type": "code",
   "execution_count": 26,
   "id": "6f5c78fa-38a9-4e8c-bddc-ffbb45aa2d85",
   "metadata": {},
   "outputs": [
    {
     "name": "stdout",
     "output_type": "stream",
     "text": [
      "/Users/christy/Documents/github_ray_temp/ray/doc/source/ray-air/examples/my_Tune_logs/batch_tuning/train_model_39d58_00005_5_location=152,model=DecisionTreeRegressor_max_depth_3_2022-11-08_01-32-15/checkpoint_000000\n",
      "<class 'ray.train.sklearn.sklearn_checkpoint.SklearnCheckpoint'>\n",
      "<class 'ray.train.sklearn.sklearn_predictor.SklearnPredictor'>\n"
     ]
    }
   ],
   "source": [
    "# Get a checkpoint_dir.\n",
    "checkpoint_path = final_df.checkpoint_dir[0]\n",
    "print(checkpoint_path)\n",
    "\n",
    "# In another function or script, recover Checkpoint object from path\n",
    "checkpoint = SklearnCheckpoint.from_directory(checkpoint_path)\n",
    "print(type(checkpoint))\n",
    "\n",
    "# Restore a predictor object from checkpoint\n",
    "predictor = SklearnPredictor.from_checkpoint(checkpoint)\n",
    "print(type(predictor))"
   ]
  },
  {
   "cell_type": "code",
   "execution_count": 27,
   "id": "a29cd1d1-68f1-4c79-ad87-51b1a01aacc3",
   "metadata": {},
   "outputs": [
    {
     "data": {
      "text/plain": [
       "152"
      ]
     },
     "execution_count": 27,
     "metadata": {},
     "output_type": "execute_result"
    }
   ],
   "source": [
    "# Get a location\n",
    "the_location = final_df.location_id[0]\n",
    "the_location"
   ]
  },
  {
   "cell_type": "code",
   "execution_count": 50,
   "id": "cb844fc1-2ae3-43dd-8737-5f8b7d0cbcd8",
   "metadata": {},
   "outputs": [],
   "source": [
    "# Create test data\n",
    "# TODO how to save the test data so you don't have to re-create it?\n",
    "df_list = [read_data(f, the_location) for f in s3_files]   \n",
    "df_raw = pd.concat(df_list, ignore_index=True)\n",
    "df = transform_df(df_raw)\n",
    "\n",
    "# Train/test split.\n",
    "train_df, test_df = train_test_split(df, test_size=0.2, shuffle=True)\n",
    "# train_X = train_df[[\"passenger_count\", \"trip_distance\"]]\n",
    "# train_y = train_df.trip_duration\n",
    "test_X = test_df[[\"passenger_count\", \"trip_distance\"]]\n",
    "test_y = test_df.trip_duration"
   ]
  },
  {
   "cell_type": "code",
   "execution_count": 51,
   "id": "0ee124fb-6546-4cd1-b3e1-b6116a7c51f2",
   "metadata": {},
   "outputs": [
    {
     "data": {
      "text/plain": [
       "0     989\n",
       "1    2398\n",
       "2     432\n",
       "3     741\n",
       "4     242\n",
       "Name: trip_duration, dtype: int64"
      ]
     },
     "execution_count": 51,
     "metadata": {},
     "output_type": "execute_result"
    }
   ],
   "source": [
    "# Re-index actual values\n",
    "test_y = test_y.reset_index(drop=True)\n",
    "test_y"
   ]
  },
  {
   "cell_type": "code",
   "execution_count": 52,
   "id": "b35ffd80-a5ed-4eb0-9bb0-bc5774aa2c0d",
   "metadata": {},
   "outputs": [
    {
     "data": {
      "text/html": [
       "<div>\n",
       "<style scoped>\n",
       "    .dataframe tbody tr th:only-of-type {\n",
       "        vertical-align: middle;\n",
       "    }\n",
       "\n",
       "    .dataframe tbody tr th {\n",
       "        vertical-align: top;\n",
       "    }\n",
       "\n",
       "    .dataframe thead th {\n",
       "        text-align: right;\n",
       "    }\n",
       "</style>\n",
       "<table border=\"1\" class=\"dataframe\">\n",
       "  <thead>\n",
       "    <tr style=\"text-align: right;\">\n",
       "      <th></th>\n",
       "      <th>predictions</th>\n",
       "      <th>trip_duration</th>\n",
       "    </tr>\n",
       "  </thead>\n",
       "  <tbody>\n",
       "    <tr>\n",
       "      <th>0</th>\n",
       "      <td>735.4</td>\n",
       "      <td>989</td>\n",
       "    </tr>\n",
       "    <tr>\n",
       "      <th>1</th>\n",
       "      <td>1520.2</td>\n",
       "      <td>2398</td>\n",
       "    </tr>\n",
       "    <tr>\n",
       "      <th>2</th>\n",
       "      <td>432.0</td>\n",
       "      <td>432</td>\n",
       "    </tr>\n",
       "    <tr>\n",
       "      <th>3</th>\n",
       "      <td>735.4</td>\n",
       "      <td>741</td>\n",
       "    </tr>\n",
       "    <tr>\n",
       "      <th>4</th>\n",
       "      <td>239.0</td>\n",
       "      <td>242</td>\n",
       "    </tr>\n",
       "  </tbody>\n",
       "</table>\n",
       "</div>"
      ],
      "text/plain": [
       "   predictions  trip_duration\n",
       "0        735.4            989\n",
       "1       1520.2           2398\n",
       "2        432.0            432\n",
       "3        735.4            741\n",
       "4        239.0            242"
      ]
     },
     "execution_count": 52,
     "metadata": {},
     "output_type": "execute_result"
    }
   ],
   "source": [
    "# Inference using restored model from checkpoint\n",
    "pred_y = predictor.predict(test_X)\n",
    "pd.concat([pred_y, test_y], axis=1, sort=False, join=\"outer\") "
   ]
  },
  {
   "cell_type": "code",
   "execution_count": 55,
   "id": "243a7f6c-3d74-42c1-b2d4-caba0cfa1393",
   "metadata": {},
   "outputs": [
    {
     "name": "stdout",
     "output_type": "stream",
     "text": [
      "Test error: 228.0\n"
     ]
    }
   ],
   "source": [
    "# Evaluate.\n",
    "error = sklearn.metrics.mean_absolute_error(test_y, pred_y)\n",
    "print(f\"Test error: {error}\")"
   ]
  },
  {
   "cell_type": "code",
   "execution_count": 54,
   "id": "526709cc-be4c-4cbf-99c0-ee10a916ef0b",
   "metadata": {},
   "outputs": [
    {
     "name": "stdout",
     "output_type": "stream",
     "text": [
      "Train error: 224.3\n"
     ]
    }
   ],
   "source": [
    "# Compare test error with train error\n",
    "print(f\"Train error: {final_df.error[0]}\")"
   ]
  },
  {
   "cell_type": "code",
   "execution_count": null,
   "id": "d9b3e343-48ba-4756-96dd-017e2a84f2e6",
   "metadata": {},
   "outputs": [],
   "source": []
  }
 ],
 "metadata": {
  "kernelspec": {
   "display_name": "Python 3 (ipykernel)",
   "language": "python",
   "name": "python3"
  },
  "language_info": {
   "codemirror_mode": {
    "name": "ipython",
    "version": 3
   },
   "file_extension": ".py",
   "mimetype": "text/x-python",
   "name": "python",
   "nbconvert_exporter": "python",
   "pygments_lexer": "ipython3",
   "version": "3.8.13"
  }
 },
 "nbformat": 4,
 "nbformat_minor": 5
}
