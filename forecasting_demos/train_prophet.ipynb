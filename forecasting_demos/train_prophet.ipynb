{
 "cells": [
  {
   "cell_type": "code",
   "execution_count": 1,
   "id": "e2a1175d",
   "metadata": {},
   "outputs": [],
   "source": [
    "# For reading from partitioned cloud storage paths.\n",
    "import pyarrow.dataset as pds\n",
    "import pyarrow.parquet as pq\n",
    "import pandas as pd\n",
    "import time, dateutil\n",
    "from dateutil.relativedelta import relativedelta\n",
    "\n",
    "# Define some global variables.\n",
    "s3_partitions = pds.dataset(\n",
    "    \"s3://anonymous@air-example-data/ursa-labs-taxi-data/by_year/2018/\",\n",
    "    partitioning=[\"month\"],\n",
    ")\n",
    "models_to_train = [f\"s3://anonymous@{file}\" for file in s3_partitions.files]\n",
    "SAMPLE_UNIQUE_ID = 141\n",
    "FORECAST_LENGTH = 28"
   ]
  },
  {
   "cell_type": "code",
   "execution_count": 2,
   "id": "6b05a34e",
   "metadata": {},
   "outputs": [
    {
     "name": "stderr",
     "output_type": "stream",
     "text": [
      "2023-01-12 16:43:37,581\tINFO worker.py:1230 -- Using address localhost:9031 set in the environment variable RAY_ADDRESS\n",
      "2023-01-12 16:43:37,582\tINFO worker.py:1352 -- Connecting to existing Ray cluster at address: 172.31.174.66:9031...\n",
      "2023-01-12 16:43:37,588\tINFO worker.py:1529 -- Connected to Ray cluster. View the dashboard at \u001b[1m\u001b[32mhttps://console.anyscale-staging.com/api/v2/sessions/ses_b5q8xHd42BTdukSgFqTxejLT/services?redirect_to=dashboard \u001b[39m\u001b[22m\n"
     ]
    },
    {
     "data": {
      "text/html": [
       "<div>\n",
       "    <div style=\"margin-left: 50px;display: flex;flex-direction: row;align-items: center\">\n",
       "        <h3 style=\"color: var(--jp-ui-font-color0)\">Ray</h3>\n",
       "        <svg version=\"1.1\" id=\"ray\" width=\"3em\" viewBox=\"0 0 144.5 144.6\" style=\"margin-left: 3em;margin-right: 3em\">\n",
       "            <g id=\"layer-1\">\n",
       "                <path fill=\"#00a2e9\" class=\"st0\" d=\"M97.3,77.2c-3.8-1.1-6.2,0.9-8.3,5.1c-3.5,6.8-9.9,9.9-17.4,9.6S58,88.1,54.8,81.2c-1.4-3-3-4-6.3-4.1\n",
       "                    c-5.6-0.1-9.9,0.1-13.1,6.4c-3.8,7.6-13.6,10.2-21.8,7.6C5.2,88.4-0.4,80.5,0,71.7c0.1-8.4,5.7-15.8,13.8-18.2\n",
       "                    c8.4-2.6,17.5,0.7,22.3,8c1.3,1.9,1.3,5.2,3.6,5.6c3.9,0.6,8,0.2,12,0.2c1.8,0,1.9-1.6,2.4-2.8c3.5-7.8,9.7-11.8,18-11.9\n",
       "                    c8.2-0.1,14.4,3.9,17.8,11.4c1.3,2.8,2.9,3.6,5.7,3.3c1-0.1,2,0.1,3,0c2.8-0.5,6.4,1.7,8.1-2.7s-2.3-5.5-4.1-7.5\n",
       "                    c-5.1-5.7-10.9-10.8-16.1-16.3C84,38,81.9,37.1,78,38.3C66.7,42,56.2,35.7,53,24.1C50.3,14,57.3,2.8,67.7,0.5\n",
       "                    C78.4-2,89,4.7,91.5,15.3c0.1,0.3,0.1,0.5,0.2,0.8c0.7,3.4,0.7,6.9-0.8,9.8c-1.7,3.2-0.8,5,1.5,7.2c6.7,6.5,13.3,13,19.8,19.7\n",
       "                    c1.8,1.8,3,2.1,5.5,1.2c9.1-3.4,17.9-0.6,23.4,7c4.8,6.9,4.6,16.1-0.4,22.9c-5.4,7.2-14.2,9.9-23.1,6.5c-2.3-0.9-3.5-0.6-5.1,1.1\n",
       "                    c-6.7,6.9-13.6,13.7-20.5,20.4c-1.8,1.8-2.5,3.2-1.4,5.9c3.5,8.7,0.3,18.6-7.7,23.6c-7.9,5-18.2,3.8-24.8-2.9\n",
       "                    c-6.4-6.4-7.4-16.2-2.5-24.3c4.9-7.8,14.5-11,23.1-7.8c3,1.1,4.7,0.5,6.9-1.7C91.7,98.4,98,92.3,104.2,86c1.6-1.6,4.1-2.7,2.6-6.2\n",
       "                    c-1.4-3.3-3.8-2.5-6.2-2.6C99.8,77.2,98.9,77.2,97.3,77.2z M72.1,29.7c5.5,0.1,9.9-4.3,10-9.8c0-0.1,0-0.2,0-0.3\n",
       "                    C81.8,14,77,9.8,71.5,10.2c-5,0.3-9,4.2-9.3,9.2c-0.2,5.5,4,10.1,9.5,10.3C71.8,29.7,72,29.7,72.1,29.7z M72.3,62.3\n",
       "                    c-5.4-0.1-9.9,4.2-10.1,9.7c0,0.2,0,0.3,0,0.5c0.2,5.4,4.5,9.7,9.9,10c5.1,0.1,9.9-4.7,10.1-9.8c0.2-5.5-4-10-9.5-10.3\n",
       "                    C72.6,62.3,72.4,62.3,72.3,62.3z M115,72.5c0.1,5.4,4.5,9.7,9.8,9.9c5.6-0.2,10-4.8,10-10.4c-0.2-5.4-4.6-9.7-10-9.7\n",
       "                    c-5.3-0.1-9.8,4.2-9.9,9.5C115,72.1,115,72.3,115,72.5z M19.5,62.3c-5.4,0.1-9.8,4.4-10,9.8c-0.1,5.1,5.2,10.4,10.2,10.3\n",
       "                    c5.6-0.2,10-4.9,9.8-10.5c-0.1-5.4-4.5-9.7-9.9-9.6C19.6,62.3,19.5,62.3,19.5,62.3z M71.8,134.6c5.9,0.2,10.3-3.9,10.4-9.6\n",
       "                    c0.5-5.5-3.6-10.4-9.1-10.8c-5.5-0.5-10.4,3.6-10.8,9.1c0,0.5,0,0.9,0,1.4c-0.2,5.3,4,9.8,9.3,10\n",
       "                    C71.6,134.6,71.7,134.6,71.8,134.6z\"/>\n",
       "            </g>\n",
       "        </svg>\n",
       "        <table>\n",
       "            <tr>\n",
       "                <td style=\"text-align: left\"><b>Python version:</b></td>\n",
       "                <td style=\"text-align: left\"><b>3.8.13</b></td>\n",
       "            </tr>\n",
       "            <tr>\n",
       "                <td style=\"text-align: left\"><b>Ray version:</b></td>\n",
       "                <td style=\"text-align: left\"><b> 2.2.0</b></td>\n",
       "            </tr>\n",
       "            <tr>\n",
       "    <td style=\"text-align: left\"><b>Dashboard:</b></td>\n",
       "    <td style=\"text-align: left\"><b><a href=\"http://console.anyscale-staging.com/api/v2/sessions/ses_b5q8xHd42BTdukSgFqTxejLT/services?redirect_to=dashboard\" target=\"_blank\">http://console.anyscale-staging.com/api/v2/sessions/ses_b5q8xHd42BTdukSgFqTxejLT/services?redirect_to=dashboard</a></b></td>\n",
       "</tr>\n",
       "\n",
       "        </table>\n",
       "    </div>\n",
       "</div>\n"
      ],
      "text/plain": [
       "RayContext(dashboard_url='console.anyscale-staging.com/api/v2/sessions/ses_b5q8xHd42BTdukSgFqTxejLT/services?redirect_to=dashboard', python_version='3.8.13', ray_version='2.2.0', ray_commit='b6af0887ee5f2e460202133791ad941a41f15beb', address_info={'node_ip_address': '172.31.174.66', 'raylet_ip_address': '172.31.174.66', 'redis_address': None, 'object_store_address': '/tmp/ray/session_2023-01-12_15-49-04_162665_159/sockets/plasma_store', 'raylet_socket_name': '/tmp/ray/session_2023-01-12_15-49-04_162665_159/sockets/raylet', 'webui_url': 'console.anyscale-staging.com/api/v2/sessions/ses_b5q8xHd42BTdukSgFqTxejLT/services?redirect_to=dashboard', 'session_dir': '/tmp/ray/session_2023-01-12_15-49-04_162665_159', 'metrics_export_port': 59798, 'gcs_address': '172.31.174.66:9031', 'address': '172.31.174.66:9031', 'dashboard_agent_listen_port': 52365, 'node_id': 'b79fbd858f0e91863e5219ddd6c00b7e23c8d81e3677deede03f6186'})"
      ]
     },
     "execution_count": 2,
     "metadata": {},
     "output_type": "execute_result"
    }
   ],
   "source": [
    "import ray\n",
    "\n",
    "if ray.is_initialized():\n",
    "    ray.shutdown()\n",
    "ray.init()"
   ]
  },
  {
   "cell_type": "code",
   "execution_count": 3,
   "id": "c0ae546a",
   "metadata": {},
   "outputs": [
    {
     "name": "stdout",
     "output_type": "stream",
     "text": [
      "{'CPU': 24.0, 'memory': 66380792627.0, 'object_store_memory': 27585344716.0, 'node:172.31.174.66': 1.0, 'node:172.31.206.127': 1.0}\n"
     ]
    }
   ],
   "source": [
    "print(ray.cluster_resources())"
   ]
  },
  {
   "cell_type": "code",
   "execution_count": 4,
   "id": "a49a64b6",
   "metadata": {},
   "outputs": [],
   "source": [
    "# # Test read data\n",
    "# file_path = models_to_train[0]\n",
    "# print(f\"reading file: {file_path}\")\n",
    "# data = pq.read_table(\n",
    "#     file_path,\n",
    "#     filters=[ (\"pickup_location_id\", \"=\", SAMPLE_UNIQUE_ID) ],\n",
    "#     columns=[ \"pickup_at\", \"dropoff_at\", \"pickup_location_id\", \"dropoff_location_id\", \n",
    "#               \"passenger_count\", \"trip_distance\", \"fare_amount\" ],\n",
    "# ).to_pandas()\n",
    "# data[\"ds\"] = data[\"pickup_at\"].dt.to_period(\"D\").dt.to_timestamp()\n",
    "# data.rename(columns={\"trip_distance\": \"y\"}, inplace=True)\n",
    "# print(data.head(2))"
   ]
  },
  {
   "cell_type": "code",
   "execution_count": 5,
   "id": "37713375",
   "metadata": {},
   "outputs": [],
   "source": [
    "# data.shape"
   ]
  },
  {
   "cell_type": "code",
   "execution_count": 6,
   "id": "dfcfc491",
   "metadata": {},
   "outputs": [],
   "source": [
    "# # Test train your model\n",
    "# print(f\"training model...\")\n",
    "# import prophet\n",
    "# from prophet import Prophet\n",
    "# # Split data into train, test.\n",
    "# train_end = data.ds.max() - relativedelta(days=FORECAST_LENGTH - 1)\n",
    "# train_df = data.loc[(data.ds <= train_end), :].copy()\n",
    "# test_df = data.iloc[-(FORECAST_LENGTH):, :].copy()\n",
    "# print(train_df.shape, test_df.shape)\n",
    "\n",
    "# # Define Prophet model with 75% confidence interval.\n",
    "# model = Prophet(interval_width=0.75, seasonality_mode=\"multiplicative\") \n",
    "# print(type(model))\n",
    "\n",
    "# # Train and fit Prophet model.\n",
    "# model = model.fit(train_df[[\"ds\", \"y\"]])\n",
    "# print(type(model))"
   ]
  },
  {
   "cell_type": "code",
   "execution_count": 7,
   "id": "68f5b1e2",
   "metadata": {},
   "outputs": [],
   "source": [
    "def train_model(file_path: str):\n",
    "    data = pq.read_table(file_path,\n",
    "                         filters=[ (\"pickup_location_id\", \"=\", SAMPLE_UNIQUE_ID) ],\n",
    "                         columns=[ \"pickup_at\", \"pickup_location_id\", \"trip_distance\" ],\n",
    "                        ).to_pandas()\n",
    "    # Read a pyarrow parquet S3 file.\n",
    "    data[\"ds\"] = data[\"pickup_at\"].dt.to_period(\"D\").dt.to_timestamp()\n",
    "    data.rename(columns={\"trip_distance\": \"y\"}, inplace=True)\n",
    "    data.drop(\"pickup_at\", inplace=True, axis=1)\n",
    "    unique_id = data[\"pickup_location_id\"][0]\n",
    "\n",
    "    # Split data into train, test.\n",
    "    train_end = data.ds.max() - relativedelta(days=FORECAST_LENGTH - 1)\n",
    "    train_df = data.loc[(data.ds <= train_end), :].copy()\n",
    "    test_df = data.iloc[-(FORECAST_LENGTH):, :].copy()\n",
    "    \n",
    "    # Define Prophet model with 75% confidence interval.\n",
    "    import prophet\n",
    "    from prophet import Prophet\n",
    "    model = Prophet(interval_width=0.75, seasonality_mode=\"multiplicative\")      \n",
    "\n",
    "    # Train and fit Prophet model.\n",
    "    model = model.fit(train_df[[\"ds\", \"y\"]])\n",
    "\n",
    "    return train_df, test_df, model, unique_id"
   ]
  },
  {
   "cell_type": "markdown",
   "id": "43e7d942",
   "metadata": {},
   "source": [
    "# Serial Python"
   ]
  },
  {
   "cell_type": "code",
   "execution_count": 8,
   "id": "a14c076a",
   "metadata": {},
   "outputs": [
    {
     "name": "stdout",
     "output_type": "stream",
     "text": [
      "Training model serially s3://anonymous@air-example-data/ursa-labs-taxi-data/by_year/2018/01/data.parquet/4d6bc4368704460d90c92c22e05a2220_000000.parquet\n"
     ]
    },
    {
     "name": "stderr",
     "output_type": "stream",
     "text": [
      "INFO:prophet:Disabling daily seasonality. Run prophet with daily_seasonality=True to override this.\n",
      "/home/ray/anaconda3/lib/python3.8/site-packages/prophet/forecaster.py:896: FutureWarning: The frame.append method is deprecated and will be removed from pandas in a future version. Use pandas.concat instead.\n",
      "  components = components.append(new_comp)\n"
     ]
    },
    {
     "name": "stdout",
     "output_type": "stream",
     "text": [
      "Initial log joint probability = -48.6877\n",
      "(27910, 3) (28, 3) <class 'prophet.forecaster.Prophet'>\n",
      "Training model serially s3://anonymous@air-example-data/ursa-labs-taxi-data/by_year/2018/02/data.parquet/e817946252d1409b93964685130e76cb_000000.parquet\n",
      "    Iter      log prob        ||dx||      ||grad||       alpha      alpha0  # evals  Notes \n",
      "      48       66815.7   1.38389e-05        100.35      0.4352      0.4352       72   \n",
      "Optimization terminated normally: \n",
      "  Convergence detected: relative gradient magnitude is below tolerance\n"
     ]
    },
    {
     "name": "stderr",
     "output_type": "stream",
     "text": [
      "INFO:prophet:Disabling yearly seasonality. Run prophet with yearly_seasonality=True to override this.\n",
      "INFO:prophet:Disabling daily seasonality. Run prophet with daily_seasonality=True to override this.\n",
      "/home/ray/anaconda3/lib/python3.8/site-packages/prophet/forecaster.py:896: FutureWarning: The frame.append method is deprecated and will be removed from pandas in a future version. Use pandas.concat instead.\n",
      "  components = components.append(new_comp)\n"
     ]
    },
    {
     "name": "stdout",
     "output_type": "stream",
     "text": [
      "Initial log joint probability = -233.643\n",
      "    Iter      log prob        ||dx||      ||grad||       alpha      alpha0  # evals  Notes \n",
      "      99        540798   0.000386738       2374.21        0.43           1      132   \n",
      "    Iter      log prob        ||dx||      ||grad||       alpha      alpha0  # evals  Notes \n",
      "     199        540804   0.000411169       665.489           1           1      258   \n",
      "    Iter      log prob        ||dx||      ||grad||       alpha      alpha0  # evals  Notes \n",
      "     213        540804   3.59852e-05       216.267           1           1      274   \n",
      "Optimization terminated normally: \n",
      "  Convergence detected: relative gradient magnitude is below tolerance\n",
      "(199625, 3) (28, 3) <class 'prophet.forecaster.Prophet'>\n",
      "Training model serially s3://anonymous@air-example-data/ursa-labs-taxi-data/by_year/2018/03/data.parquet/0b7e5121a4904c64be5e91ceec0eee2f_000000.parquet\n"
     ]
    },
    {
     "name": "stderr",
     "output_type": "stream",
     "text": [
      "INFO:prophet:Disabling daily seasonality. Run prophet with daily_seasonality=True to override this.\n",
      "/home/ray/anaconda3/lib/python3.8/site-packages/prophet/forecaster.py:896: FutureWarning: The frame.append method is deprecated and will be removed from pandas in a future version. Use pandas.concat instead.\n",
      "  components = components.append(new_comp)\n"
     ]
    },
    {
     "name": "stdout",
     "output_type": "stream",
     "text": [
      "Initial log joint probability = -152.634\n",
      "(37205, 3) (28, 3) <class 'prophet.forecaster.Prophet'>\n",
      "Training model serially s3://anonymous@air-example-data/ursa-labs-taxi-data/by_year/2018/04/data.parquet/f40c2c2806e548bfac8336de9c19a423_000000.parquet\n",
      "    Iter      log prob        ||dx||      ||grad||       alpha      alpha0  # evals  Notes \n",
      "      29       72975.1    9.7916e-08       108.394    0.001269           1       62   \n",
      "Optimization terminated normally: \n",
      "  Convergence detected: relative change in objective function was below tolerance\n"
     ]
    },
    {
     "name": "stderr",
     "output_type": "stream",
     "text": [
      "INFO:prophet:Disabling daily seasonality. Run prophet with daily_seasonality=True to override this.\n",
      "/home/ray/anaconda3/lib/python3.8/site-packages/prophet/forecaster.py:896: FutureWarning: The frame.append method is deprecated and will be removed from pandas in a future version. Use pandas.concat instead.\n",
      "  components = components.append(new_comp)\n"
     ]
    },
    {
     "name": "stdout",
     "output_type": "stream",
     "text": [
      "Initial log joint probability = -37.4824\n",
      "(17849, 3) (28, 3) <class 'prophet.forecaster.Prophet'>\n",
      "Training model serially s3://anonymous@air-example-data/ursa-labs-taxi-data/by_year/2018/05/data.parquet/a5de27164fda47988dec2576685656ae_000000.parquet\n",
      "    Iter      log prob        ||dx||      ||grad||       alpha      alpha0  # evals  Notes \n",
      "      22       41025.6   1.38064e-05       90.2316   1.474e-07       0.001       83  LS failed, Hessian reset \n",
      "      27       41025.6   1.99619e-08       90.0562    0.009105           1      105   \n",
      "Optimization terminated normally: \n",
      "  Convergence detected: relative gradient magnitude is below tolerance\n"
     ]
    },
    {
     "name": "stderr",
     "output_type": "stream",
     "text": [
      "INFO:prophet:Disabling yearly seasonality. Run prophet with yearly_seasonality=True to override this.\n",
      "INFO:prophet:Disabling weekly seasonality. Run prophet with weekly_seasonality=True to override this.\n",
      "INFO:prophet:Disabling daily seasonality. Run prophet with daily_seasonality=True to override this.\n"
     ]
    },
    {
     "name": "stdout",
     "output_type": "stream",
     "text": [
      "Initial log joint probability = -9.08708\n",
      "(29601, 3) (28, 3) <class 'prophet.forecaster.Prophet'>\n",
      "Training model serially s3://anonymous@air-example-data/ursa-labs-taxi-data/by_year/2018/06/data.parquet/df104576ffed4e308b72941df90f7790_000000.parquet\n",
      "    Iter      log prob        ||dx||      ||grad||       alpha      alpha0  # evals  Notes \n",
      "      26       99729.3   3.96954e-05       91.2016           1           1       40   \n",
      "Optimization terminated normally: \n",
      "  Convergence detected: relative gradient magnitude is below tolerance\n"
     ]
    },
    {
     "name": "stderr",
     "output_type": "stream",
     "text": [
      "INFO:prophet:Disabling daily seasonality. Run prophet with daily_seasonality=True to override this.\n",
      "/home/ray/anaconda3/lib/python3.8/site-packages/prophet/forecaster.py:896: FutureWarning: The frame.append method is deprecated and will be removed from pandas in a future version. Use pandas.concat instead.\n",
      "  components = components.append(new_comp)\n"
     ]
    },
    {
     "name": "stdout",
     "output_type": "stream",
     "text": [
      "Initial log joint probability = -345.36\n",
      "(200845, 3) (28, 3) <class 'prophet.forecaster.Prophet'>\n",
      "Training model serially s3://anonymous@air-example-data/ursa-labs-taxi-data/by_year/2018/07/data.parquet/ccdef45e50de4678b7e589155f372a3d_000000.parquet\n",
      "    Iter      log prob        ||dx||      ||grad||       alpha      alpha0  # evals  Notes \n",
      "      89        492630   8.82699e-05       131.396           1           1      121   \n",
      "Optimization terminated normally: \n",
      "  Convergence detected: relative gradient magnitude is below tolerance\n"
     ]
    },
    {
     "name": "stderr",
     "output_type": "stream",
     "text": [
      "INFO:prophet:Disabling daily seasonality. Run prophet with daily_seasonality=True to override this.\n",
      "/home/ray/anaconda3/lib/python3.8/site-packages/prophet/forecaster.py:896: FutureWarning: The frame.append method is deprecated and will be removed from pandas in a future version. Use pandas.concat instead.\n",
      "  components = components.append(new_comp)\n"
     ]
    },
    {
     "name": "stdout",
     "output_type": "stream",
     "text": [
      "Initial log joint probability = -160.107\n",
      "    Iter      log prob        ||dx||      ||grad||       alpha      alpha0  # evals  Notes \n",
      "      36        476922   0.000417623       264.632           1           1       57   \n",
      "Optimization terminated normally: \n",
      "  Convergence detected: relative gradient magnitude is below tolerance\n",
      "(174322, 3) (28, 3) <class 'prophet.forecaster.Prophet'>\n",
      "Training model serially s3://anonymous@air-example-data/ursa-labs-taxi-data/by_year/2018/08/data.parquet/9d605bf8abf84655997d491bc5a10a4c_000000.parquet\n"
     ]
    },
    {
     "name": "stderr",
     "output_type": "stream",
     "text": [
      "INFO:prophet:Disabling daily seasonality. Run prophet with daily_seasonality=True to override this.\n",
      "/home/ray/anaconda3/lib/python3.8/site-packages/prophet/forecaster.py:896: FutureWarning: The frame.append method is deprecated and will be removed from pandas in a future version. Use pandas.concat instead.\n",
      "  components = components.append(new_comp)\n"
     ]
    },
    {
     "name": "stdout",
     "output_type": "stream",
     "text": [
      "Initial log joint probability = -164.625\n",
      "    Iter      log prob        ||dx||      ||grad||       alpha      alpha0  # evals  Notes \n",
      "      53        499170   0.000103375       151.314           1           1       91   \n",
      "Optimization terminated normally: \n",
      "  Convergence detected: relative gradient magnitude is below tolerance\n",
      "(175063, 3) (28, 3) <class 'prophet.forecaster.Prophet'>\n",
      "Training model serially s3://anonymous@air-example-data/ursa-labs-taxi-data/by_year/2018/09/data.parquet/b200f3d9bf9f485ebd3b20c0c08711e1_000000.parquet\n"
     ]
    },
    {
     "name": "stderr",
     "output_type": "stream",
     "text": [
      "INFO:prophet:Disabling daily seasonality. Run prophet with daily_seasonality=True to override this.\n",
      "/home/ray/anaconda3/lib/python3.8/site-packages/prophet/forecaster.py:896: FutureWarning: The frame.append method is deprecated and will be removed from pandas in a future version. Use pandas.concat instead.\n",
      "  components = components.append(new_comp)\n"
     ]
    },
    {
     "name": "stdout",
     "output_type": "stream",
     "text": [
      "Initial log joint probability = -1823.76\n",
      "    Iter      log prob        ||dx||      ||grad||       alpha      alpha0  # evals  Notes \n",
      "      64        497590   0.000354387       197.759           1           1       97   \n",
      "Optimization terminated normally: \n",
      "  Convergence detected: relative gradient magnitude is below tolerance\n",
      "(188795, 3) (28, 3) <class 'prophet.forecaster.Prophet'>\n",
      "Training model serially s3://anonymous@air-example-data/ursa-labs-taxi-data/by_year/2018/10/data.parquet/20624e28db574114b47de3e43065f014_000000.parquet\n"
     ]
    },
    {
     "name": "stderr",
     "output_type": "stream",
     "text": [
      "INFO:prophet:Disabling daily seasonality. Run prophet with daily_seasonality=True to override this.\n",
      "/home/ray/anaconda3/lib/python3.8/site-packages/prophet/forecaster.py:896: FutureWarning: The frame.append method is deprecated and will be removed from pandas in a future version. Use pandas.concat instead.\n",
      "  components = components.append(new_comp)\n"
     ]
    },
    {
     "name": "stdout",
     "output_type": "stream",
     "text": [
      "Initial log joint probability = -119.679\n",
      "(65543, 3) (28, 3) <class 'prophet.forecaster.Prophet'>\n",
      "Training model serially s3://anonymous@air-example-data/ursa-labs-taxi-data/by_year/2018/11/data.parquet/9c3fe546f3d746eeb3225b8150fb26e6_000000.parquet\n",
      "    Iter      log prob        ||dx||      ||grad||       alpha      alpha0  # evals  Notes \n",
      "      99        154347    0.00161459       352.178           1           1      136   \n",
      "    Iter      log prob        ||dx||      ||grad||       alpha      alpha0  # evals  Notes \n",
      "     199        154348   8.56524e-05       111.334      0.1246      0.1246      278   \n",
      "    Iter      log prob        ||dx||      ||grad||       alpha      alpha0  # evals  Notes \n",
      "     203        154348   1.11388e-05       225.793   9.141e-08       0.001      331  LS failed, Hessian reset \n",
      "     254        154348    8.4487e-07       127.579     0.07411     0.07411      405   \n",
      "Optimization terminated normally: \n",
      "  Convergence detected: relative gradient magnitude is below tolerance\n"
     ]
    },
    {
     "name": "stderr",
     "output_type": "stream",
     "text": [
      "INFO:prophet:Disabling yearly seasonality. Run prophet with yearly_seasonality=True to override this.\n",
      "INFO:prophet:Disabling weekly seasonality. Run prophet with weekly_seasonality=True to override this.\n",
      "INFO:prophet:Disabling daily seasonality. Run prophet with daily_seasonality=True to override this.\n"
     ]
    },
    {
     "name": "stdout",
     "output_type": "stream",
     "text": [
      "Initial log joint probability = -17.4955\n",
      "(28435, 3) (28, 3) <class 'prophet.forecaster.Prophet'>\n",
      "Training model serially s3://anonymous@air-example-data/ursa-labs-taxi-data/by_year/2018/12/data.parquet/d9829239c5d34340a7d9ba256917ed98_000000.parquet\n",
      "    Iter      log prob        ||dx||      ||grad||       alpha      alpha0  # evals  Notes \n",
      "      62       85944.2   2.82334e-05       54.3035      0.6341      0.6341       81   \n",
      "Optimization terminated normally: \n",
      "  Convergence detected: relative gradient magnitude is below tolerance\n"
     ]
    },
    {
     "name": "stderr",
     "output_type": "stream",
     "text": [
      "INFO:prophet:Disabling daily seasonality. Run prophet with daily_seasonality=True to override this.\n",
      "/home/ray/anaconda3/lib/python3.8/site-packages/prophet/forecaster.py:896: FutureWarning: The frame.append method is deprecated and will be removed from pandas in a future version. Use pandas.concat instead.\n",
      "  components = components.append(new_comp)\n"
     ]
    },
    {
     "name": "stdout",
     "output_type": "stream",
     "text": [
      "Initial log joint probability = -25.9776\n",
      "(34718, 3) (28, 3) <class 'prophet.forecaster.Prophet'>\n",
      "Total number of models: 12\n",
      "TOTAL TIME TAKEN: 2.36 minutes\n",
      "    Iter      log prob        ||dx||      ||grad||       alpha      alpha0  # evals  Notes \n",
      "      33       98233.1   1.05682e-05       158.468      0.4022           1       67   \n",
      "Optimization terminated normally: \n",
      "  Convergence detected: relative gradient magnitude is below tolerance\n"
     ]
    }
   ],
   "source": [
    "# This will take much too long serially.\n",
    "start = time.time()\n",
    "for file in models_to_train:\n",
    "    print(\"Training model serially\", file)\n",
    "    train_df, test_df, model, unique_id = train_model(file)\n",
    "    print(train_df.shape, test_df.shape, type(model))\n",
    "\n",
    "time_regular_python = time.time() - start\n",
    "print(f\"Total number of models: {len(models_to_train)}\")\n",
    "print(f\"TOTAL TIME TAKEN: {time_regular_python/60:.2f} minutes\")\n",
    "\n",
    "# Total number of models: 12\n",
    "# TOTAL TIME TAKEN: 2.34 minutes\n",
    "# Ran on 1-node AWS cluster of m5.4xlarges"
   ]
  },
  {
   "cell_type": "markdown",
   "id": "959219df",
   "metadata": {},
   "source": [
    "# Ray Multiprocessing"
   ]
  },
  {
   "cell_type": "code",
   "execution_count": 9,
   "id": "c788ff7f",
   "metadata": {},
   "outputs": [
    {
     "data": {
      "text/plain": [
       "12"
      ]
     },
     "execution_count": 9,
     "metadata": {},
     "output_type": "execute_result"
    }
   ],
   "source": [
    "len(models_to_train)"
   ]
  },
  {
   "cell_type": "code",
   "execution_count": null,
   "id": "758e73ef",
   "metadata": {},
   "outputs": [
    {
     "name": "stdout",
     "output_type": "stream",
     "text": [
      "\u001b[2m\u001b[1m\u001b[36m(scheduler +10m44s)\u001b[0m Adding 1 node(s) of type worker-node-type-0.\n",
      "\u001b[2m\u001b[1m\u001b[36m(scheduler +13m49s)\u001b[0m Resized to 72 CPUs.\n",
      "\u001b[2m\u001b[1m\u001b[36m(scheduler +14m2s)\u001b[0m Adding 1 node(s) of type worker-node-type-0.\n"
     ]
    },
    {
     "name": "stderr",
     "output_type": "stream",
     "text": [
      "  0%|          | 0/12 [00:00<?, ?it/s]\u001b[2m\u001b[36m(PoolActor pid=7270, ip=172.31.176.112)\u001b[0m INFO:prophet:Disabling yearly seasonality. Run prophet with yearly_seasonality=True to override this.\n",
      "\u001b[2m\u001b[36m(PoolActor pid=7270, ip=172.31.176.112)\u001b[0m INFO:prophet:Disabling weekly seasonality. Run prophet with weekly_seasonality=True to override this.\n",
      "\u001b[2m\u001b[36m(PoolActor pid=7270, ip=172.31.176.112)\u001b[0m INFO:prophet:Disabling daily seasonality. Run prophet with daily_seasonality=True to override this.\n",
      "\u001b[2m\u001b[36m(PoolActor pid=7268, ip=172.31.176.112)\u001b[0m INFO:prophet:Disabling daily seasonality. Run prophet with daily_seasonality=True to override this.\n",
      "\u001b[2m\u001b[36m(PoolActor pid=7271, ip=172.31.176.112)\u001b[0m INFO:prophet:Disabling daily seasonality. Run prophet with daily_seasonality=True to override this.\n",
      "\u001b[2m\u001b[36m(PoolActor pid=5130, ip=172.31.170.171)\u001b[0m INFO:prophet:Disabling daily seasonality. Run prophet with daily_seasonality=True to override this.\n"
     ]
    },
    {
     "name": "stdout",
     "output_type": "stream",
     "text": [
      "\u001b[2m\u001b[36m(PoolActor pid=7270, ip=172.31.176.112)\u001b[0m Initial log joint probability = -17.4955\n",
      "\u001b[2m\u001b[36m(PoolActor pid=7270, ip=172.31.176.112)\u001b[0m     Iter      log prob        ||dx||      ||grad||       alpha      alpha0  # evals  Notes \n"
     ]
    },
    {
     "name": "stderr",
     "output_type": "stream",
     "text": [
      "\u001b[2m\u001b[36m(PoolActor pid=7269, ip=172.31.176.112)\u001b[0m INFO:prophet:Disabling daily seasonality. Run prophet with daily_seasonality=True to override this.\n",
      "\u001b[2m\u001b[36m(PoolActor pid=5129, ip=172.31.170.171)\u001b[0m INFO:prophet:Disabling daily seasonality. Run prophet with daily_seasonality=True to override this.\n",
      "\u001b[2m\u001b[36m(PoolActor pid=5125, ip=172.31.170.171)\u001b[0m INFO:prophet:Disabling yearly seasonality. Run prophet with yearly_seasonality=True to override this.\n",
      "\u001b[2m\u001b[36m(PoolActor pid=5125, ip=172.31.170.171)\u001b[0m INFO:prophet:Disabling daily seasonality. Run prophet with daily_seasonality=True to override this.\n",
      "\u001b[2m\u001b[36m(PoolActor pid=5124, ip=172.31.170.171)\u001b[0m INFO:prophet:Disabling daily seasonality. Run prophet with daily_seasonality=True to override this.\n",
      "\u001b[2m\u001b[36m(PoolActor pid=5126, ip=172.31.170.171)\u001b[0m INFO:prophet:Disabling daily seasonality. Run prophet with daily_seasonality=True to override this.\n"
     ]
    },
    {
     "name": "stdout",
     "output_type": "stream",
     "text": [
      "\u001b[2m\u001b[36m(PoolActor pid=7271, ip=172.31.176.112)\u001b[0m Initial log joint probability = -25.9776\n",
      "\u001b[2m\u001b[36m(PoolActor pid=7271, ip=172.31.176.112)\u001b[0m     Iter      log prob        ||dx||      ||grad||       alpha      alpha0  # evals  Notes \n",
      "\u001b[2m\u001b[36m(PoolActor pid=5124, ip=172.31.170.171)\u001b[0m Initial log joint probability = -48.6877\n",
      "\u001b[2m\u001b[36m(PoolActor pid=5124, ip=172.31.170.171)\u001b[0m     Iter      log prob        ||dx||      ||grad||       alpha      alpha0  # evals  Notes \n",
      "\u001b[2m\u001b[36m(PoolActor pid=5126, ip=172.31.170.171)\u001b[0m Initial log joint probability = -152.634\n",
      "\u001b[2m\u001b[36m(PoolActor pid=5126, ip=172.31.170.171)\u001b[0m     Iter      log prob        ||dx||      ||grad||       alpha      alpha0  # evals  Notes \n"
     ]
    },
    {
     "name": "stderr",
     "output_type": "stream",
     "text": [
      "\u001b[2m\u001b[36m(PoolActor pid=5131, ip=172.31.170.171)\u001b[0m INFO:prophet:Disabling daily seasonality. Run prophet with daily_seasonality=True to override this.\n",
      "\u001b[2m\u001b[36m(PoolActor pid=5128, ip=172.31.170.171)\u001b[0m INFO:prophet:Disabling yearly seasonality. Run prophet with yearly_seasonality=True to override this.\n",
      "\u001b[2m\u001b[36m(PoolActor pid=5128, ip=172.31.170.171)\u001b[0m INFO:prophet:Disabling weekly seasonality. Run prophet with weekly_seasonality=True to override this.\n",
      "\u001b[2m\u001b[36m(PoolActor pid=5128, ip=172.31.170.171)\u001b[0m INFO:prophet:Disabling daily seasonality. Run prophet with daily_seasonality=True to override this.\n",
      "\u001b[2m\u001b[36m(PoolActor pid=5127, ip=172.31.170.171)\u001b[0m INFO:prophet:Disabling daily seasonality. Run prophet with daily_seasonality=True to override this.\n"
     ]
    },
    {
     "name": "stdout",
     "output_type": "stream",
     "text": [
      "\u001b[2m\u001b[36m(PoolActor pid=5128, ip=172.31.170.171)\u001b[0m Initial log joint probability = -9.08708\n",
      "\u001b[2m\u001b[36m(PoolActor pid=5128, ip=172.31.170.171)\u001b[0m     Iter      log prob        ||dx||      ||grad||       alpha      alpha0  # evals  Notes \n",
      "\u001b[2m\u001b[36m(PoolActor pid=5127, ip=172.31.170.171)\u001b[0m Initial log joint probability = -37.4824\n",
      "\u001b[2m\u001b[36m(PoolActor pid=5127, ip=172.31.170.171)\u001b[0m     Iter      log prob        ||dx||      ||grad||       alpha      alpha0  # evals  Notes \n",
      "\u001b[2m\u001b[36m(PoolActor pid=7269, ip=172.31.176.112)\u001b[0m Initial log joint probability = -119.679\n",
      "\u001b[2m\u001b[36m(PoolActor pid=7269, ip=172.31.176.112)\u001b[0m     Iter      log prob        ||dx||      ||grad||       alpha      alpha0  # evals  Notes \n",
      "\u001b[2m\u001b[36m(PoolActor pid=7270, ip=172.31.176.112)\u001b[0m       62       85944.2   2.82334e-05       54.3035      0.6341      0.6341       81   \n",
      "\u001b[2m\u001b[36m(PoolActor pid=7270, ip=172.31.176.112)\u001b[0m Optimization terminated normally: \n",
      "\u001b[2m\u001b[36m(PoolActor pid=7270, ip=172.31.176.112)\u001b[0m   Convergence detected: relative gradient magnitude is below tolerance\n",
      "\u001b[2m\u001b[36m(PoolActor pid=5128, ip=172.31.170.171)\u001b[0m       26       99729.3   3.96954e-05       91.2016           1           1       40   \n",
      "\u001b[2m\u001b[36m(PoolActor pid=5128, ip=172.31.170.171)\u001b[0m Optimization terminated normally: \n",
      "\u001b[2m\u001b[36m(PoolActor pid=5128, ip=172.31.170.171)\u001b[0m   Convergence detected: relative gradient magnitude is below tolerance\n",
      "\u001b[2m\u001b[36m(PoolActor pid=5125, ip=172.31.170.171)\u001b[0m Initial log joint probability = -233.643\n",
      "\u001b[2m\u001b[36m(PoolActor pid=5125, ip=172.31.170.171)\u001b[0m     Iter      log prob        ||dx||      ||grad||       alpha      alpha0  # evals  Notes \n",
      "\u001b[2m\u001b[36m(PoolActor pid=5127, ip=172.31.170.171)\u001b[0m       22       41025.6   1.38064e-05       90.2316   1.474e-07       0.001       83  LS failed, Hessian reset \n",
      "\u001b[2m\u001b[36m(PoolActor pid=7271, ip=172.31.176.112)\u001b[0m       33       98233.1   1.05682e-05       158.468      0.4022           1       67   \n",
      "\u001b[2m\u001b[36m(PoolActor pid=7271, ip=172.31.176.112)\u001b[0m Optimization terminated normally: \n",
      "\u001b[2m\u001b[36m(PoolActor pid=7271, ip=172.31.176.112)\u001b[0m   Convergence detected: relative gradient magnitude is below tolerance\n"
     ]
    },
    {
     "name": "stderr",
     "output_type": "stream",
     "text": [
      "  8%|▊         | 1/12 [00:04<00:52,  4.73s/it]"
     ]
    },
    {
     "name": "stdout",
     "output_type": "stream",
     "text": [
      "\u001b[2m\u001b[36m(PoolActor pid=5127, ip=172.31.170.171)\u001b[0m       27       41025.6   1.99619e-08       90.0562    0.009105           1      105   \n",
      "\u001b[2m\u001b[36m(PoolActor pid=5127, ip=172.31.170.171)\u001b[0m Optimization terminated normally: \n",
      "\u001b[2m\u001b[36m(PoolActor pid=5127, ip=172.31.170.171)\u001b[0m   Convergence detected: relative gradient magnitude is below tolerance\n",
      "\u001b[2m\u001b[36m(PoolActor pid=5124, ip=172.31.170.171)\u001b[0m       48       66815.7   1.38389e-05        100.35      0.4352      0.4352       72   \n",
      "\u001b[2m\u001b[36m(PoolActor pid=5124, ip=172.31.170.171)\u001b[0m Optimization terminated normally: \n",
      "\u001b[2m\u001b[36m(PoolActor pid=5124, ip=172.31.170.171)\u001b[0m   Convergence detected: relative gradient magnitude is below tolerance\n",
      "\u001b[2m\u001b[36m(PoolActor pid=7268, ip=172.31.176.112)\u001b[0m Initial log joint probability = -1823.76\n",
      "\u001b[2m\u001b[36m(PoolActor pid=7268, ip=172.31.176.112)\u001b[0m     Iter      log prob        ||dx||      ||grad||       alpha      alpha0  # evals  Notes \n"
     ]
    },
    {
     "name": "stderr",
     "output_type": "stream",
     "text": [
      " 33%|███▎      | 4/12 [00:05<00:06,  1.33it/s]"
     ]
    },
    {
     "name": "stdout",
     "output_type": "stream",
     "text": [
      "\u001b[2m\u001b[36m(PoolActor pid=5130, ip=172.31.170.171)\u001b[0m Initial log joint probability = -160.107\n",
      "\u001b[2m\u001b[36m(PoolActor pid=5130, ip=172.31.170.171)\u001b[0m     Iter      log prob        ||dx||      ||grad||       alpha      alpha0  # evals  Notes \n",
      "\u001b[2m\u001b[36m(PoolActor pid=5126, ip=172.31.170.171)\u001b[0m       29       72975.1    9.7916e-08       108.394    0.001269           1       62   \n",
      "\u001b[2m\u001b[36m(PoolActor pid=5126, ip=172.31.170.171)\u001b[0m Optimization terminated normally: \n",
      "\u001b[2m\u001b[36m(PoolActor pid=5126, ip=172.31.170.171)\u001b[0m   Convergence detected: relative change in objective function was below tolerance\n"
     ]
    },
    {
     "name": "stderr",
     "output_type": "stream",
     "text": [
      " 50%|█████     | 6/12 [00:05<00:02,  2.55it/s]"
     ]
    },
    {
     "name": "stdout",
     "output_type": "stream",
     "text": [
      "\u001b[2m\u001b[36m(PoolActor pid=5131, ip=172.31.170.171)\u001b[0m Initial log joint probability = -164.625\n",
      "\u001b[2m\u001b[36m(PoolActor pid=5131, ip=172.31.170.171)\u001b[0m     Iter      log prob        ||dx||      ||grad||       alpha      alpha0  # evals  Notes \n",
      "\u001b[2m\u001b[36m(PoolActor pid=5129, ip=172.31.170.171)\u001b[0m Initial log joint probability = -345.36\n",
      "\u001b[2m\u001b[36m(PoolActor pid=5129, ip=172.31.170.171)\u001b[0m     Iter      log prob        ||dx||      ||grad||       alpha      alpha0  # evals  Notes \n",
      "\u001b[2m\u001b[36m(PoolActor pid=7269, ip=172.31.176.112)\u001b[0m       99        154347    0.00161459       352.178           1           1      136   \n",
      "\u001b[2m\u001b[36m(PoolActor pid=7269, ip=172.31.176.112)\u001b[0m     Iter      log prob        ||dx||      ||grad||       alpha      alpha0  # evals  Notes \n"
     ]
    },
    {
     "name": "stderr",
     "output_type": "stream",
     "text": [
      " 58%|█████▊    | 7/12 [00:12<00:13,  2.67s/it]"
     ]
    },
    {
     "name": "stdout",
     "output_type": "stream",
     "text": [
      "\u001b[2m\u001b[36m(PoolActor pid=5130, ip=172.31.170.171)\u001b[0m       36        476922   0.000417623       264.632           1           1       57   \n",
      "\u001b[2m\u001b[36m(PoolActor pid=5130, ip=172.31.170.171)\u001b[0m Optimization terminated normally: \n",
      "\u001b[2m\u001b[36m(PoolActor pid=5130, ip=172.31.170.171)\u001b[0m   Convergence detected: relative gradient magnitude is below tolerance\n",
      "\u001b[2m\u001b[36m(PoolActor pid=7269, ip=172.31.176.112)\u001b[0m      199        154348   8.56524e-05       111.334      0.1246      0.1246      278   \n",
      "\u001b[2m\u001b[36m(PoolActor pid=7269, ip=172.31.176.112)\u001b[0m     Iter      log prob        ||dx||      ||grad||       alpha      alpha0  # evals  Notes \n"
     ]
    },
    {
     "name": "stderr",
     "output_type": "stream",
     "text": [
      " 67%|██████▋   | 8/12 [00:17<00:13,  3.34s/it]"
     ]
    },
    {
     "name": "stdout",
     "output_type": "stream",
     "text": [
      "\u001b[2m\u001b[36m(PoolActor pid=5131, ip=172.31.170.171)\u001b[0m       53        499170   0.000103375       151.314           1           1       91   \n",
      "\u001b[2m\u001b[36m(PoolActor pid=5131, ip=172.31.170.171)\u001b[0m Optimization terminated normally: \n",
      "\u001b[2m\u001b[36m(PoolActor pid=5131, ip=172.31.170.171)\u001b[0m   Convergence detected: relative gradient magnitude is below tolerance\n"
     ]
    },
    {
     "name": "stderr",
     "output_type": "stream",
     "text": [
      " 75%|███████▌  | 9/12 [00:17<00:07,  2.36s/it]"
     ]
    },
    {
     "name": "stdout",
     "output_type": "stream",
     "text": [
      "\u001b[2m\u001b[36m(PoolActor pid=7268, ip=172.31.176.112)\u001b[0m       64        497590   0.000354387       197.759           1           1       97   \n",
      "\u001b[2m\u001b[36m(PoolActor pid=7268, ip=172.31.176.112)\u001b[0m Optimization terminated normally: \n",
      "\u001b[2m\u001b[36m(PoolActor pid=7268, ip=172.31.176.112)\u001b[0m   Convergence detected: relative gradient magnitude is below tolerance\n",
      "\u001b[2m\u001b[36m(PoolActor pid=7269, ip=172.31.176.112)\u001b[0m      203        154348   1.11388e-05       225.793   9.141e-08       0.001      331  LS failed, Hessian reset \n",
      "\u001b[2m\u001b[36m(PoolActor pid=5125, ip=172.31.170.171)\u001b[0m       99        540798   0.000386738       2374.21        0.43           1      132   \n",
      "\u001b[2m\u001b[36m(PoolActor pid=5125, ip=172.31.170.171)\u001b[0m     Iter      log prob        ||dx||      ||grad||       alpha      alpha0  # evals  Notes \n",
      "\u001b[2m\u001b[1m\u001b[36m(scheduler +17m49s)\u001b[0m Resized to 88 CPUs.\n"
     ]
    },
    {
     "name": "stderr",
     "output_type": "stream",
     "text": [
      " 83%|████████▎ | 10/12 [00:21<00:05,  2.93s/it]"
     ]
    },
    {
     "name": "stdout",
     "output_type": "stream",
     "text": [
      "\u001b[2m\u001b[36m(PoolActor pid=7269, ip=172.31.176.112)\u001b[0m      254        154348    8.4487e-07       127.579     0.07411     0.07411      405   \n",
      "\u001b[2m\u001b[36m(PoolActor pid=7269, ip=172.31.176.112)\u001b[0m Optimization terminated normally: \n",
      "\u001b[2m\u001b[36m(PoolActor pid=7269, ip=172.31.176.112)\u001b[0m   Convergence detected: relative gradient magnitude is below tolerance\n"
     ]
    }
   ],
   "source": [
    "from ray.util.multiprocessing import Pool\n",
    "import tqdm\n",
    "\n",
    "start = time.time()\n",
    "# Create a pool, where each worker is assigned 1 CPU by Ray.\n",
    "pool = Pool(ray_remote_args={\"num_cpus\": 1})\n",
    "\n",
    "# Use the pool to run `train_model` on the data, in batches of 1.\n",
    "iterator = pool.imap_unordered(train_model, models_to_train, chunksize=1)\n",
    "\n",
    "# Track the progress using tqdm and retrieve the results into a list.\n",
    "results = list(tqdm.tqdm(iterator, total=len(models_to_train)))\n",
    "\n",
    "time_ray_multiprocessing = time.time() - start\n",
    "print(f\"Total number of models: {len(results)}\")\n",
    "print(f\"TOTAL TIME TAKEN: {time_ray_multiprocessing/60:.2f} minutes\")\n",
    "\n",
    "assert len(results) == len(models_to_train)\n",
    "print(type(results[0][0]), type(results[0][1]), type(results[0][2]), type(results[0][3]))\n",
    "\n",
    "# # Chunksize=1\n",
    "# Total number of models: 12\n",
    "# TOTAL TIME TAKEN: 0.60 minutes\n"
   ]
  },
  {
   "cell_type": "code",
   "execution_count": null,
   "id": "31eb53fd",
   "metadata": {},
   "outputs": [],
   "source": [
    "# Calculate the speed-up between serial Python and Ray Multiprocessing Pool\n",
    "import numpy as np\n",
    "\n",
    "speedup = time_regular_python / time_ray_multiprocessing\n",
    "print(f\"Speedup from running Ray Multiprocessing vs serial Python: {np.round(speedup, 1)}x\"\n",
    "      f\", or {(np.round(speedup, 0)-1) * 100}%\")\n",
    "\n",
    "# Speedup from running Ray Multiprocessing vs serial Python: 3.7x, or 300.0%"
   ]
  },
  {
   "cell_type": "markdown",
   "id": "2a30c696",
   "metadata": {},
   "source": [
    "# Use Ray Tune with Ray AIR"
   ]
  },
  {
   "cell_type": "code",
   "execution_count": 12,
   "id": "ca1bb4e0",
   "metadata": {},
   "outputs": [],
   "source": [
    "import numpy as np\n",
    "from typing import Tuple\n",
    "from ray import air, tune\n",
    "from ray.air import session, ScalingConfig\n",
    "from ray.air.checkpoint import Checkpoint\n",
    "RAY_IGNORE_UNHANDLED_ERRORS=1\n",
    "\n",
    "def evaluate_model_prophet(\n",
    "    model: \"prophet.forecaster.Prophet\",\n",
    ") -> Tuple[float, pd.DataFrame]:\n",
    "\n",
    "    # Inference model using FORECAST_LENGTH.\n",
    "    future_dates = model.make_future_dataframe(\n",
    "        periods=FORECAST_LENGTH, freq=\"D\"\n",
    "    )\n",
    "    future = model.predict(future_dates)\n",
    "\n",
    "    # Calculate mean absolute error.\n",
    "    temp = future.copy()\n",
    "    temp[\"forecast_error\"] = np.abs(temp[\"yhat\"] - temp[\"trend\"])\n",
    "    error = np.mean(temp[\"forecast_error\"])\n",
    "\n",
    "    return error, future\n",
    "\n",
    "\n",
    "# This function is exactly the same as train_model(), except:\n",
    "# - Change the input parameter to config type dict.\n",
    "# - Change the model based on 'algorithm' input parameter\n",
    "def trainable_func(config: dict):\n",
    "    # Read a pyarrow parquet S3 file.\n",
    "    data = pq.read_table(config[\"file_path\"],\n",
    "                         filters=[ (\"pickup_location_id\", \"=\", SAMPLE_UNIQUE_ID) ],\n",
    "                         columns=[ \"pickup_at\", \"pickup_location_id\", \"trip_distance\" ],\n",
    "                        ).to_pandas()\n",
    "    data[\"ds\"] = data[\"pickup_at\"].dt.to_period(\"D\").dt.to_timestamp()\n",
    "    data.rename(columns={\"trip_distance\": \"y\"}, inplace=True)\n",
    "    data.drop(\"pickup_at\", inplace=True, axis=1)\n",
    "    unique_id = data[\"pickup_location_id\"][0]\n",
    "\n",
    "    # Split data into train, test.\n",
    "    train_end = data.ds.max() - relativedelta(days=FORECAST_LENGTH - 1)\n",
    "    train_df = data.loc[(data.ds <= train_end), :].copy()\n",
    "    test_df = data.iloc[-(FORECAST_LENGTH):, :].copy()\n",
    "    \n",
    "    # Define Prophet model with 75% confidence interval.\n",
    "    import prophet\n",
    "    from prophet import Prophet\n",
    "    if config[\"algorithm\"] == \"prophet_additive\":\n",
    "        model = Prophet(interval_width=0.75, seasonality_mode=\"additive\")\n",
    "    elif config[\"algorithm\"] == \"prophet_multiplicative\":\n",
    "        model = Prophet(interval_width=0.75, seasonality_mode=\"multiplicative\")\n",
    "\n",
    "    # Train and fit the Prophet model.\n",
    "    model = model.fit(train_df[[\"ds\", \"y\"]])\n",
    "\n",
    "    # Inference model and evaluate error.\n",
    "    error, future = evaluate_model_prophet(model)\n",
    "\n",
    "    # Define a model checkpoint using AIR API.\n",
    "    # https://docs.ray.io/en/latest/tune/tutorials/tune-checkpoints.html\n",
    "    checkpoint = ray.air.checkpoint.Checkpoint.from_dict(\n",
    "        {\n",
    "            \"model\": model,\n",
    "            \"forecast_df\": future,\n",
    "            \"location_id\": unique_id,\n",
    "        }\n",
    "    )\n",
    "\n",
    "    # Save checkpoint and report back metrics, using ray.air.session.report()\n",
    "    metrics = dict(error=error)\n",
    "    session.report(metrics, checkpoint=checkpoint)"
   ]
  },
  {
   "cell_type": "code",
   "execution_count": 13,
   "id": "8b277ade",
   "metadata": {},
   "outputs": [],
   "source": [
    "# Tune is designed for up to thousands of trials.\n",
    "param_space = {\n",
    "    \"file_path\": tune.grid_search(\n",
    "        [ f\"s3://anonymous@{file}\" for file in s3_partitions.files ]\n",
    "    ),\n",
    "    \"algorithm\": tune.grid_search([\"prophet_additive\", \"prophet_multiplicative\"]),\n",
    "}"
   ]
  },
  {
   "cell_type": "code",
   "execution_count": 16,
   "id": "381b4f46",
   "metadata": {},
   "outputs": [
    {
     "data": {
      "text/html": [
       "<div class=\"tuneStatus\">\n",
       "  <div style=\"display: flex;flex-direction: row\">\n",
       "    <div style=\"display: flex;flex-direction: column;\">\n",
       "      <h3>Tune Status</h3>\n",
       "      <table>\n",
       "<tbody>\n",
       "<tr><td>Current time:</td><td>2023-01-12 16:53:23</td></tr>\n",
       "<tr><td>Running for: </td><td>00:01:25.12        </td></tr>\n",
       "<tr><td>Memory:      </td><td>6.6/30.6 GiB       </td></tr>\n",
       "</tbody>\n",
       "</table>\n",
       "    </div>\n",
       "    <div class=\"vDivider\"></div>\n",
       "    <div class=\"systemInfo\">\n",
       "      <h3>System Info</h3>\n",
       "      Using FIFO scheduling algorithm.<br>Resources requested: 0/56 CPUs, 0/0 GPUs, 0.0/151.42 GiB heap, 0.0/60.05 GiB objects\n",
       "    </div>\n",
       "    \n",
       "  </div>\n",
       "  <div class=\"hDivider\"></div>\n",
       "  <div class=\"trialStatus\">\n",
       "    <h3>Trial Status</h3>\n",
       "    <table>\n",
       "<thead>\n",
       "<tr><th>Trial name                </th><th>status    </th><th>loc                </th><th>algorithm           </th><th>file_path           </th><th style=\"text-align: right;\">  iter</th><th style=\"text-align: right;\">  total time (s)</th><th style=\"text-align: right;\">    error</th></tr>\n",
       "</thead>\n",
       "<tbody>\n",
       "<tr><td>trainable_func_7b96c_00000</td><td>TERMINATED</td><td>172.31.170.171:2347</td><td>prophet_additive    </td><td>s3://anonymous@_c330</td><td style=\"text-align: right;\">     1</td><td style=\"text-align: right;\">         6.36413</td><td style=\"text-align: right;\">0.250007 </td></tr>\n",
       "<tr><td>trainable_func_7b96c_00001</td><td>TERMINATED</td><td>172.31.176.112:4846</td><td>prophet_multipl_aa80</td><td>s3://anonymous@_c330</td><td style=\"text-align: right;\">     1</td><td style=\"text-align: right;\">         7.13229</td><td style=\"text-align: right;\">0.118804 </td></tr>\n",
       "<tr><td>trainable_func_7b96c_00002</td><td>TERMINATED</td><td>172.31.176.112:4847</td><td>prophet_additive    </td><td>s3://anonymous@_cdb0</td><td style=\"text-align: right;\">     1</td><td style=\"text-align: right;\">        34.2392 </td><td style=\"text-align: right;\">0.0458885</td></tr>\n",
       "<tr><td>trainable_func_7b96c_00003</td><td>TERMINATED</td><td>172.31.176.112:4848</td><td>prophet_multipl_aa80</td><td>s3://anonymous@_cdb0</td><td style=\"text-align: right;\">     1</td><td style=\"text-align: right;\">        35.9722 </td><td style=\"text-align: right;\">0.0504637</td></tr>\n",
       "<tr><td>trainable_func_7b96c_00004</td><td>TERMINATED</td><td>172.31.170.171:2748</td><td>prophet_additive    </td><td>s3://anonymous@_cc30</td><td style=\"text-align: right;\">     1</td><td style=\"text-align: right;\">         7.99867</td><td style=\"text-align: right;\">0.289614 </td></tr>\n",
       "<tr><td>trainable_func_7b96c_00005</td><td>TERMINATED</td><td>172.31.170.171:2749</td><td>prophet_multipl_aa80</td><td>s3://anonymous@_cc30</td><td style=\"text-align: right;\">     1</td><td style=\"text-align: right;\">         7.51007</td><td style=\"text-align: right;\">0.081817 </td></tr>\n",
       "<tr><td>trainable_func_7b96c_00006</td><td>TERMINATED</td><td>172.31.170.171:2750</td><td>prophet_additive    </td><td>s3://anonymous@_cb70</td><td style=\"text-align: right;\">     1</td><td style=\"text-align: right;\">         7.79091</td><td style=\"text-align: right;\">1.24436  </td></tr>\n",
       "<tr><td>trainable_func_7b96c_00007</td><td>TERMINATED</td><td>172.31.176.112:4849</td><td>prophet_multipl_aa80</td><td>s3://anonymous@_cb70</td><td style=\"text-align: right;\">     1</td><td style=\"text-align: right;\">         7.65564</td><td style=\"text-align: right;\">0.072596 </td></tr>\n",
       "<tr><td>trainable_func_7b96c_00008</td><td>TERMINATED</td><td>172.31.176.112:4850</td><td>prophet_additive    </td><td>s3://anonymous@_cab0</td><td style=\"text-align: right;\">     1</td><td style=\"text-align: right;\">         9.01486</td><td style=\"text-align: right;\">0        </td></tr>\n",
       "<tr><td>trainable_func_7b96c_00009</td><td>TERMINATED</td><td>172.31.170.171:2751</td><td>prophet_multipl_aa80</td><td>s3://anonymous@_cab0</td><td style=\"text-align: right;\">     1</td><td style=\"text-align: right;\">         8.69798</td><td style=\"text-align: right;\">0        </td></tr>\n",
       "<tr><td>trainable_func_7b96c_00010</td><td>TERMINATED</td><td>172.31.176.112:4851</td><td>prophet_additive    </td><td>s3://anonymous@_c3f0</td><td style=\"text-align: right;\">     1</td><td style=\"text-align: right;\">        41.1175 </td><td style=\"text-align: right;\">0.552959 </td></tr>\n",
       "<tr><td>trainable_func_7b96c_00011</td><td>TERMINATED</td><td>172.31.170.171:2752</td><td>prophet_multipl_aa80</td><td>s3://anonymous@_c3f0</td><td style=\"text-align: right;\">     1</td><td style=\"text-align: right;\">        28.5591 </td><td style=\"text-align: right;\">0.08117  </td></tr>\n",
       "<tr><td>trainable_func_7b96c_00012</td><td>TERMINATED</td><td>172.31.170.171:2753</td><td>prophet_additive    </td><td>s3://anonymous@_c870</td><td style=\"text-align: right;\">     1</td><td style=\"text-align: right;\">        14.5687 </td><td style=\"text-align: right;\">0.358611 </td></tr>\n",
       "<tr><td>trainable_func_7b96c_00013</td><td>TERMINATED</td><td>172.31.170.171:2754</td><td>prophet_multipl_aa80</td><td>s3://anonymous@_c870</td><td style=\"text-align: right;\">     1</td><td style=\"text-align: right;\">        14.5148 </td><td style=\"text-align: right;\">0.0913204</td></tr>\n",
       "<tr><td>trainable_func_7b96c_00014</td><td>TERMINATED</td><td>172.31.170.171:2755</td><td>prophet_additive    </td><td>s3://anonymous@_c9f0</td><td style=\"text-align: right;\">     1</td><td style=\"text-align: right;\">        23.1891 </td><td style=\"text-align: right;\">0.720532 </td></tr>\n",
       "<tr><td>trainable_func_7b96c_00015</td><td>TERMINATED</td><td>172.31.176.112:4855</td><td>prophet_multipl_aa80</td><td>s3://anonymous@_c9f0</td><td style=\"text-align: right;\">     1</td><td style=\"text-align: right;\">        20.2117 </td><td style=\"text-align: right;\">0.0856885</td></tr>\n",
       "<tr><td>trainable_func_7b96c_00016</td><td>TERMINATED</td><td>172.31.170.171:2767</td><td>prophet_additive    </td><td>s3://anonymous@_ccf0</td><td style=\"text-align: right;\">     1</td><td style=\"text-align: right;\">        25.5591 </td><td style=\"text-align: right;\">2.39366  </td></tr>\n",
       "<tr><td>trainable_func_7b96c_00017</td><td>TERMINATED</td><td>172.31.176.112:4860</td><td>prophet_multipl_aa80</td><td>s3://anonymous@_ccf0</td><td style=\"text-align: right;\">     1</td><td style=\"text-align: right;\">        20.7719 </td><td style=\"text-align: right;\">0.409118 </td></tr>\n",
       "<tr><td>trainable_func_7b96c_00018</td><td>TERMINATED</td><td>172.31.176.112:4861</td><td>prophet_additive    </td><td>s3://anonymous@_ce70</td><td style=\"text-align: right;\">     1</td><td style=\"text-align: right;\">         9.00731</td><td style=\"text-align: right;\">0.301298 </td></tr>\n",
       "<tr><td>trainable_func_7b96c_00019</td><td>TERMINATED</td><td>172.31.170.171:2768</td><td>prophet_multipl_aa80</td><td>s3://anonymous@_ce70</td><td style=\"text-align: right;\">     1</td><td style=\"text-align: right;\">        24.6243 </td><td style=\"text-align: right;\">0.180789 </td></tr>\n",
       "<tr><td>trainable_func_7b96c_00020</td><td>TERMINATED</td><td>172.31.176.112:4862</td><td>prophet_additive    </td><td>s3://anonymous@_c6f0</td><td style=\"text-align: right;\">     1</td><td style=\"text-align: right;\">         9.42074</td><td style=\"text-align: right;\">0        </td></tr>\n",
       "<tr><td>trainable_func_7b96c_00021</td><td>TERMINATED</td><td>172.31.170.171:2769</td><td>prophet_multipl_aa80</td><td>s3://anonymous@_c6f0</td><td style=\"text-align: right;\">     1</td><td style=\"text-align: right;\">         7.44295</td><td style=\"text-align: right;\">0        </td></tr>\n",
       "<tr><td>trainable_func_7b96c_00022</td><td>TERMINATED</td><td>172.31.176.112:4863</td><td>prophet_additive    </td><td>s3://anonymous@_e030</td><td style=\"text-align: right;\">     1</td><td style=\"text-align: right;\">         9.61813</td><td style=\"text-align: right;\">0.882189 </td></tr>\n",
       "<tr><td>trainable_func_7b96c_00023</td><td>TERMINATED</td><td>172.31.176.112:4864</td><td>prophet_multipl_aa80</td><td>s3://anonymous@_e030</td><td style=\"text-align: right;\">     1</td><td style=\"text-align: right;\">         7.87993</td><td style=\"text-align: right;\">0.0396678</td></tr>\n",
       "</tbody>\n",
       "</table>\n",
       "  </div>\n",
       "</div>\n",
       "<style>\n",
       ".tuneStatus {\n",
       "  color: var(--jp-ui-font-color1);\n",
       "}\n",
       ".tuneStatus .systemInfo {\n",
       "  display: flex;\n",
       "  flex-direction: column;\n",
       "}\n",
       ".tuneStatus td {\n",
       "  white-space: nowrap;\n",
       "}\n",
       ".tuneStatus .trialStatus {\n",
       "  display: flex;\n",
       "  flex-direction: column;\n",
       "}\n",
       ".tuneStatus h3 {\n",
       "  font-weight: bold;\n",
       "}\n",
       ".tuneStatus .hDivider {\n",
       "  border-bottom-width: var(--jp-border-width);\n",
       "  border-bottom-color: var(--jp-border-color0);\n",
       "  border-bottom-style: solid;\n",
       "}\n",
       ".tuneStatus .vDivider {\n",
       "  border-left-width: var(--jp-border-width);\n",
       "  border-left-color: var(--jp-border-color0);\n",
       "  border-left-style: solid;\n",
       "  margin: 0.5em 1em 0.5em 1em;\n",
       "}\n",
       "</style>\n"
      ],
      "text/plain": [
       "<IPython.core.display.HTML object>"
      ]
     },
     "metadata": {},
     "output_type": "display_data"
    },
    {
     "name": "stderr",
     "output_type": "stream",
     "text": [
      "\u001b[2m\u001b[36m(trainable_func pid=2347, ip=172.31.170.171)\u001b[0m INFO:prophet:Disabling daily seasonality. Run prophet with daily_seasonality=True to override this.\n"
     ]
    },
    {
     "name": "stdout",
     "output_type": "stream",
     "text": [
      "\u001b[2m\u001b[36m(trainable_func pid=2347, ip=172.31.170.171)\u001b[0m Initial log joint probability = -48.6877\n",
      "\u001b[2m\u001b[36m(trainable_func pid=2347, ip=172.31.170.171)\u001b[0m     Iter      log prob        ||dx||      ||grad||       alpha      alpha0  # evals  Notes \n",
      "\u001b[2m\u001b[36m(trainable_func pid=2347, ip=172.31.170.171)\u001b[0m       20       66815.8   1.94239e-06        105.79      0.3437           1       33   \n",
      "\u001b[2m\u001b[36m(trainable_func pid=2347, ip=172.31.170.171)\u001b[0m Optimization terminated normally: \n",
      "\u001b[2m\u001b[36m(trainable_func pid=2347, ip=172.31.170.171)\u001b[0m   Convergence detected: relative gradient magnitude is below tolerance\n"
     ]
    },
    {
     "name": "stderr",
     "output_type": "stream",
     "text": [
      "\u001b[2m\u001b[36m(trainable_func pid=4850, ip=172.31.176.112)\u001b[0m INFO:prophet:Disabling yearly seasonality. Run prophet with yearly_seasonality=True to override this.\n",
      "\u001b[2m\u001b[36m(trainable_func pid=4850, ip=172.31.176.112)\u001b[0m INFO:prophet:Disabling weekly seasonality. Run prophet with weekly_seasonality=True to override this.\n",
      "\u001b[2m\u001b[36m(trainable_func pid=4850, ip=172.31.176.112)\u001b[0m INFO:prophet:Disabling daily seasonality. Run prophet with daily_seasonality=True to override this.\n"
     ]
    },
    {
     "name": "stdout",
     "output_type": "stream",
     "text": [
      "\u001b[2m\u001b[36m(trainable_func pid=4850, ip=172.31.176.112)\u001b[0m Initial log joint probability = -9.08708\n",
      "\u001b[2m\u001b[36m(trainable_func pid=4850, ip=172.31.176.112)\u001b[0m     Iter      log prob        ||dx||      ||grad||       alpha      alpha0  # evals  Notes \n"
     ]
    },
    {
     "name": "stderr",
     "output_type": "stream",
     "text": [
      "\u001b[2m\u001b[36m(trainable_func pid=4846, ip=172.31.176.112)\u001b[0m INFO:prophet:Disabling daily seasonality. Run prophet with daily_seasonality=True to override this.\n",
      "\u001b[2m\u001b[36m(trainable_func pid=2750, ip=172.31.170.171)\u001b[0m INFO:prophet:Disabling daily seasonality. Run prophet with daily_seasonality=True to override this.\n",
      "\u001b[2m\u001b[36m(trainable_func pid=2749, ip=172.31.170.171)\u001b[0m INFO:prophet:Disabling daily seasonality. Run prophet with daily_seasonality=True to override this.\n",
      "\u001b[2m\u001b[36m(trainable_func pid=4849, ip=172.31.176.112)\u001b[0m INFO:prophet:Disabling daily seasonality. Run prophet with daily_seasonality=True to override this.\n",
      "\u001b[2m\u001b[36m(trainable_func pid=4847, ip=172.31.176.112)\u001b[0m INFO:prophet:Disabling yearly seasonality. Run prophet with yearly_seasonality=True to override this.\n",
      "\u001b[2m\u001b[36m(trainable_func pid=4847, ip=172.31.176.112)\u001b[0m INFO:prophet:Disabling daily seasonality. Run prophet with daily_seasonality=True to override this.\n",
      "\u001b[2m\u001b[36m(trainable_func pid=2754, ip=172.31.170.171)\u001b[0m INFO:prophet:Disabling daily seasonality. Run prophet with daily_seasonality=True to override this.\n"
     ]
    },
    {
     "name": "stdout",
     "output_type": "stream",
     "text": [
      "\u001b[2m\u001b[36m(trainable_func pid=2750, ip=172.31.170.171)\u001b[0m Initial log joint probability = -37.4824\n",
      "\u001b[2m\u001b[36m(trainable_func pid=2750, ip=172.31.170.171)\u001b[0m     Iter      log prob        ||dx||      ||grad||       alpha      alpha0  # evals  Notes \n",
      "\u001b[2m\u001b[36m(trainable_func pid=4846, ip=172.31.176.112)\u001b[0m Initial log joint probability = -48.6877\n",
      "\u001b[2m\u001b[36m(trainable_func pid=4846, ip=172.31.176.112)\u001b[0m     Iter      log prob        ||dx||      ||grad||       alpha      alpha0  # evals  Notes \n"
     ]
    },
    {
     "name": "stderr",
     "output_type": "stream",
     "text": [
      "\u001b[2m\u001b[36m(trainable_func pid=4848, ip=172.31.176.112)\u001b[0m INFO:prophet:Disabling yearly seasonality. Run prophet with yearly_seasonality=True to override this.\n",
      "\u001b[2m\u001b[36m(trainable_func pid=4848, ip=172.31.176.112)\u001b[0m INFO:prophet:Disabling daily seasonality. Run prophet with daily_seasonality=True to override this.\n",
      "\u001b[2m\u001b[36m(trainable_func pid=4864, ip=172.31.176.112)\u001b[0m INFO:prophet:Disabling daily seasonality. Run prophet with daily_seasonality=True to override this.\n"
     ]
    },
    {
     "data": {
      "text/html": [
       "<div class=\"trialProgress\">\n",
       "  <h3>Trial Progress</h3>\n",
       "  <table>\n",
       "<thead>\n",
       "<tr><th>Trial name                </th><th>date               </th><th>done  </th><th>episodes_total  </th><th style=\"text-align: right;\">    error</th><th>experiment_id                   </th><th>experiment_tag                                                                                                                                                              </th><th>hostname         </th><th style=\"text-align: right;\">  iterations_since_restore</th><th>node_ip       </th><th style=\"text-align: right;\">  pid</th><th>should_checkpoint  </th><th style=\"text-align: right;\">  time_since_restore</th><th style=\"text-align: right;\">  time_this_iter_s</th><th style=\"text-align: right;\">  time_total_s</th><th style=\"text-align: right;\">  timestamp</th><th style=\"text-align: right;\">  timesteps_since_restore</th><th>timesteps_total  </th><th style=\"text-align: right;\">  training_iteration</th><th>trial_id   </th><th style=\"text-align: right;\">  warmup_time</th></tr>\n",
       "</thead>\n",
       "<tbody>\n",
       "<tr><td>trainable_func_7b96c_00000</td><td>2023-01-12_16-52-07</td><td>True  </td><td>                </td><td style=\"text-align: right;\">0.250007 </td><td>801fc83191c141ee968f99e3c1373de1</td><td>0_algorithm=prophet_additive,file_path=s3_anonymous_air-example-data_ursa-labs-taxi-data_by_year_2018_01_data_parquet_4d6bc4368704460d90c92c22e05a2220_000000_parquet       </td><td>ip-172-31-170-171</td><td style=\"text-align: right;\">                         1</td><td>172.31.170.171</td><td style=\"text-align: right;\"> 2347</td><td>True               </td><td style=\"text-align: right;\">             6.36413</td><td style=\"text-align: right;\">           6.36413</td><td style=\"text-align: right;\">       6.36413</td><td style=\"text-align: right;\"> 1673571127</td><td style=\"text-align: right;\">                        0</td><td>                 </td><td style=\"text-align: right;\">                   1</td><td>7b96c_00000</td><td style=\"text-align: right;\">   0.00332928</td></tr>\n",
       "<tr><td>trainable_func_7b96c_00001</td><td>2023-01-12_16-52-10</td><td>True  </td><td>                </td><td style=\"text-align: right;\">0.118804 </td><td>c05021a5027c46ccb87107c522aea2f4</td><td>1_algorithm=prophet_multiplicative,file_path=s3_anonymous_air-example-data_ursa-labs-taxi-data_by_year_2018_01_data_parquet_4d6bc4368704460d90c92c22e05a2220_000000_parquet </td><td>ip-172-31-176-112</td><td style=\"text-align: right;\">                         1</td><td>172.31.176.112</td><td style=\"text-align: right;\"> 4846</td><td>True               </td><td style=\"text-align: right;\">             7.13229</td><td style=\"text-align: right;\">           7.13229</td><td style=\"text-align: right;\">       7.13229</td><td style=\"text-align: right;\"> 1673571130</td><td style=\"text-align: right;\">                        0</td><td>                 </td><td style=\"text-align: right;\">                   1</td><td>7b96c_00001</td><td style=\"text-align: right;\">   0.00372577</td></tr>\n",
       "<tr><td>trainable_func_7b96c_00002</td><td>2023-01-12_16-52-37</td><td>True  </td><td>                </td><td style=\"text-align: right;\">0.0458885</td><td>6458ba31ca014f18acf8ba59e3848b0f</td><td>2_algorithm=prophet_additive,file_path=s3_anonymous_air-example-data_ursa-labs-taxi-data_by_year_2018_02_data_parquet_e817946252d1409b93964685130e76cb_000000_parquet       </td><td>ip-172-31-176-112</td><td style=\"text-align: right;\">                         1</td><td>172.31.176.112</td><td style=\"text-align: right;\"> 4847</td><td>True               </td><td style=\"text-align: right;\">            34.2392 </td><td style=\"text-align: right;\">          34.2392 </td><td style=\"text-align: right;\">      34.2392 </td><td style=\"text-align: right;\"> 1673571157</td><td style=\"text-align: right;\">                        0</td><td>                 </td><td style=\"text-align: right;\">                   1</td><td>7b96c_00002</td><td style=\"text-align: right;\">   0.00404716</td></tr>\n",
       "<tr><td>trainable_func_7b96c_00003</td><td>2023-01-12_16-52-39</td><td>True  </td><td>                </td><td style=\"text-align: right;\">0.0504637</td><td>d619c92d93ba4892893f933e64b6f3ea</td><td>3_algorithm=prophet_multiplicative,file_path=s3_anonymous_air-example-data_ursa-labs-taxi-data_by_year_2018_02_data_parquet_e817946252d1409b93964685130e76cb_000000_parquet </td><td>ip-172-31-176-112</td><td style=\"text-align: right;\">                         1</td><td>172.31.176.112</td><td style=\"text-align: right;\"> 4848</td><td>True               </td><td style=\"text-align: right;\">            35.9722 </td><td style=\"text-align: right;\">          35.9722 </td><td style=\"text-align: right;\">      35.9722 </td><td style=\"text-align: right;\"> 1673571159</td><td style=\"text-align: right;\">                        0</td><td>                 </td><td style=\"text-align: right;\">                   1</td><td>7b96c_00003</td><td style=\"text-align: right;\">   0.00375104</td></tr>\n",
       "<tr><td>trainable_func_7b96c_00004</td><td>2023-01-12_16-52-11</td><td>True  </td><td>                </td><td style=\"text-align: right;\">0.289614 </td><td>d8a36dc08b074c6c8f0eba566c11fa15</td><td>4_algorithm=prophet_additive,file_path=s3_anonymous_air-example-data_ursa-labs-taxi-data_by_year_2018_03_data_parquet_0b7e5121a4904c64be5e91ceec0eee2f_000000_parquet       </td><td>ip-172-31-170-171</td><td style=\"text-align: right;\">                         1</td><td>172.31.170.171</td><td style=\"text-align: right;\"> 2748</td><td>True               </td><td style=\"text-align: right;\">             7.99867</td><td style=\"text-align: right;\">           7.99867</td><td style=\"text-align: right;\">       7.99867</td><td style=\"text-align: right;\"> 1673571131</td><td style=\"text-align: right;\">                        0</td><td>                 </td><td style=\"text-align: right;\">                   1</td><td>7b96c_00004</td><td style=\"text-align: right;\">   0.00410724</td></tr>\n",
       "<tr><td>trainable_func_7b96c_00005</td><td>2023-01-12_16-52-10</td><td>True  </td><td>                </td><td style=\"text-align: right;\">0.081817 </td><td>4f23a7fe9a3f452fae0ab5dba4029b30</td><td>5_algorithm=prophet_multiplicative,file_path=s3_anonymous_air-example-data_ursa-labs-taxi-data_by_year_2018_03_data_parquet_0b7e5121a4904c64be5e91ceec0eee2f_000000_parquet </td><td>ip-172-31-170-171</td><td style=\"text-align: right;\">                         1</td><td>172.31.170.171</td><td style=\"text-align: right;\"> 2749</td><td>True               </td><td style=\"text-align: right;\">             7.51007</td><td style=\"text-align: right;\">           7.51007</td><td style=\"text-align: right;\">       7.51007</td><td style=\"text-align: right;\"> 1673571130</td><td style=\"text-align: right;\">                        0</td><td>                 </td><td style=\"text-align: right;\">                   1</td><td>7b96c_00005</td><td style=\"text-align: right;\">   0.00901532</td></tr>\n",
       "<tr><td>trainable_func_7b96c_00006</td><td>2023-01-12_16-52-10</td><td>True  </td><td>                </td><td style=\"text-align: right;\">1.24436  </td><td>ef685fb27ddc423f9f35b9db844185e3</td><td>6_algorithm=prophet_additive,file_path=s3_anonymous_air-example-data_ursa-labs-taxi-data_by_year_2018_04_data_parquet_f40c2c2806e548bfac8336de9c19a423_000000_parquet       </td><td>ip-172-31-170-171</td><td style=\"text-align: right;\">                         1</td><td>172.31.170.171</td><td style=\"text-align: right;\"> 2750</td><td>True               </td><td style=\"text-align: right;\">             7.79091</td><td style=\"text-align: right;\">           7.79091</td><td style=\"text-align: right;\">       7.79091</td><td style=\"text-align: right;\"> 1673571130</td><td style=\"text-align: right;\">                        0</td><td>                 </td><td style=\"text-align: right;\">                   1</td><td>7b96c_00006</td><td style=\"text-align: right;\">   0.00388527</td></tr>\n",
       "<tr><td>trainable_func_7b96c_00007</td><td>2023-01-12_16-52-10</td><td>True  </td><td>                </td><td style=\"text-align: right;\">0.072596 </td><td>6b1c28a3cb8d4f12995eb095dc2fa307</td><td>7_algorithm=prophet_multiplicative,file_path=s3_anonymous_air-example-data_ursa-labs-taxi-data_by_year_2018_04_data_parquet_f40c2c2806e548bfac8336de9c19a423_000000_parquet </td><td>ip-172-31-176-112</td><td style=\"text-align: right;\">                         1</td><td>172.31.176.112</td><td style=\"text-align: right;\"> 4849</td><td>True               </td><td style=\"text-align: right;\">             7.65564</td><td style=\"text-align: right;\">           7.65564</td><td style=\"text-align: right;\">       7.65564</td><td style=\"text-align: right;\"> 1673571130</td><td style=\"text-align: right;\">                        0</td><td>                 </td><td style=\"text-align: right;\">                   1</td><td>7b96c_00007</td><td style=\"text-align: right;\">   0.00371194</td></tr>\n",
       "<tr><td>trainable_func_7b96c_00008</td><td>2023-01-12_16-52-11</td><td>True  </td><td>                </td><td style=\"text-align: right;\">0        </td><td>e5e6392086fe4a3bb0d151d07181e887</td><td>8_algorithm=prophet_additive,file_path=s3_anonymous_air-example-data_ursa-labs-taxi-data_by_year_2018_05_data_parquet_a5de27164fda47988dec2576685656ae_000000_parquet       </td><td>ip-172-31-176-112</td><td style=\"text-align: right;\">                         1</td><td>172.31.176.112</td><td style=\"text-align: right;\"> 4850</td><td>True               </td><td style=\"text-align: right;\">             9.01486</td><td style=\"text-align: right;\">           9.01486</td><td style=\"text-align: right;\">       9.01486</td><td style=\"text-align: right;\"> 1673571131</td><td style=\"text-align: right;\">                        0</td><td>                 </td><td style=\"text-align: right;\">                   1</td><td>7b96c_00008</td><td style=\"text-align: right;\">   0.00351405</td></tr>\n",
       "<tr><td>trainable_func_7b96c_00009</td><td>2023-01-12_16-52-12</td><td>True  </td><td>                </td><td style=\"text-align: right;\">0        </td><td>8029e66a3cef45b78cbd2a4ef6f81d58</td><td>9_algorithm=prophet_multiplicative,file_path=s3_anonymous_air-example-data_ursa-labs-taxi-data_by_year_2018_05_data_parquet_a5de27164fda47988dec2576685656ae_000000_parquet </td><td>ip-172-31-170-171</td><td style=\"text-align: right;\">                         1</td><td>172.31.170.171</td><td style=\"text-align: right;\"> 2751</td><td>True               </td><td style=\"text-align: right;\">             8.69798</td><td style=\"text-align: right;\">           8.69798</td><td style=\"text-align: right;\">       8.69798</td><td style=\"text-align: right;\"> 1673571132</td><td style=\"text-align: right;\">                        0</td><td>                 </td><td style=\"text-align: right;\">                   1</td><td>7b96c_00009</td><td style=\"text-align: right;\">   0.00417137</td></tr>\n",
       "<tr><td>trainable_func_7b96c_00010</td><td>2023-01-12_16-52-44</td><td>True  </td><td>                </td><td style=\"text-align: right;\">0.552959 </td><td>6ff7d55e2cd941ec9cffd435f141e31e</td><td>10_algorithm=prophet_additive,file_path=s3_anonymous_air-example-data_ursa-labs-taxi-data_by_year_2018_06_data_parquet_df104576ffed4e308b72941df90f7790_000000_parquet      </td><td>ip-172-31-176-112</td><td style=\"text-align: right;\">                         1</td><td>172.31.176.112</td><td style=\"text-align: right;\"> 4851</td><td>True               </td><td style=\"text-align: right;\">            41.1175 </td><td style=\"text-align: right;\">          41.1175 </td><td style=\"text-align: right;\">      41.1175 </td><td style=\"text-align: right;\"> 1673571164</td><td style=\"text-align: right;\">                        0</td><td>                 </td><td style=\"text-align: right;\">                   1</td><td>7b96c_00010</td><td style=\"text-align: right;\">   0.00403643</td></tr>\n",
       "<tr><td>trainable_func_7b96c_00011</td><td>2023-01-12_16-52-32</td><td>True  </td><td>                </td><td style=\"text-align: right;\">0.08117  </td><td>2ccb109816d14f36a8aef52e7f0b7bb1</td><td>11_algorithm=prophet_multiplicative,file_path=s3_anonymous_air-example-data_ursa-labs-taxi-data_by_year_2018_06_data_parquet_df104576ffed4e308b72941df90f7790_000000_parquet</td><td>ip-172-31-170-171</td><td style=\"text-align: right;\">                         1</td><td>172.31.170.171</td><td style=\"text-align: right;\"> 2752</td><td>True               </td><td style=\"text-align: right;\">            28.5591 </td><td style=\"text-align: right;\">          28.5591 </td><td style=\"text-align: right;\">      28.5591 </td><td style=\"text-align: right;\"> 1673571152</td><td style=\"text-align: right;\">                        0</td><td>                 </td><td style=\"text-align: right;\">                   1</td><td>7b96c_00011</td><td style=\"text-align: right;\">   0.00390363</td></tr>\n",
       "<tr><td>trainable_func_7b96c_00012</td><td>2023-01-12_16-52-18</td><td>True  </td><td>                </td><td style=\"text-align: right;\">0.358611 </td><td>7f85734bf5304e00ad99dae14eb9f923</td><td>12_algorithm=prophet_additive,file_path=s3_anonymous_air-example-data_ursa-labs-taxi-data_by_year_2018_07_data_parquet_ccdef45e50de4678b7e589155f372a3d_000000_parquet      </td><td>ip-172-31-170-171</td><td style=\"text-align: right;\">                         1</td><td>172.31.170.171</td><td style=\"text-align: right;\"> 2753</td><td>True               </td><td style=\"text-align: right;\">            14.5687 </td><td style=\"text-align: right;\">          14.5687 </td><td style=\"text-align: right;\">      14.5687 </td><td style=\"text-align: right;\"> 1673571138</td><td style=\"text-align: right;\">                        0</td><td>                 </td><td style=\"text-align: right;\">                   1</td><td>7b96c_00012</td><td style=\"text-align: right;\">   0.00378108</td></tr>\n",
       "<tr><td>trainable_func_7b96c_00013</td><td>2023-01-12_16-52-18</td><td>True  </td><td>                </td><td style=\"text-align: right;\">0.0913204</td><td>e72d6febe5ff43cfba31b871ea06f3ad</td><td>13_algorithm=prophet_multiplicative,file_path=s3_anonymous_air-example-data_ursa-labs-taxi-data_by_year_2018_07_data_parquet_ccdef45e50de4678b7e589155f372a3d_000000_parquet</td><td>ip-172-31-170-171</td><td style=\"text-align: right;\">                         1</td><td>172.31.170.171</td><td style=\"text-align: right;\"> 2754</td><td>True               </td><td style=\"text-align: right;\">            14.5148 </td><td style=\"text-align: right;\">          14.5148 </td><td style=\"text-align: right;\">      14.5148 </td><td style=\"text-align: right;\"> 1673571138</td><td style=\"text-align: right;\">                        0</td><td>                 </td><td style=\"text-align: right;\">                   1</td><td>7b96c_00013</td><td style=\"text-align: right;\">   0.00408888</td></tr>\n",
       "<tr><td>trainable_func_7b96c_00014</td><td>2023-01-12_16-52-26</td><td>True  </td><td>                </td><td style=\"text-align: right;\">0.720532 </td><td>34443e3de6fd48c7948fa6b07eaf341a</td><td>14_algorithm=prophet_additive,file_path=s3_anonymous_air-example-data_ursa-labs-taxi-data_by_year_2018_08_data_parquet_9d605bf8abf84655997d491bc5a10a4c_000000_parquet      </td><td>ip-172-31-170-171</td><td style=\"text-align: right;\">                         1</td><td>172.31.170.171</td><td style=\"text-align: right;\"> 2755</td><td>True               </td><td style=\"text-align: right;\">            23.1891 </td><td style=\"text-align: right;\">          23.1891 </td><td style=\"text-align: right;\">      23.1891 </td><td style=\"text-align: right;\"> 1673571146</td><td style=\"text-align: right;\">                        0</td><td>                 </td><td style=\"text-align: right;\">                   1</td><td>7b96c_00014</td><td style=\"text-align: right;\">   0.00395274</td></tr>\n",
       "<tr><td>trainable_func_7b96c_00015</td><td>2023-01-12_16-52-24</td><td>True  </td><td>                </td><td style=\"text-align: right;\">0.0856885</td><td>ea80db65dcaf43f2bbdae602ceeceef7</td><td>15_algorithm=prophet_multiplicative,file_path=s3_anonymous_air-example-data_ursa-labs-taxi-data_by_year_2018_08_data_parquet_9d605bf8abf84655997d491bc5a10a4c_000000_parquet</td><td>ip-172-31-176-112</td><td style=\"text-align: right;\">                         1</td><td>172.31.176.112</td><td style=\"text-align: right;\"> 4855</td><td>True               </td><td style=\"text-align: right;\">            20.2117 </td><td style=\"text-align: right;\">          20.2117 </td><td style=\"text-align: right;\">      20.2117 </td><td style=\"text-align: right;\"> 1673571144</td><td style=\"text-align: right;\">                        0</td><td>                 </td><td style=\"text-align: right;\">                   1</td><td>7b96c_00015</td><td style=\"text-align: right;\">   0.00353599</td></tr>\n",
       "<tr><td>trainable_func_7b96c_00016</td><td>2023-01-12_16-52-29</td><td>True  </td><td>                </td><td style=\"text-align: right;\">2.39366  </td><td>ccdd5c2c50fe467b85acb78df64a889a</td><td>16_algorithm=prophet_additive,file_path=s3_anonymous_air-example-data_ursa-labs-taxi-data_by_year_2018_09_data_parquet_b200f3d9bf9f485ebd3b20c0c08711e1_000000_parquet      </td><td>ip-172-31-170-171</td><td style=\"text-align: right;\">                         1</td><td>172.31.170.171</td><td style=\"text-align: right;\"> 2767</td><td>True               </td><td style=\"text-align: right;\">            25.5591 </td><td style=\"text-align: right;\">          25.5591 </td><td style=\"text-align: right;\">      25.5591 </td><td style=\"text-align: right;\"> 1673571149</td><td style=\"text-align: right;\">                        0</td><td>                 </td><td style=\"text-align: right;\">                   1</td><td>7b96c_00016</td><td style=\"text-align: right;\">   0.00346828</td></tr>\n",
       "<tr><td>trainable_func_7b96c_00017</td><td>2023-01-12_16-52-24</td><td>True  </td><td>                </td><td style=\"text-align: right;\">0.409118 </td><td>823a4a2586ed4d0da0e74e37c12efb65</td><td>17_algorithm=prophet_multiplicative,file_path=s3_anonymous_air-example-data_ursa-labs-taxi-data_by_year_2018_09_data_parquet_b200f3d9bf9f485ebd3b20c0c08711e1_000000_parquet</td><td>ip-172-31-176-112</td><td style=\"text-align: right;\">                         1</td><td>172.31.176.112</td><td style=\"text-align: right;\"> 4860</td><td>True               </td><td style=\"text-align: right;\">            20.7719 </td><td style=\"text-align: right;\">          20.7719 </td><td style=\"text-align: right;\">      20.7719 </td><td style=\"text-align: right;\"> 1673571144</td><td style=\"text-align: right;\">                        0</td><td>                 </td><td style=\"text-align: right;\">                   1</td><td>7b96c_00017</td><td style=\"text-align: right;\">   0.00369716</td></tr>\n",
       "<tr><td>trainable_func_7b96c_00018</td><td>2023-01-12_16-52-13</td><td>True  </td><td>                </td><td style=\"text-align: right;\">0.301298 </td><td>0af46a8124654e41b0145371705fcb13</td><td>18_algorithm=prophet_additive,file_path=s3_anonymous_air-example-data_ursa-labs-taxi-data_by_year_2018_10_data_parquet_20624e28db574114b47de3e43065f014_000000_parquet      </td><td>ip-172-31-176-112</td><td style=\"text-align: right;\">                         1</td><td>172.31.176.112</td><td style=\"text-align: right;\"> 4861</td><td>True               </td><td style=\"text-align: right;\">             9.00731</td><td style=\"text-align: right;\">           9.00731</td><td style=\"text-align: right;\">       9.00731</td><td style=\"text-align: right;\"> 1673571133</td><td style=\"text-align: right;\">                        0</td><td>                 </td><td style=\"text-align: right;\">                   1</td><td>7b96c_00018</td><td style=\"text-align: right;\">   0.00450492</td></tr>\n",
       "<tr><td>trainable_func_7b96c_00019</td><td>2023-01-12_16-52-28</td><td>True  </td><td>                </td><td style=\"text-align: right;\">0.180789 </td><td>3effc9ab43a2401fb23403d97835e5c0</td><td>19_algorithm=prophet_multiplicative,file_path=s3_anonymous_air-example-data_ursa-labs-taxi-data_by_year_2018_10_data_parquet_20624e28db574114b47de3e43065f014_000000_parquet</td><td>ip-172-31-170-171</td><td style=\"text-align: right;\">                         1</td><td>172.31.170.171</td><td style=\"text-align: right;\"> 2768</td><td>True               </td><td style=\"text-align: right;\">            24.6243 </td><td style=\"text-align: right;\">          24.6243 </td><td style=\"text-align: right;\">      24.6243 </td><td style=\"text-align: right;\"> 1673571148</td><td style=\"text-align: right;\">                        0</td><td>                 </td><td style=\"text-align: right;\">                   1</td><td>7b96c_00019</td><td style=\"text-align: right;\">   0.0041492 </td></tr>\n",
       "<tr><td>trainable_func_7b96c_00020</td><td>2023-01-12_16-52-13</td><td>True  </td><td>                </td><td style=\"text-align: right;\">0        </td><td>6cfbacdfdc3e4bc495e1c0c9ad12ca3e</td><td>20_algorithm=prophet_additive,file_path=s3_anonymous_air-example-data_ursa-labs-taxi-data_by_year_2018_11_data_parquet_9c3fe546f3d746eeb3225b8150fb26e6_000000_parquet      </td><td>ip-172-31-176-112</td><td style=\"text-align: right;\">                         1</td><td>172.31.176.112</td><td style=\"text-align: right;\"> 4862</td><td>True               </td><td style=\"text-align: right;\">             9.42074</td><td style=\"text-align: right;\">           9.42074</td><td style=\"text-align: right;\">       9.42074</td><td style=\"text-align: right;\"> 1673571133</td><td style=\"text-align: right;\">                        0</td><td>                 </td><td style=\"text-align: right;\">                   1</td><td>7b96c_00020</td><td style=\"text-align: right;\">   0.00433993</td></tr>\n",
       "<tr><td>trainable_func_7b96c_00021</td><td>2023-01-12_16-52-11</td><td>True  </td><td>                </td><td style=\"text-align: right;\">0        </td><td>f68e09056a1d428fba254aadb7f40b9c</td><td>21_algorithm=prophet_multiplicative,file_path=s3_anonymous_air-example-data_ursa-labs-taxi-data_by_year_2018_11_data_parquet_9c3fe546f3d746eeb3225b8150fb26e6_000000_parquet</td><td>ip-172-31-170-171</td><td style=\"text-align: right;\">                         1</td><td>172.31.170.171</td><td style=\"text-align: right;\"> 2769</td><td>True               </td><td style=\"text-align: right;\">             7.44295</td><td style=\"text-align: right;\">           7.44295</td><td style=\"text-align: right;\">       7.44295</td><td style=\"text-align: right;\"> 1673571131</td><td style=\"text-align: right;\">                        0</td><td>                 </td><td style=\"text-align: right;\">                   1</td><td>7b96c_00021</td><td style=\"text-align: right;\">   0.00453115</td></tr>\n",
       "<tr><td>trainable_func_7b96c_00022</td><td>2023-01-12_16-52-13</td><td>True  </td><td>                </td><td style=\"text-align: right;\">0.882189 </td><td>bbbf7a39da0e4347ae5e0dd3a16bcb8d</td><td>22_algorithm=prophet_additive,file_path=s3_anonymous_air-example-data_ursa-labs-taxi-data_by_year_2018_12_data_parquet_d9829239c5d34340a7d9ba256917ed98_000000_parquet      </td><td>ip-172-31-176-112</td><td style=\"text-align: right;\">                         1</td><td>172.31.176.112</td><td style=\"text-align: right;\"> 4863</td><td>True               </td><td style=\"text-align: right;\">             9.61813</td><td style=\"text-align: right;\">           9.61813</td><td style=\"text-align: right;\">       9.61813</td><td style=\"text-align: right;\"> 1673571133</td><td style=\"text-align: right;\">                        0</td><td>                 </td><td style=\"text-align: right;\">                   1</td><td>7b96c_00022</td><td style=\"text-align: right;\">   0.00366807</td></tr>\n",
       "<tr><td>trainable_func_7b96c_00023</td><td>2023-01-12_16-52-11</td><td>True  </td><td>                </td><td style=\"text-align: right;\">0.0396678</td><td>d127fe14097c40b6bb931262a98dff7c</td><td>23_algorithm=prophet_multiplicative,file_path=s3_anonymous_air-example-data_ursa-labs-taxi-data_by_year_2018_12_data_parquet_d9829239c5d34340a7d9ba256917ed98_000000_parquet</td><td>ip-172-31-176-112</td><td style=\"text-align: right;\">                         1</td><td>172.31.176.112</td><td style=\"text-align: right;\"> 4864</td><td>True               </td><td style=\"text-align: right;\">             7.87993</td><td style=\"text-align: right;\">           7.87993</td><td style=\"text-align: right;\">       7.87993</td><td style=\"text-align: right;\"> 1673571131</td><td style=\"text-align: right;\">                        0</td><td>                 </td><td style=\"text-align: right;\">                   1</td><td>7b96c_00023</td><td style=\"text-align: right;\">   0.00345182</td></tr>\n",
       "</tbody>\n",
       "</table>\n",
       "</div>\n",
       "<style>\n",
       ".trialProgress {\n",
       "  display: flex;\n",
       "  flex-direction: column;\n",
       "  color: var(--jp-ui-font-color1);\n",
       "}\n",
       ".trialProgress h3 {\n",
       "  font-weight: bold;\n",
       "}\n",
       ".trialProgress td {\n",
       "  white-space: nowrap;\n",
       "}\n",
       "</style>\n"
      ],
      "text/plain": [
       "<IPython.core.display.HTML object>"
      ]
     },
     "metadata": {},
     "output_type": "display_data"
    },
    {
     "name": "stderr",
     "output_type": "stream",
     "text": [
      "\u001b[2m\u001b[36m(trainable_func pid=2751, ip=172.31.170.171)\u001b[0m INFO:prophet:Disabling yearly seasonality. Run prophet with yearly_seasonality=True to override this.\n",
      "\u001b[2m\u001b[36m(trainable_func pid=2751, ip=172.31.170.171)\u001b[0m INFO:prophet:Disabling weekly seasonality. Run prophet with weekly_seasonality=True to override this.\n",
      "\u001b[2m\u001b[36m(trainable_func pid=2751, ip=172.31.170.171)\u001b[0m INFO:prophet:Disabling daily seasonality. Run prophet with daily_seasonality=True to override this.\n",
      "\u001b[2m\u001b[36m(trainable_func pid=2769, ip=172.31.170.171)\u001b[0m INFO:prophet:Disabling yearly seasonality. Run prophet with yearly_seasonality=True to override this.\n",
      "\u001b[2m\u001b[36m(trainable_func pid=2769, ip=172.31.170.171)\u001b[0m INFO:prophet:Disabling weekly seasonality. Run prophet with weekly_seasonality=True to override this.\n",
      "\u001b[2m\u001b[36m(trainable_func pid=2769, ip=172.31.170.171)\u001b[0m INFO:prophet:Disabling daily seasonality. Run prophet with daily_seasonality=True to override this.\n",
      "\u001b[2m\u001b[36m(trainable_func pid=4860, ip=172.31.176.112)\u001b[0m INFO:prophet:Disabling daily seasonality. Run prophet with daily_seasonality=True to override this.\n",
      "\u001b[2m\u001b[36m(trainable_func pid=4851, ip=172.31.176.112)\u001b[0m INFO:prophet:Disabling daily seasonality. Run prophet with daily_seasonality=True to override this.\n"
     ]
    },
    {
     "name": "stdout",
     "output_type": "stream",
     "text": [
      "\u001b[2m\u001b[36m(trainable_func pid=4849, ip=172.31.176.112)\u001b[0m Initial log joint probability = -37.4824\n",
      "\u001b[2m\u001b[36m(trainable_func pid=4849, ip=172.31.176.112)\u001b[0m     Iter      log prob        ||dx||      ||grad||       alpha      alpha0  # evals  Notes \n",
      "\u001b[2m\u001b[36m(trainable_func pid=2769, ip=172.31.170.171)\u001b[0m Initial log joint probability = -17.4955\n",
      "\u001b[2m\u001b[36m(trainable_func pid=2769, ip=172.31.170.171)\u001b[0m     Iter      log prob        ||dx||      ||grad||       alpha      alpha0  # evals  Notes \n",
      "\u001b[2m\u001b[36m(trainable_func pid=4850, ip=172.31.176.112)\u001b[0m       26       99729.3   3.96954e-05       91.2016           1           1       40   \n",
      "\u001b[2m\u001b[36m(trainable_func pid=4850, ip=172.31.176.112)\u001b[0m Optimization terminated normally: \n",
      "\u001b[2m\u001b[36m(trainable_func pid=4850, ip=172.31.176.112)\u001b[0m   Convergence detected: relative gradient magnitude is below tolerance\n"
     ]
    },
    {
     "name": "stderr",
     "output_type": "stream",
     "text": [
      "\u001b[2m\u001b[36m(trainable_func pid=4863, ip=172.31.176.112)\u001b[0m INFO:prophet:Disabling daily seasonality. Run prophet with daily_seasonality=True to override this.\n",
      "\u001b[2m\u001b[36m(trainable_func pid=2755, ip=172.31.170.171)\u001b[0m INFO:prophet:Disabling daily seasonality. Run prophet with daily_seasonality=True to override this.\n",
      "\u001b[2m\u001b[36m(trainable_func pid=2768, ip=172.31.170.171)\u001b[0m INFO:prophet:Disabling daily seasonality. Run prophet with daily_seasonality=True to override this.\n",
      "\u001b[2m\u001b[36m(trainable_func pid=4855, ip=172.31.176.112)\u001b[0m INFO:prophet:Disabling daily seasonality. Run prophet with daily_seasonality=True to override this.\n"
     ]
    },
    {
     "name": "stdout",
     "output_type": "stream",
     "text": [
      "\u001b[2m\u001b[36m(trainable_func pid=4864, ip=172.31.176.112)\u001b[0m Initial log joint probability = -25.9776\n",
      "\u001b[2m\u001b[36m(trainable_func pid=2749, ip=172.31.170.171)\u001b[0m Initial log joint probability = -152.634\n",
      "\u001b[2m\u001b[36m(trainable_func pid=2749, ip=172.31.170.171)\u001b[0m     Iter      log prob        ||dx||      ||grad||       alpha      alpha0  # evals  Notes \n",
      "\u001b[2m\u001b[36m(trainable_func pid=2751, ip=172.31.170.171)\u001b[0m Initial log joint probability = -9.08708\n",
      "\u001b[2m\u001b[36m(trainable_func pid=2751, ip=172.31.170.171)\u001b[0m     Iter      log prob        ||dx||      ||grad||       alpha      alpha0  # evals  Notes \n",
      "\u001b[2m\u001b[36m(trainable_func pid=4864, ip=172.31.176.112)\u001b[0m     Iter      log prob        ||dx||      ||grad||       alpha      alpha0  # evals  Notes \n"
     ]
    },
    {
     "name": "stderr",
     "output_type": "stream",
     "text": [
      "\u001b[2m\u001b[36m(trainable_func pid=2748, ip=172.31.170.171)\u001b[0m INFO:prophet:Disabling daily seasonality. Run prophet with daily_seasonality=True to override this.\n",
      "\u001b[2m\u001b[36m(trainable_func pid=2753, ip=172.31.170.171)\u001b[0m INFO:prophet:Disabling daily seasonality. Run prophet with daily_seasonality=True to override this.\n"
     ]
    },
    {
     "name": "stdout",
     "output_type": "stream",
     "text": [
      "\u001b[2m\u001b[36m(trainable_func pid=4863, ip=172.31.176.112)\u001b[0m Initial log joint probability = -25.9776\n",
      "\u001b[2m\u001b[36m(trainable_func pid=4863, ip=172.31.176.112)\u001b[0m     Iter      log prob        ||dx||      ||grad||       alpha      alpha0  # evals  Notes \n",
      "\u001b[2m\u001b[36m(trainable_func pid=2748, ip=172.31.170.171)\u001b[0m Initial log joint probability = -152.634\n",
      "\u001b[2m\u001b[36m(trainable_func pid=2748, ip=172.31.170.171)\u001b[0m     Iter      log prob        ||dx||      ||grad||       alpha      alpha0  # evals  Notes \n"
     ]
    },
    {
     "name": "stderr",
     "output_type": "stream",
     "text": [
      "\u001b[2m\u001b[36m(trainable_func pid=4862, ip=172.31.176.112)\u001b[0m INFO:prophet:Disabling yearly seasonality. Run prophet with yearly_seasonality=True to override this.\n",
      "\u001b[2m\u001b[36m(trainable_func pid=4862, ip=172.31.176.112)\u001b[0m INFO:prophet:Disabling weekly seasonality. Run prophet with weekly_seasonality=True to override this.\n",
      "\u001b[2m\u001b[36m(trainable_func pid=4862, ip=172.31.176.112)\u001b[0m INFO:prophet:Disabling daily seasonality. Run prophet with daily_seasonality=True to override this.\n",
      "\u001b[2m\u001b[36m(trainable_func pid=2767, ip=172.31.170.171)\u001b[0m INFO:prophet:Disabling daily seasonality. Run prophet with daily_seasonality=True to override this.\n",
      "\u001b[2m\u001b[36m(trainable_func pid=2752, ip=172.31.170.171)\u001b[0m INFO:prophet:Disabling daily seasonality. Run prophet with daily_seasonality=True to override this.\n"
     ]
    },
    {
     "name": "stdout",
     "output_type": "stream",
     "text": [
      "\u001b[2m\u001b[36m(trainable_func pid=2768, ip=172.31.170.171)\u001b[0m Initial log joint probability = -119.679\n",
      "\u001b[2m\u001b[36m(trainable_func pid=2768, ip=172.31.170.171)\u001b[0m     Iter      log prob        ||dx||      ||grad||       alpha      alpha0  # evals  Notes \n",
      "\u001b[2m\u001b[36m(trainable_func pid=4862, ip=172.31.176.112)\u001b[0m Initial log joint probability = -17.4955\n",
      "\u001b[2m\u001b[36m(trainable_func pid=4862, ip=172.31.176.112)\u001b[0m     Iter      log prob        ||dx||      ||grad||       alpha      alpha0  # evals  Notes \n",
      "\u001b[2m\u001b[36m(trainable_func pid=2751, ip=172.31.170.171)\u001b[0m       26       99729.3   3.96954e-05       91.2016           1           1       40   \n",
      "\u001b[2m\u001b[36m(trainable_func pid=2751, ip=172.31.170.171)\u001b[0m Optimization terminated normally: \n",
      "\u001b[2m\u001b[36m(trainable_func pid=2751, ip=172.31.170.171)\u001b[0m   Convergence detected: relative gradient magnitude is below tolerance\n",
      "\u001b[2m\u001b[36m(trainable_func pid=4848, ip=172.31.176.112)\u001b[0m Initial log joint probability = -233.643\n"
     ]
    },
    {
     "name": "stderr",
     "output_type": "stream",
     "text": [
      "\u001b[2m\u001b[36m(trainable_func pid=4861, ip=172.31.176.112)\u001b[0m INFO:prophet:Disabling daily seasonality. Run prophet with daily_seasonality=True to override this.\n"
     ]
    },
    {
     "name": "stdout",
     "output_type": "stream",
     "text": [
      "\u001b[2m\u001b[36m(trainable_func pid=2769, ip=172.31.170.171)\u001b[0m       62       85944.2   2.82334e-05       54.3035      0.6341      0.6341       81   \n",
      "\u001b[2m\u001b[36m(trainable_func pid=2769, ip=172.31.170.171)\u001b[0m Optimization terminated normally: \n",
      "\u001b[2m\u001b[36m(trainable_func pid=2769, ip=172.31.170.171)\u001b[0m   Convergence detected: relative gradient magnitude is below tolerance\n",
      "\u001b[2m\u001b[36m(trainable_func pid=4848, ip=172.31.176.112)\u001b[0m     Iter      log prob        ||dx||      ||grad||       alpha      alpha0  # evals  Notes \n",
      "\u001b[2m\u001b[36m(trainable_func pid=4846, ip=172.31.176.112)\u001b[0m       48       66815.7   1.38389e-05        100.35      0.4352      0.4352       72   \n",
      "\u001b[2m\u001b[36m(trainable_func pid=4846, ip=172.31.176.112)\u001b[0m Optimization terminated normally: \n",
      "\u001b[2m\u001b[36m(trainable_func pid=4846, ip=172.31.176.112)\u001b[0m   Convergence detected: relative gradient magnitude is below tolerance\n",
      "\u001b[2m\u001b[36m(trainable_func pid=4849, ip=172.31.176.112)\u001b[0m       22       41025.6   1.38064e-05       90.2316   1.474e-07       0.001       83  LS failed, Hessian reset \n",
      "\u001b[2m\u001b[36m(trainable_func pid=2750, ip=172.31.170.171)\u001b[0m       72       41034.1    0.00015774       99.2186           1           1      113   \n",
      "\u001b[2m\u001b[36m(trainable_func pid=2750, ip=172.31.170.171)\u001b[0m Optimization terminated normally: \n",
      "\u001b[2m\u001b[36m(trainable_func pid=2750, ip=172.31.170.171)\u001b[0m   Convergence detected: relative gradient magnitude is below tolerance\n",
      "\u001b[2m\u001b[36m(trainable_func pid=4847, ip=172.31.176.112)\u001b[0m Initial log joint probability = -233.643\n",
      "\u001b[2m\u001b[36m(trainable_func pid=4847, ip=172.31.176.112)\u001b[0m     Iter      log prob        ||dx||      ||grad||       alpha      alpha0  # evals  Notes \n",
      "\u001b[2m\u001b[36m(trainable_func pid=4849, ip=172.31.176.112)\u001b[0m       27       41025.6   1.99619e-08       90.0562    0.009105           1      105   \n",
      "\u001b[2m\u001b[36m(trainable_func pid=4849, ip=172.31.176.112)\u001b[0m Optimization terminated normally: \n",
      "\u001b[2m\u001b[36m(trainable_func pid=4849, ip=172.31.176.112)\u001b[0m   Convergence detected: relative gradient magnitude is below tolerance\n",
      "\u001b[2m\u001b[36m(trainable_func pid=2749, ip=172.31.170.171)\u001b[0m       29       72975.1    9.7916e-08       108.394    0.001269           1       62   \n",
      "\u001b[2m\u001b[36m(trainable_func pid=2749, ip=172.31.170.171)\u001b[0m Optimization terminated normally: \n",
      "\u001b[2m\u001b[36m(trainable_func pid=2749, ip=172.31.170.171)\u001b[0m   Convergence detected: relative change in objective function was below tolerance\n",
      "\u001b[2m\u001b[36m(trainable_func pid=2754, ip=172.31.170.171)\u001b[0m Initial log joint probability = -160.107\n",
      "\u001b[2m\u001b[36m(trainable_func pid=2754, ip=172.31.170.171)\u001b[0m     Iter      log prob        ||dx||      ||grad||       alpha      alpha0  # evals  Notes \n",
      "\u001b[2m\u001b[36m(trainable_func pid=4861, ip=172.31.176.112)\u001b[0m Initial log joint probability = -119.679\n",
      "\u001b[2m\u001b[36m(trainable_func pid=4861, ip=172.31.176.112)\u001b[0m     Iter      log prob        ||dx||      ||grad||       alpha      alpha0  # evals  Notes \n",
      "\u001b[2m\u001b[36m(trainable_func pid=4860, ip=172.31.176.112)\u001b[0m Initial log joint probability = -1823.76\n",
      "\u001b[2m\u001b[36m(trainable_func pid=4860, ip=172.31.176.112)\u001b[0m     Iter      log prob        ||dx||      ||grad||       alpha      alpha0  # evals  Notes \n",
      "\u001b[2m\u001b[36m(trainable_func pid=4864, ip=172.31.176.112)\u001b[0m       33       98233.1   1.05682e-05       158.468      0.4022           1       67   \n",
      "\u001b[2m\u001b[36m(trainable_func pid=4864, ip=172.31.176.112)\u001b[0m Optimization terminated normally: \n",
      "\u001b[2m\u001b[36m(trainable_func pid=4864, ip=172.31.176.112)\u001b[0m   Convergence detected: relative gradient magnitude is below tolerance\n",
      "\u001b[2m\u001b[36m(trainable_func pid=2748, ip=172.31.170.171)\u001b[0m       41       72975.4   7.05971e-06       117.236     0.09085      0.3333       66   \n",
      "\u001b[2m\u001b[36m(trainable_func pid=2748, ip=172.31.170.171)\u001b[0m Optimization terminated normally: \n",
      "\u001b[2m\u001b[36m(trainable_func pid=2748, ip=172.31.170.171)\u001b[0m   Convergence detected: relative gradient magnitude is below tolerance\n",
      "\u001b[2m\u001b[36m(trainable_func pid=4862, ip=172.31.176.112)\u001b[0m       62       85944.2   2.82334e-05       54.3035      0.6341      0.6341       81   \n",
      "\u001b[2m\u001b[36m(trainable_func pid=4862, ip=172.31.176.112)\u001b[0m Optimization terminated normally: \n",
      "\u001b[2m\u001b[36m(trainable_func pid=4862, ip=172.31.176.112)\u001b[0m   Convergence detected: relative gradient magnitude is below tolerance\n",
      "\u001b[2m\u001b[36m(trainable_func pid=2755, ip=172.31.170.171)\u001b[0m Initial log joint probability = -164.625\n",
      "\u001b[2m\u001b[36m(trainable_func pid=2755, ip=172.31.170.171)\u001b[0m     Iter      log prob        ||dx||      ||grad||       alpha      alpha0  # evals  Notes \n",
      "\u001b[2m\u001b[36m(trainable_func pid=4855, ip=172.31.176.112)\u001b[0m Initial log joint probability = -164.625\n",
      "\u001b[2m\u001b[36m(trainable_func pid=4863, ip=172.31.176.112)\u001b[0m       99       98239.8   0.000136017       311.149           1           1      129   \n",
      "\u001b[2m\u001b[36m(trainable_func pid=4863, ip=172.31.176.112)\u001b[0m     Iter      log prob        ||dx||      ||grad||       alpha      alpha0  # evals  Notes \n",
      "\u001b[2m\u001b[36m(trainable_func pid=4855, ip=172.31.176.112)\u001b[0m     Iter      log prob        ||dx||      ||grad||       alpha      alpha0  # evals  Notes \n",
      "\u001b[2m\u001b[36m(trainable_func pid=2767, ip=172.31.170.171)\u001b[0m Initial log joint probability = -1823.76\n",
      "\u001b[2m\u001b[36m(trainable_func pid=2753, ip=172.31.170.171)\u001b[0m Initial log joint probability = -160.107\n",
      "\u001b[2m\u001b[36m(trainable_func pid=4851, ip=172.31.176.112)\u001b[0m Initial log joint probability = -345.36\n",
      "\u001b[2m\u001b[36m(trainable_func pid=2767, ip=172.31.170.171)\u001b[0m     Iter      log prob        ||dx||      ||grad||       alpha      alpha0  # evals  Notes \n",
      "\u001b[2m\u001b[36m(trainable_func pid=2753, ip=172.31.170.171)\u001b[0m     Iter      log prob        ||dx||      ||grad||       alpha      alpha0  # evals  Notes \n",
      "\u001b[2m\u001b[36m(trainable_func pid=4851, ip=172.31.176.112)\u001b[0m     Iter      log prob        ||dx||      ||grad||       alpha      alpha0  # evals  Notes \n",
      "\u001b[2m\u001b[36m(trainable_func pid=4861, ip=172.31.176.112)\u001b[0m       20        154348   4.74936e-06       123.137           1           1       39   \n",
      "\u001b[2m\u001b[36m(trainable_func pid=4861, ip=172.31.176.112)\u001b[0m Optimization terminated normally: \n",
      "\u001b[2m\u001b[36m(trainable_func pid=4861, ip=172.31.176.112)\u001b[0m   Convergence detected: relative gradient magnitude is below tolerance\n",
      "\u001b[2m\u001b[36m(trainable_func pid=2752, ip=172.31.170.171)\u001b[0m Initial log joint probability = -345.36\n",
      "\u001b[2m\u001b[36m(trainable_func pid=2752, ip=172.31.170.171)\u001b[0m     Iter      log prob        ||dx||      ||grad||       alpha      alpha0  # evals  Notes \n"
     ]
    },
    {
     "name": "stderr",
     "output_type": "stream",
     "text": [
      "2023-01-12 16:52:12,294\tWARNING util.py:244 -- The `process_trial_save` operation took 5.153 s, which may be a performance bottleneck.\n"
     ]
    },
    {
     "name": "stdout",
     "output_type": "stream",
     "text": [
      "\u001b[2m\u001b[36m(trainable_func pid=4863, ip=172.31.176.112)\u001b[0m      153       98240.1   7.51418e-06       105.765      0.2428           1      194   \n",
      "\u001b[2m\u001b[36m(trainable_func pid=4863, ip=172.31.176.112)\u001b[0m Optimization terminated normally: \n",
      "\u001b[2m\u001b[36m(trainable_func pid=4863, ip=172.31.176.112)\u001b[0m   Convergence detected: relative gradient magnitude is below tolerance\n"
     ]
    },
    {
     "name": "stderr",
     "output_type": "stream",
     "text": [
      "2023-01-12 16:52:15,085\tWARNING util.py:244 -- The `process_trial_save` operation took 2.740 s, which may be a performance bottleneck.\n"
     ]
    },
    {
     "name": "stdout",
     "output_type": "stream",
     "text": [
      "\u001b[2m\u001b[36m(trainable_func pid=2768, ip=172.31.170.171)\u001b[0m       99        154347    0.00161459       352.178           1           1      136   \n",
      "\u001b[2m\u001b[36m(trainable_func pid=2768, ip=172.31.170.171)\u001b[0m     Iter      log prob        ||dx||      ||grad||       alpha      alpha0  # evals  Notes \n"
     ]
    },
    {
     "name": "stderr",
     "output_type": "stream",
     "text": [
      "2023-01-12 16:52:16,683\tWARNING util.py:244 -- The `process_trial_save` operation took 1.597 s, which may be a performance bottleneck.\n"
     ]
    },
    {
     "name": "stdout",
     "output_type": "stream",
     "text": [
      "\u001b[2m\u001b[36m(trainable_func pid=2753, ip=172.31.170.171)\u001b[0m       25        476926   1.67432e-06       492.264      0.6607      0.6607       42   \n",
      "\u001b[2m\u001b[36m(trainable_func pid=2753, ip=172.31.170.171)\u001b[0m Optimization terminated normally: \n",
      "\u001b[2m\u001b[36m(trainable_func pid=2753, ip=172.31.170.171)\u001b[0m   Convergence detected: relative gradient magnitude is below tolerance\n",
      "\u001b[2m\u001b[36m(trainable_func pid=2754, ip=172.31.170.171)\u001b[0m       36        476922   0.000417623       264.632           1           1       57   \n",
      "\u001b[2m\u001b[36m(trainable_func pid=2754, ip=172.31.170.171)\u001b[0m Optimization terminated normally: \n",
      "\u001b[2m\u001b[36m(trainable_func pid=2754, ip=172.31.170.171)\u001b[0m   Convergence detected: relative gradient magnitude is below tolerance\n"
     ]
    },
    {
     "name": "stderr",
     "output_type": "stream",
     "text": [
      "2023-01-12 16:52:21,588\tWARNING util.py:244 -- The `process_trial_save` operation took 4.863 s, which may be a performance bottleneck.\n"
     ]
    },
    {
     "name": "stdout",
     "output_type": "stream",
     "text": [
      "\u001b[2m\u001b[36m(trainable_func pid=2768, ip=172.31.170.171)\u001b[0m      199        154348   8.56524e-05       111.334      0.1246      0.1246      278   \n",
      "\u001b[2m\u001b[36m(trainable_func pid=2768, ip=172.31.170.171)\u001b[0m     Iter      log prob        ||dx||      ||grad||       alpha      alpha0  # evals  Notes \n",
      "\u001b[2m\u001b[36m(trainable_func pid=4855, ip=172.31.176.112)\u001b[0m       53        499170   0.000103375       151.314           1           1       91   \n",
      "\u001b[2m\u001b[36m(trainable_func pid=4855, ip=172.31.176.112)\u001b[0m Optimization terminated normally: \n",
      "\u001b[2m\u001b[36m(trainable_func pid=4855, ip=172.31.176.112)\u001b[0m   Convergence detected: relative gradient magnitude is below tolerance\n",
      "\u001b[2m\u001b[36m(trainable_func pid=4848, ip=172.31.176.112)\u001b[0m       99        540798   0.000386738       2374.21        0.43           1      132   \n",
      "\u001b[2m\u001b[36m(trainable_func pid=4848, ip=172.31.176.112)\u001b[0m     Iter      log prob        ||dx||      ||grad||       alpha      alpha0  # evals  Notes \n",
      "\u001b[2m\u001b[36m(trainable_func pid=4860, ip=172.31.176.112)\u001b[0m       64        497590   0.000354387       197.759           1           1       97   \n",
      "\u001b[2m\u001b[36m(trainable_func pid=4860, ip=172.31.176.112)\u001b[0m Optimization terminated normally: \n",
      "\u001b[2m\u001b[36m(trainable_func pid=4860, ip=172.31.176.112)\u001b[0m   Convergence detected: relative gradient magnitude is below tolerance\n",
      "\u001b[2m\u001b[36m(trainable_func pid=4847, ip=172.31.176.112)\u001b[0m       99        540798   0.000447115       1924.54           1           1      126   \n",
      "\u001b[2m\u001b[36m(trainable_func pid=4847, ip=172.31.176.112)\u001b[0m     Iter      log prob        ||dx||      ||grad||       alpha      alpha0  # evals  Notes \n",
      "\u001b[2m\u001b[36m(trainable_func pid=2768, ip=172.31.170.171)\u001b[0m      203        154348   1.11388e-05       225.793   9.141e-08       0.001      331  LS failed, Hessian reset \n",
      "\u001b[2m\u001b[36m(trainable_func pid=2755, ip=172.31.170.171)\u001b[0m       76        499172   3.14213e-06       264.879           1           1      104   \n",
      "\u001b[2m\u001b[36m(trainable_func pid=2755, ip=172.31.170.171)\u001b[0m Optimization terminated normally: \n",
      "\u001b[2m\u001b[36m(trainable_func pid=2755, ip=172.31.170.171)\u001b[0m   Convergence detected: relative gradient magnitude is below tolerance\n",
      "\u001b[2m\u001b[36m(trainable_func pid=2768, ip=172.31.170.171)\u001b[0m      254        154348    8.4487e-07       127.579     0.07411     0.07411      405   \n",
      "\u001b[2m\u001b[36m(trainable_func pid=2768, ip=172.31.170.171)\u001b[0m Optimization terminated normally: \n",
      "\u001b[2m\u001b[36m(trainable_func pid=2768, ip=172.31.170.171)\u001b[0m   Convergence detected: relative gradient magnitude is below tolerance\n",
      "\u001b[2m\u001b[36m(trainable_func pid=2767, ip=172.31.170.171)\u001b[0m       86        497593   1.05262e-05       388.397           1           1      116   \n",
      "\u001b[2m\u001b[36m(trainable_func pid=2767, ip=172.31.170.171)\u001b[0m Optimization terminated normally: \n",
      "\u001b[2m\u001b[36m(trainable_func pid=2767, ip=172.31.170.171)\u001b[0m   Convergence detected: relative gradient magnitude is below tolerance\n"
     ]
    },
    {
     "name": "stderr",
     "output_type": "stream",
     "text": [
      "2023-01-12 16:52:29,627\tWARNING util.py:244 -- The `process_trial_save` operation took 2.674 s, which may be a performance bottleneck.\n"
     ]
    },
    {
     "name": "stdout",
     "output_type": "stream",
     "text": [
      "\u001b[2m\u001b[36m(trainable_func pid=4851, ip=172.31.176.112)\u001b[0m       99        492631   6.39095e-05        568.65           1           1      125   \n",
      "\u001b[2m\u001b[36m(trainable_func pid=4851, ip=172.31.176.112)\u001b[0m     Iter      log prob        ||dx||      ||grad||       alpha      alpha0  # evals  Notes \n",
      "\u001b[2m\u001b[36m(trainable_func pid=2752, ip=172.31.170.171)\u001b[0m       89        492630   8.82699e-05       131.396           1           1      121   \n",
      "\u001b[2m\u001b[36m(trainable_func pid=2752, ip=172.31.170.171)\u001b[0m Optimization terminated normally: \n",
      "\u001b[2m\u001b[36m(trainable_func pid=2752, ip=172.31.170.171)\u001b[0m   Convergence detected: relative gradient magnitude is below tolerance\n"
     ]
    },
    {
     "name": "stderr",
     "output_type": "stream",
     "text": [
      "2023-01-12 16:52:32,220\tWARNING util.py:244 -- The `process_trial_save` operation took 2.563 s, which may be a performance bottleneck.\n",
      "2023-01-12 16:52:33,411\tWARNING util.py:244 -- The `process_trial_save` operation took 1.183 s, which may be a performance bottleneck.\n",
      "2023-01-12 16:52:34,836\tWARNING util.py:244 -- The `process_trial_save` operation took 1.399 s, which may be a performance bottleneck.\n"
     ]
    },
    {
     "name": "stdout",
     "output_type": "stream",
     "text": [
      "\u001b[2m\u001b[36m(trainable_func pid=4847, ip=172.31.176.112)\u001b[0m      199        540804   0.000112513       266.213           1           1      237   \n",
      "\u001b[2m\u001b[36m(trainable_func pid=4847, ip=172.31.176.112)\u001b[0m Optimization terminated normally: \n",
      "\u001b[2m\u001b[36m(trainable_func pid=4847, ip=172.31.176.112)\u001b[0m   Convergence detected: relative gradient magnitude is below tolerance\n",
      "\u001b[2m\u001b[36m(trainable_func pid=4848, ip=172.31.176.112)\u001b[0m      199        540804   0.000411169       665.489           1           1      258   \n",
      "\u001b[2m\u001b[36m(trainable_func pid=4848, ip=172.31.176.112)\u001b[0m     Iter      log prob        ||dx||      ||grad||       alpha      alpha0  # evals  Notes \n"
     ]
    },
    {
     "name": "stderr",
     "output_type": "stream",
     "text": [
      "2023-01-12 16:52:37,493\tWARNING util.py:244 -- The `process_trial_save` operation took 2.633 s, which may be a performance bottleneck.\n"
     ]
    },
    {
     "name": "stdout",
     "output_type": "stream",
     "text": [
      "\u001b[2m\u001b[36m(trainable_func pid=4848, ip=172.31.176.112)\u001b[0m      213        540804   3.59852e-05       216.267           1           1      274   \n",
      "\u001b[2m\u001b[36m(trainable_func pid=4848, ip=172.31.176.112)\u001b[0m Optimization terminated normally: \n",
      "\u001b[2m\u001b[36m(trainable_func pid=4848, ip=172.31.176.112)\u001b[0m   Convergence detected: relative gradient magnitude is below tolerance\n"
     ]
    },
    {
     "name": "stderr",
     "output_type": "stream",
     "text": [
      "2023-01-12 16:52:40,115\tWARNING util.py:244 -- The `process_trial_save` operation took 1.415 s, which may be a performance bottleneck.\n",
      "2023-01-12 16:52:41,385\tWARNING util.py:244 -- The `process_trial_save` operation took 1.240 s, which may be a performance bottleneck.\n",
      "2023-01-12 16:52:42,544\tWARNING util.py:244 -- The `process_trial_save` operation took 1.157 s, which may be a performance bottleneck.\n"
     ]
    },
    {
     "name": "stdout",
     "output_type": "stream",
     "text": [
      "\u001b[2m\u001b[36m(trainable_func pid=4851, ip=172.31.176.112)\u001b[0m      178        492635   2.39523e-05       347.982           1           1      211   \n",
      "\u001b[2m\u001b[36m(trainable_func pid=4851, ip=172.31.176.112)\u001b[0m Optimization terminated normally: \n",
      "\u001b[2m\u001b[36m(trainable_func pid=4851, ip=172.31.176.112)\u001b[0m   Convergence detected: relative gradient magnitude is below tolerance\n"
     ]
    },
    {
     "name": "stderr",
     "output_type": "stream",
     "text": [
      "2023-01-12 16:52:45,097\tWARNING util.py:244 -- The `process_trial_save` operation took 1.394 s, which may be a performance bottleneck.\n",
      "2023-01-12 16:52:46,226\tWARNING util.py:244 -- The `process_trial_save` operation took 1.127 s, which may be a performance bottleneck.\n",
      "2023-01-12 16:52:48,900\tWARNING util.py:244 -- The `process_trial_save` operation took 1.511 s, which may be a performance bottleneck.\n",
      "2023-01-12 16:52:52,691\tWARNING util.py:244 -- The `process_trial_save` operation took 2.590 s, which may be a performance bottleneck.\n",
      "2023-01-12 16:52:54,960\tWARNING util.py:244 -- The `process_trial_save` operation took 1.075 s, which may be a performance bottleneck.\n",
      "2023-01-12 16:52:56,134\tWARNING util.py:244 -- The `process_trial_save` operation took 1.162 s, which may be a performance bottleneck.\n",
      "2023-01-12 16:53:02,150\tWARNING util.py:244 -- The `process_trial_save` operation took 1.253 s, which may be a performance bottleneck.\n",
      "2023-01-12 16:53:03,334\tWARNING util.py:244 -- The `process_trial_save` operation took 1.182 s, which may be a performance bottleneck.\n",
      "2023-01-12 16:53:04,473\tWARNING util.py:244 -- The `process_trial_save` operation took 1.137 s, which may be a performance bottleneck.\n",
      "2023-01-12 16:53:11,424\tWARNING util.py:244 -- The `process_trial_save` operation took 1.169 s, which may be a performance bottleneck.\n",
      "2023-01-12 16:53:16,378\tWARNING util.py:244 -- The `process_trial_save` operation took 1.409 s, which may be a performance bottleneck.\n",
      "2023-01-12 16:53:17,535\tWARNING util.py:244 -- The `process_trial_save` operation took 1.153 s, which may be a performance bottleneck.\n",
      "2023-01-12 16:53:23,466\tINFO tune.py:762 -- Total run time: 85.24 seconds (85.11 seconds for the tuning loop).\n"
     ]
    },
    {
     "name": "stdout",
     "output_type": "stream",
     "text": [
      "Total number of models: 24\n",
      "TOTAL TIME TAKEN: 1.42 minutes\n"
     ]
    }
   ],
   "source": [
    "start = time.time()\n",
    "tuner = tune.Tuner(\n",
    "        trainable_func,\n",
    "        param_space=param_space,\n",
    "        # tune_config=tune.TuneConfig(\n",
    "        #     metric=\"error\",\n",
    "        #     mode=\"min\",\n",
    "        # ),\n",
    "        # run_config=air.RunConfig(\n",
    "        #     # Redirect logs to relative path instead of default ~/ray_results/.\n",
    "        #     local_dir=\"my_Tune_logs\",\n",
    "        #     # Specify name to make logs easier to find in log path.\n",
    "        #     name=\"tune_nyc\",\n",
    "        # ),\n",
    "    )\n",
    "results = tuner.fit()\n",
    "\n",
    "time_ray_tune = time.time() - start\n",
    "print(f\"Total number of models: {len(results)}\")\n",
    "print(f\"TOTAL TIME TAKEN: {time_ray_tune/60:.2f} minutes\")\n",
    "\n",
    "# Total number of models: 24\n",
    "# TOTAL TIME TAKEN: 1.17 minutes"
   ]
  },
  {
   "cell_type": "code",
   "execution_count": 18,
   "id": "6a22e332",
   "metadata": {},
   "outputs": [
    {
     "name": "stdout",
     "output_type": "stream",
     "text": [
      "Speedup from running Ray Tune with AIR vs serial Python: 242.3x, or 24100.0%\n"
     ]
    }
   ],
   "source": [
    "# Calculate the speed-up between serial Python and Ray Tune\n",
    "\n",
    "# Trained 2x number of models this time compared to original serial Python.\n",
    "speedup = time_regular_python / time_ray_tune * 2\n",
    "print(f\"Speedup from running Ray Tune with AIR vs serial Python: {np.round(speedup, 1)}x\"\n",
    "      f\", or {(np.round(speedup, 0)-1) * 100}%\")\n",
    "\n",
    "# Speedup from running Ray Tune with AIR vs serial Python: 242.3x, or 24100.0%"
   ]
  },
  {
   "cell_type": "code",
   "execution_count": null,
   "id": "3410660e",
   "metadata": {},
   "outputs": [],
   "source": []
  }
 ],
 "metadata": {
  "kernelspec": {
   "display_name": "Python 3 (ipykernel)",
   "language": "python",
   "name": "python3"
  },
  "language_info": {
   "codemirror_mode": {
    "name": "ipython",
    "version": 3
   },
   "file_extension": ".py",
   "mimetype": "text/x-python",
   "name": "python",
   "nbconvert_exporter": "python",
   "pygments_lexer": "ipython3",
   "version": "3.8.13"
  }
 },
 "nbformat": 4,
 "nbformat_minor": 5
}
