{
 "cells": [
  {
   "cell_type": "markdown",
   "id": "653d43ba-37d2-4737-844c-9f5b74fdff17",
   "metadata": {},
   "source": [
    "# Demo ARIMA Time Series Forecasting on Ray local\n",
    "\n",
    "### Description:  \n",
    "This notebook goes along with the tutorial <a href=\"https://towardsdatascience.com/scaling-time-series-forecasting-with-ray-arima-and-prophet-e6c856e605ee\">How to Train Faster Time Series Forecasting Using Ray, part 1 of 2<a>.\n",
    "\n",
    "This notebook demonstrates Time Series Forecasting ARIMA algorithm on Ray.  Example data is NYC yellow taxi from: https://www1.nyc.gov/site/tlc/about/tlc-trip-record-data.page  <br>\n",
    "\n",
    "Forecast goal:  Given 6 months historical taxi trips data for NYC, your task is to predict #pickups at each location in NYC at monthly level for the next 2 months.\n",
    "\n",
    "### Demo notes:\n",
    "Output shows timings using SMALL dataset <br>\n",
    "Both demo datasets are available in this github repo under data/  <br>\n",
    "SMALL dataset contains original, actual 260 items \"clean_taxi_monthly.parquet\" <br>\n",
    "MEDIUM dataset contains 2860 items with extra fakes \"clean_taxi_monthly_fake_medium.parquet\" <br>"
   ]
  },
  {
   "cell_type": "code",
   "execution_count": 1,
   "id": "a9c19cfb-d264-4607-8222-01375c387fed",
   "metadata": {},
   "outputs": [
    {
     "name": "stdout",
     "output_type": "stream",
     "text": [
      "Python 3.8.13\n",
      "Number of CPUs in this system: 8\n"
     ]
    },
    {
     "name": "stderr",
     "output_type": "stream",
     "text": [
      "/Users/christy/opt/miniconda3/envs/prophet38/lib/python3.8/site-packages/statsforecast/core.py:17: TqdmExperimentalWarning: Using `tqdm.autonotebook.tqdm` in notebook mode. Use `tqdm.tqdm` instead to force console mode (e.g. in jupyter console)\n",
      "  from tqdm.autonotebook import tqdm\n"
     ]
    },
    {
     "name": "stdout",
     "output_type": "stream",
     "text": [
      "statsforecast: 1.3.1\n"
     ]
    }
   ],
   "source": [
    "!python --version\n",
    "import time, os\n",
    "from typing import Tuple\n",
    "from dateutil.relativedelta import relativedelta\n",
    "import numpy as np\n",
    "import pandas as pd\n",
    "import matplotlib.pyplot as plt\n",
    "%matplotlib inline\n",
    "num_cpu = os.cpu_count()\n",
    "\n",
    "print(f\"Number of CPUs in this system: {num_cpu}\")\n",
    "# Import forecasting libraries.\n",
    "import statsforecast\n",
    "from statsforecast import StatsForecast\n",
    "from statsforecast.models import AutoARIMA\n",
    "\n",
    "print(f\"statsforecast: {statsforecast.__version__}\")"
   ]
  },
  {
   "cell_type": "code",
   "execution_count": 2,
   "id": "6ff5657f-0ae4-44bd-b2fa-07bca2ff2226",
   "metadata": {},
   "outputs": [
    {
     "name": "stderr",
     "output_type": "stream",
     "text": [
      "2023-01-08 16:17:37,462\tINFO worker.py:1519 -- Started a local Ray instance. View the dashboard at \u001b[1m\u001b[32mhttp://127.0.0.1:8265 \u001b[39m\u001b[22m\n"
     ]
    },
    {
     "data": {
      "text/html": [
       "<div>\n",
       "    <div style=\"margin-left: 50px;display: flex;flex-direction: row;align-items: center\">\n",
       "        <h3 style=\"color: var(--jp-ui-font-color0)\">Ray</h3>\n",
       "        <svg version=\"1.1\" id=\"ray\" width=\"3em\" viewBox=\"0 0 144.5 144.6\" style=\"margin-left: 3em;margin-right: 3em\">\n",
       "            <g id=\"layer-1\">\n",
       "                <path fill=\"#00a2e9\" class=\"st0\" d=\"M97.3,77.2c-3.8-1.1-6.2,0.9-8.3,5.1c-3.5,6.8-9.9,9.9-17.4,9.6S58,88.1,54.8,81.2c-1.4-3-3-4-6.3-4.1\n",
       "                    c-5.6-0.1-9.9,0.1-13.1,6.4c-3.8,7.6-13.6,10.2-21.8,7.6C5.2,88.4-0.4,80.5,0,71.7c0.1-8.4,5.7-15.8,13.8-18.2\n",
       "                    c8.4-2.6,17.5,0.7,22.3,8c1.3,1.9,1.3,5.2,3.6,5.6c3.9,0.6,8,0.2,12,0.2c1.8,0,1.9-1.6,2.4-2.8c3.5-7.8,9.7-11.8,18-11.9\n",
       "                    c8.2-0.1,14.4,3.9,17.8,11.4c1.3,2.8,2.9,3.6,5.7,3.3c1-0.1,2,0.1,3,0c2.8-0.5,6.4,1.7,8.1-2.7s-2.3-5.5-4.1-7.5\n",
       "                    c-5.1-5.7-10.9-10.8-16.1-16.3C84,38,81.9,37.1,78,38.3C66.7,42,56.2,35.7,53,24.1C50.3,14,57.3,2.8,67.7,0.5\n",
       "                    C78.4-2,89,4.7,91.5,15.3c0.1,0.3,0.1,0.5,0.2,0.8c0.7,3.4,0.7,6.9-0.8,9.8c-1.7,3.2-0.8,5,1.5,7.2c6.7,6.5,13.3,13,19.8,19.7\n",
       "                    c1.8,1.8,3,2.1,5.5,1.2c9.1-3.4,17.9-0.6,23.4,7c4.8,6.9,4.6,16.1-0.4,22.9c-5.4,7.2-14.2,9.9-23.1,6.5c-2.3-0.9-3.5-0.6-5.1,1.1\n",
       "                    c-6.7,6.9-13.6,13.7-20.5,20.4c-1.8,1.8-2.5,3.2-1.4,5.9c3.5,8.7,0.3,18.6-7.7,23.6c-7.9,5-18.2,3.8-24.8-2.9\n",
       "                    c-6.4-6.4-7.4-16.2-2.5-24.3c4.9-7.8,14.5-11,23.1-7.8c3,1.1,4.7,0.5,6.9-1.7C91.7,98.4,98,92.3,104.2,86c1.6-1.6,4.1-2.7,2.6-6.2\n",
       "                    c-1.4-3.3-3.8-2.5-6.2-2.6C99.8,77.2,98.9,77.2,97.3,77.2z M72.1,29.7c5.5,0.1,9.9-4.3,10-9.8c0-0.1,0-0.2,0-0.3\n",
       "                    C81.8,14,77,9.8,71.5,10.2c-5,0.3-9,4.2-9.3,9.2c-0.2,5.5,4,10.1,9.5,10.3C71.8,29.7,72,29.7,72.1,29.7z M72.3,62.3\n",
       "                    c-5.4-0.1-9.9,4.2-10.1,9.7c0,0.2,0,0.3,0,0.5c0.2,5.4,4.5,9.7,9.9,10c5.1,0.1,9.9-4.7,10.1-9.8c0.2-5.5-4-10-9.5-10.3\n",
       "                    C72.6,62.3,72.4,62.3,72.3,62.3z M115,72.5c0.1,5.4,4.5,9.7,9.8,9.9c5.6-0.2,10-4.8,10-10.4c-0.2-5.4-4.6-9.7-10-9.7\n",
       "                    c-5.3-0.1-9.8,4.2-9.9,9.5C115,72.1,115,72.3,115,72.5z M19.5,62.3c-5.4,0.1-9.8,4.4-10,9.8c-0.1,5.1,5.2,10.4,10.2,10.3\n",
       "                    c5.6-0.2,10-4.9,9.8-10.5c-0.1-5.4-4.5-9.7-9.9-9.6C19.6,62.3,19.5,62.3,19.5,62.3z M71.8,134.6c5.9,0.2,10.3-3.9,10.4-9.6\n",
       "                    c0.5-5.5-3.6-10.4-9.1-10.8c-5.5-0.5-10.4,3.6-10.8,9.1c0,0.5,0,0.9,0,1.4c-0.2,5.3,4,9.8,9.3,10\n",
       "                    C71.6,134.6,71.7,134.6,71.8,134.6z\"/>\n",
       "            </g>\n",
       "        </svg>\n",
       "        <table>\n",
       "            <tr>\n",
       "                <td style=\"text-align: left\"><b>Python version:</b></td>\n",
       "                <td style=\"text-align: left\"><b>3.8.13</b></td>\n",
       "            </tr>\n",
       "            <tr>\n",
       "                <td style=\"text-align: left\"><b>Ray version:</b></td>\n",
       "                <td style=\"text-align: left\"><b> 2.1.0</b></td>\n",
       "            </tr>\n",
       "            <tr>\n",
       "    <td style=\"text-align: left\"><b>Dashboard:</b></td>\n",
       "    <td style=\"text-align: left\"><b><a href=\"http://127.0.0.1:8265\" target=\"_blank\">http://127.0.0.1:8265</a></b></td>\n",
       "</tr>\n",
       "\n",
       "        </table>\n",
       "    </div>\n",
       "</div>\n"
      ],
      "text/plain": [
       "RayContext(dashboard_url='127.0.0.1:8265', python_version='3.8.13', ray_version='2.1.0', ray_commit='be49bde7ee4f6adb3f8710aee0665c27f9f0bb62', address_info={'node_ip_address': '127.0.0.1', 'raylet_ip_address': '127.0.0.1', 'redis_address': None, 'object_store_address': '/tmp/ray/session_2023-01-08_16-17-35_406203_59848/sockets/plasma_store', 'raylet_socket_name': '/tmp/ray/session_2023-01-08_16-17-35_406203_59848/sockets/raylet', 'webui_url': '127.0.0.1:8265', 'session_dir': '/tmp/ray/session_2023-01-08_16-17-35_406203_59848', 'metrics_export_port': 58001, 'gcs_address': '127.0.0.1:62401', 'address': '127.0.0.1:62401', 'dashboard_agent_listen_port': 52365, 'node_id': '97367bced841064a091de231c0fd94d6221f353a52fc0662e9257d7a'})"
      ]
     },
     "execution_count": 2,
     "metadata": {},
     "output_type": "execute_result"
    }
   ],
   "source": [
    "import ray\n",
    "\n",
    "if ray.is_initialized():\n",
    "    ray.shutdown()\n",
    "ray.init()"
   ]
  },
  {
   "cell_type": "code",
   "execution_count": 3,
   "id": "0d1ba53d-f1f1-47b5-a118-28600497c93b",
   "metadata": {},
   "outputs": [
    {
     "name": "stdout",
     "output_type": "stream",
     "text": [
      "{'CPU': 8.0, 'node:127.0.0.1': 1.0, 'object_store_memory': 2147483648.0, 'memory': 8680770765.0}\n"
     ]
    }
   ],
   "source": [
    "print(ray.cluster_resources())"
   ]
  },
  {
   "cell_type": "markdown",
   "id": "7028f386-a613-4d77-a6f8-e5e70d4bfe40",
   "metadata": {},
   "source": [
    "# Read 8 months clean NYC taxi data \n",
    "\n",
    "New York City Yellow Taxi ride volumes per location (8 months of historical data). <ul>\n",
    "    <li>Original source: https://www1.nyc.gov/site/tlc/about/tlc-trip-record-data.page</li>\n",
    "    <li>Clean monthly source:  https://github.com/christy/AnyscaleDemos/blob/main/forecasting_demos/data/clean_taxi_monthly.parquet?raw=true </li>\n",
    "    </ul>\n",
    "\n",
    "Normally there is a data cleaning/prep step to convert raw data -> cleaned data.  We'll dig into details of ETL later.  <br>\n",
    "For now, let's just start with cleaned, aggregated monthly data for ARIMA and Prophet, since those algorithms are typically for strategic-level forecasting, not typically for detailed-level forecasting."
   ]
  },
  {
   "cell_type": "code",
   "execution_count": 4,
   "id": "c86cd7b2-8ff5-405e-bd9a-0a1fab4651ab",
   "metadata": {},
   "outputs": [
    {
     "data": {
      "text/html": [
       "<div>\n",
       "<style scoped>\n",
       "    .dataframe tbody tr th:only-of-type {\n",
       "        vertical-align: middle;\n",
       "    }\n",
       "\n",
       "    .dataframe tbody tr th {\n",
       "        vertical-align: top;\n",
       "    }\n",
       "\n",
       "    .dataframe thead th {\n",
       "        text-align: right;\n",
       "    }\n",
       "</style>\n",
       "<table border=\"1\" class=\"dataframe\">\n",
       "  <thead>\n",
       "    <tr style=\"text-align: right;\">\n",
       "      <th></th>\n",
       "      <th>ds</th>\n",
       "      <th>unique_id</th>\n",
       "      <th>y</th>\n",
       "    </tr>\n",
       "  </thead>\n",
       "  <tbody>\n",
       "    <tr>\n",
       "      <th>0</th>\n",
       "      <td>2019-07-31</td>\n",
       "      <td>1</td>\n",
       "      <td>50</td>\n",
       "    </tr>\n",
       "    <tr>\n",
       "      <th>1</th>\n",
       "      <td>2019-07-31</td>\n",
       "      <td>10</td>\n",
       "      <td>2201</td>\n",
       "    </tr>\n",
       "    <tr>\n",
       "      <th>2</th>\n",
       "      <td>2019-07-31</td>\n",
       "      <td>100</td>\n",
       "      <td>138614</td>\n",
       "    </tr>\n",
       "    <tr>\n",
       "      <th>3</th>\n",
       "      <td>2019-07-31</td>\n",
       "      <td>101</td>\n",
       "      <td>63</td>\n",
       "    </tr>\n",
       "    <tr>\n",
       "      <th>4</th>\n",
       "      <td>2019-07-31</td>\n",
       "      <td>102</td>\n",
       "      <td>97</td>\n",
       "    </tr>\n",
       "  </tbody>\n",
       "</table>\n",
       "</div>"
      ],
      "text/plain": [
       "          ds unique_id       y\n",
       "0 2019-07-31         1      50\n",
       "1 2019-07-31        10    2201\n",
       "2 2019-07-31       100  138614\n",
       "3 2019-07-31       101      63\n",
       "4 2019-07-31       102      97"
      ]
     },
     "metadata": {},
     "output_type": "display_data"
    }
   ],
   "source": [
    "##########\n",
    "## STEP 1.  Read data and ray.put() data into Ray shared cluster memory.\n",
    "##########\n",
    "# Read data into a Pandas dataframe.\n",
    "filename = \"../../../forecasting_demos/Ray_v1/data/clean_taxi_monthly.parquet\"\n",
    "g_month = pd.read_parquet(filename)\n",
    "\n",
    "# Prophet requires timstamp is 'ds' and target_value name is 'y'\n",
    "# Prophet requires at least 2 data points per timestamp\n",
    "# StatsForecast requires location name is 'unique_id'\n",
    "\n",
    "g_month.reset_index(inplace=True)\n",
    "g_month.rename(columns={\"pickup_monthly\": \"ds\"}, inplace=True)\n",
    "g_month.rename(columns={\"pulocationid\": \"unique_id\"}, inplace=True)\n",
    "g_month.rename(columns={\"trip_quantity\": \"y\"}, inplace=True)\n",
    "g_month.drop(['pickup_lat', 'pickup_lon'], axis=1, inplace=True)\n",
    "\n",
    "# Put data in shared ray object store.\n",
    "input_data_ref = ray.put(g_month)\n",
    "\n",
    "display(g_month.head())\n"
   ]
  },
  {
   "cell_type": "code",
   "execution_count": 5,
   "id": "8d56e30d-d07d-4f32-b8d5-b1a6d7ee2161",
   "metadata": {},
   "outputs": [
    {
     "name": "stdout",
     "output_type": "stream",
     "text": [
      "Problem locations already removed.\n"
     ]
    }
   ],
   "source": [
    "# Define some global variables.\n",
    "TARGET = \"trip_quantity\"\n",
    "FORECAST_LENGTH = 2\n",
    "UNIQUE_ID=\"unique_id\"\n",
    "ID_LIST = list(g_month[UNIQUE_ID].unique())\n",
    "\n",
    "try:\n",
    "    # drop [264, 265, 199]\n",
    "    ID_LIST.remove(264)\n",
    "    ID_LIST.remove(265)\n",
    "    ID_LIST.remove(199)\n",
    "except:\n",
    "    print(\"Problem locations already removed.\")"
   ]
  },
  {
   "cell_type": "markdown",
   "id": "5f9c56c1-e824-4b50-85b7-264bfce42108",
   "metadata": {},
   "source": [
    "# Regular Python"
   ]
  },
  {
   "cell_type": "code",
   "execution_count": 6,
   "id": "a5ce030b-dfd6-49a6-9a92-5fa839b0f6d2",
   "metadata": {},
   "outputs": [],
   "source": [
    "# Define a train_model function.\n",
    "def train_model_arima(\n",
    "    input_df:pd.DataFrame, \n",
    "    input_value:str\n",
    ") -> Tuple[pd.DataFrame, pd.DataFrame, bytes]:\n",
    "    \n",
    "    # Hide noisy warnings.\n",
    "    import warnings\n",
    "    warnings.filterwarnings(\"ignore\")\n",
    "    \n",
    "    # Subset pandas df\n",
    "    df = input_df.loc[(input_df[UNIQUE_ID] == input_value), :].copy()\n",
    "\n",
    "    # Split data into train, test.\n",
    "    train_end = df.ds.max() - relativedelta(months=FORECAST_LENGTH - 1)\n",
    "    train_df = df.loc[(df.ds <= train_end), :].copy()\n",
    "    test_df = df.iloc[-(FORECAST_LENGTH):, :].copy()\n",
    "    \n",
    "    # Define ARIMA model with monthly frequency which implies seasonality = 12.\n",
    "    model = [AutoARIMA(season_length=12, approximation=True)]      \n",
    "\n",
    "    # Train and fit AutoARIMA model.\n",
    "    model = StatsForecast(df=train_df, models=model, freq=\"M\")\n",
    "    \n",
    "    return train_df, test_df, model\n",
    "\n",
    "\n",
    "# Define inference_model function\n",
    "def inference_model_arima(model:'statsforecast.core._StatsForecast', \n",
    "                          test_df:pd.DataFrame\n",
    "                         ) -> Tuple[float, pd.DataFrame]:\n",
    "\n",
    "    # Inference model using test data.\n",
    "    forecast = model.forecast(FORECAST_LENGTH).reset_index()\n",
    "    forecast.set_index([\"ds\"], inplace=True)\n",
    "    test_df.set_index(\"ds\", inplace=True)\n",
    "    future = pd.concat([test_df, forecast[[\"AutoARIMA\"]]], axis=1)\n",
    "    future.dropna(inplace=True)\n",
    "    future.columns = [UNIQUE_ID, \"y\", \"yhat\"]\n",
    "\n",
    "    # Calculate mean absolute forecast error.\n",
    "    temp = future.copy()\n",
    "    temp[\"forecast_error\"] = np.abs(temp[\"yhat\"] - temp[\"y\"])\n",
    "    error = np.mean(temp[\"forecast_error\"])\n",
    "\n",
    "    return error, future"
   ]
  },
  {
   "cell_type": "markdown",
   "id": "0b04a77a-05a2-4b2e-9b99-f641c1212d49",
   "metadata": {},
   "source": [
    "# Test regular python functions"
   ]
  },
  {
   "cell_type": "code",
   "execution_count": 7,
   "id": "695a354b-2729-40e9-86e9-39bf203ca7df",
   "metadata": {},
   "outputs": [],
   "source": [
    "%%capture\n",
    "# hide noisy output\n",
    "\n",
    "###########\n",
    "# Regular Python program flow to train and inference ARIMA models\n",
    "###########\n",
    "model = []\n",
    "train = []\n",
    "valid = []\n",
    "forecast_obj_refs = []\n",
    "\n",
    "# Train every model.\n",
    "start = time.time()\n",
    "train, valid, model = map(\n",
    "    list,\n",
    "    zip(\n",
    "        *(\n",
    "            [\n",
    "                train_model_arima(\n",
    "                    g_month,\n",
    "                    input_value=v,\n",
    "                )\n",
    "                for v in ID_LIST\n",
    "            ]\n",
    "        )\n",
    "    ),\n",
    ")\n",
    "\n",
    "# Inference every model.\n",
    "error, forecast = map(\n",
    "    list,\n",
    "    zip(\n",
    "        *(\n",
    "            [\n",
    "                inference_model_arima(model[p], valid[p] )\n",
    "                for p in range(len(ID_LIST))\n",
    "            ]\n",
    "        )\n",
    "    ),\n",
    ")\n",
    "\n",
    "# Print some training stats\n",
    "time_regular_python = time.time() - start\n",
    "print(f\"Total number of models: {len(model)}\")\n",
    "print(f\"TOTAL TIME TAKEN: {time_regular_python/60:.2f} minutes\")\n"
   ]
  },
  {
   "cell_type": "markdown",
   "id": "3b547ebd-5ca7-45ba-a0bd-012aa6a986dd",
   "metadata": {},
   "source": [
    "### Inspect a few forecasts"
   ]
  },
  {
   "cell_type": "code",
   "execution_count": 8,
   "id": "298b5b07-2a1e-4479-bfcc-51c9b72bd8c6",
   "metadata": {},
   "outputs": [
    {
     "name": "stdout",
     "output_type": "stream",
     "text": [
      "Total number of models: 260\n",
      "TOTAL TIME TAKEN: 0.16 minutes\n"
     ]
    },
    {
     "data": {
      "text/html": [
       "<div>\n",
       "<style scoped>\n",
       "    .dataframe tbody tr th:only-of-type {\n",
       "        vertical-align: middle;\n",
       "    }\n",
       "\n",
       "    .dataframe tbody tr th {\n",
       "        vertical-align: top;\n",
       "    }\n",
       "\n",
       "    .dataframe thead th {\n",
       "        text-align: right;\n",
       "    }\n",
       "</style>\n",
       "<table border=\"1\" class=\"dataframe\">\n",
       "  <thead>\n",
       "    <tr style=\"text-align: right;\">\n",
       "      <th></th>\n",
       "      <th>unique_id</th>\n",
       "      <th>y</th>\n",
       "      <th>yhat</th>\n",
       "    </tr>\n",
       "    <tr>\n",
       "      <th>ds</th>\n",
       "      <th></th>\n",
       "      <th></th>\n",
       "      <th></th>\n",
       "    </tr>\n",
       "  </thead>\n",
       "  <tbody>\n",
       "    <tr>\n",
       "      <th>2020-01-31</th>\n",
       "      <td>1</td>\n",
       "      <td>34</td>\n",
       "      <td>52.351261</td>\n",
       "    </tr>\n",
       "    <tr>\n",
       "      <th>2020-02-29</th>\n",
       "      <td>1</td>\n",
       "      <td>35</td>\n",
       "      <td>51.710461</td>\n",
       "    </tr>\n",
       "  </tbody>\n",
       "</table>\n",
       "</div>"
      ],
      "text/plain": [
       "           unique_id   y       yhat\n",
       "ds                                 \n",
       "2020-01-31         1  34  52.351261\n",
       "2020-02-29         1  35  51.710461"
      ]
     },
     "metadata": {},
     "output_type": "display_data"
    },
    {
     "data": {
      "text/html": [
       "<div>\n",
       "<style scoped>\n",
       "    .dataframe tbody tr th:only-of-type {\n",
       "        vertical-align: middle;\n",
       "    }\n",
       "\n",
       "    .dataframe tbody tr th {\n",
       "        vertical-align: top;\n",
       "    }\n",
       "\n",
       "    .dataframe thead th {\n",
       "        text-align: right;\n",
       "    }\n",
       "</style>\n",
       "<table border=\"1\" class=\"dataframe\">\n",
       "  <thead>\n",
       "    <tr style=\"text-align: right;\">\n",
       "      <th></th>\n",
       "      <th>unique_id</th>\n",
       "      <th>y</th>\n",
       "      <th>yhat</th>\n",
       "    </tr>\n",
       "    <tr>\n",
       "      <th>ds</th>\n",
       "      <th></th>\n",
       "      <th></th>\n",
       "      <th></th>\n",
       "    </tr>\n",
       "  </thead>\n",
       "  <tbody>\n",
       "    <tr>\n",
       "      <th>2020-01-31</th>\n",
       "      <td>10</td>\n",
       "      <td>1689</td>\n",
       "      <td>1890.360107</td>\n",
       "    </tr>\n",
       "    <tr>\n",
       "      <th>2020-02-29</th>\n",
       "      <td>10</td>\n",
       "      <td>1386</td>\n",
       "      <td>1881.759399</td>\n",
       "    </tr>\n",
       "  </tbody>\n",
       "</table>\n",
       "</div>"
      ],
      "text/plain": [
       "           unique_id     y         yhat\n",
       "ds                                     \n",
       "2020-01-31        10  1689  1890.360107\n",
       "2020-02-29        10  1386  1881.759399"
      ]
     },
     "metadata": {},
     "output_type": "display_data"
    },
    {
     "data": {
      "text/plain": [
       "<Figure size 800x500 with 0 Axes>"
      ]
     },
     "metadata": {},
     "output_type": "display_data"
    },
    {
     "data": {
      "image/png": "[encoded data removed]",
      "text/plain": [
       "<Figure size 640x480 with 1 Axes>"
      ]
     },
     "metadata": {},
     "output_type": "display_data"
    },
    {
     "data": {
      "image/png": "[encoded data removed]",
      "text/plain": [
       "<Figure size 640x480 with 1 Axes>"
      ]
     },
     "metadata": {},
     "output_type": "display_data"
    }
   ],
   "source": [
    "print(f\"Total number of models: {len(model)}\")\n",
    "print(f\"TOTAL TIME TAKEN: {time_regular_python/60:.2f} minutes\")\n",
    "\n",
    "# Verify you have 1 model and 1 forecast per unique ID.\n",
    "assert len(model) == len(ID_LIST)\n",
    "assert len(forecast) == len(ID_LIST)\n",
    "\n",
    "# plot first two forecasts\n",
    "plt.figure(figsize=(8, 5))\n",
    "for p, v in enumerate(ID_LIST[0:2]):\n",
    "    display(forecast[p])\n",
    "    future = pd.concat([train[p].set_index('ds')[[UNIQUE_ID, 'y']], forecast[p]])\n",
    "    future[[\"y\", \"yhat\"]].plot()"
   ]
  },
  {
   "cell_type": "markdown",
   "id": "5e0069ac-6746-4a84-8fbe-8ce65c560e81",
   "metadata": {},
   "source": [
    "# Ray distributed Python"
   ]
  },
  {
   "cell_type": "code",
   "execution_count": 9,
   "id": "4de81c7e-0c72-4e58-a66e-c82284b6e6bd",
   "metadata": {},
   "outputs": [],
   "source": [
    "###########\n",
    "# Convert existing functions to Ray remote functions\n",
    "###########\n",
    "\n",
    "# Convert your regular python functions to ray remote functions\n",
    "train_model_arima_remote = ray.remote(train_model_arima).options(num_returns=3)  \n",
    "inference_model_arima_remote = ray.remote(inference_model_arima).options(num_returns=2)"
   ]
  },
  {
   "cell_type": "code",
   "execution_count": 14,
   "id": "c6928c22-d00d-444d-8035-f0e888a41764",
   "metadata": {},
   "outputs": [],
   "source": [
    "%%capture\n",
    "# hide noisy output\n",
    "\n",
    "###########\n",
    "# Ray distributed program flow to train and inference ARIMA models\n",
    "###########\n",
    "model = []\n",
    "train = []\n",
    "valid = []\n",
    "forecast_obj_refs = []\n",
    "\n",
    "# Train every model.\n",
    "start = time.time()\n",
    "train_obj_refs, valid_obj_refs, model_obj_refs = map(\n",
    "    list,\n",
    "    zip(\n",
    "        *(\n",
    "            [\n",
    "                train_model_arima_remote.remote(\n",
    "                    # g_month,\n",
    "                    input_data_ref,\n",
    "                    input_value=v,\n",
    "                )\n",
    "                for v in ID_LIST\n",
    "            ]\n",
    "        )\n",
    "    ),\n",
    ")\n",
    "\n",
    "# Inference every model.\n",
    "error_obj_refs, forecast_obj_refs = map(\n",
    "    list,\n",
    "    zip(\n",
    "        *(\n",
    "            [\n",
    "                inference_model_arima_remote.remote(model_obj_refs[p], valid_obj_refs[p] )\n",
    "                for p in range(len(ID_LIST))\n",
    "            ]\n",
    "        )\n",
    "    ),\n",
    ")\n",
    "\n",
    "# ray.get() means block until all objectIDs requested are available\n",
    "forecast = ray.get(forecast_obj_refs)\n",
    "error = ray.get(error_obj_refs)\n",
    "train = ray.get(train_obj_refs)\n",
    "model = ray.get(model_obj_refs)\n",
    "\n",
    "# Print some training stats\n",
    "time_ray_local = time.time() - start\n",
    "# print(f\"Total number of models: {len(model)}\")\n",
    "# print(f\"TOTAL TIME TAKEN: {time_ray_local/60:.2f} minutes\")"
   ]
  },
  {
   "cell_type": "code",
   "execution_count": 15,
   "id": "5b535d08-afb7-4b15-ad34-e99a9ddad979",
   "metadata": {},
   "outputs": [
    {
     "name": "stdout",
     "output_type": "stream",
     "text": [
      "Total number of models: 0\n",
      "TOTAL TIME TAKEN: 0.03 minutes\n",
      "Speedup from running Ray parallel code on your laptop: 5.9x, or 500.0%\n"
     ]
    }
   ],
   "source": [
    "# Print some training stats\n",
    "print(f\"Total number of models: {len(model)}\")\n",
    "print(f\"TOTAL TIME TAKEN: {time_ray_local/60:.2f} minutes\")\n",
    "\n",
    "# Calculate speedup:\n",
    "speedup = time_regular_python / time_ray_local\n",
    "print(f\"Speedup from running Ray parallel code on your laptop: {np.round(speedup, 1)}x\"\n",
    "      f\", or {(np.round(speedup, 0)-1) * 100}%\")\n"
   ]
  },
  {
   "cell_type": "markdown",
   "id": "e0ee1ee0-c39b-403c-a0fb-c3573facc0ae",
   "metadata": {},
   "source": [
    "### Inspect a few forecasts"
   ]
  },
  {
   "cell_type": "code",
   "execution_count": 16,
   "id": "3ff80499-44a3-4fcf-a1b7-e7c2d7561c5e",
   "metadata": {},
   "outputs": [
    {
     "data": {
      "text/html": [
       "<div>\n",
       "<style scoped>\n",
       "    .dataframe tbody tr th:only-of-type {\n",
       "        vertical-align: middle;\n",
       "    }\n",
       "\n",
       "    .dataframe tbody tr th {\n",
       "        vertical-align: top;\n",
       "    }\n",
       "\n",
       "    .dataframe thead th {\n",
       "        text-align: right;\n",
       "    }\n",
       "</style>\n",
       "<table border=\"1\" class=\"dataframe\">\n",
       "  <thead>\n",
       "    <tr style=\"text-align: right;\">\n",
       "      <th></th>\n",
       "      <th>unique_id</th>\n",
       "      <th>y</th>\n",
       "      <th>yhat</th>\n",
       "    </tr>\n",
       "    <tr>\n",
       "      <th>ds</th>\n",
       "      <th></th>\n",
       "      <th></th>\n",
       "      <th></th>\n",
       "    </tr>\n",
       "  </thead>\n",
       "  <tbody>\n",
       "    <tr>\n",
       "      <th>2020-01-31</th>\n",
       "      <td>1</td>\n",
       "      <td>34</td>\n",
       "      <td>52.351261</td>\n",
       "    </tr>\n",
       "    <tr>\n",
       "      <th>2020-02-29</th>\n",
       "      <td>1</td>\n",
       "      <td>35</td>\n",
       "      <td>51.710461</td>\n",
       "    </tr>\n",
       "  </tbody>\n",
       "</table>\n",
       "</div>"
      ],
      "text/plain": [
       "           unique_id   y       yhat\n",
       "ds                                 \n",
       "2020-01-31         1  34  52.351261\n",
       "2020-02-29         1  35  51.710461"
      ]
     },
     "metadata": {},
     "output_type": "display_data"
    },
    {
     "data": {
      "text/html": [
       "<div>\n",
       "<style scoped>\n",
       "    .dataframe tbody tr th:only-of-type {\n",
       "        vertical-align: middle;\n",
       "    }\n",
       "\n",
       "    .dataframe tbody tr th {\n",
       "        vertical-align: top;\n",
       "    }\n",
       "\n",
       "    .dataframe thead th {\n",
       "        text-align: right;\n",
       "    }\n",
       "</style>\n",
       "<table border=\"1\" class=\"dataframe\">\n",
       "  <thead>\n",
       "    <tr style=\"text-align: right;\">\n",
       "      <th></th>\n",
       "      <th>unique_id</th>\n",
       "      <th>y</th>\n",
       "      <th>yhat</th>\n",
       "    </tr>\n",
       "    <tr>\n",
       "      <th>ds</th>\n",
       "      <th></th>\n",
       "      <th></th>\n",
       "      <th></th>\n",
       "    </tr>\n",
       "  </thead>\n",
       "  <tbody>\n",
       "    <tr>\n",
       "      <th>2020-01-31</th>\n",
       "      <td>10</td>\n",
       "      <td>1689</td>\n",
       "      <td>1890.360107</td>\n",
       "    </tr>\n",
       "    <tr>\n",
       "      <th>2020-02-29</th>\n",
       "      <td>10</td>\n",
       "      <td>1386</td>\n",
       "      <td>1881.759399</td>\n",
       "    </tr>\n",
       "  </tbody>\n",
       "</table>\n",
       "</div>"
      ],
      "text/plain": [
       "           unique_id     y         yhat\n",
       "ds                                     \n",
       "2020-01-31        10  1689  1890.360107\n",
       "2020-02-29        10  1386  1881.759399"
      ]
     },
     "metadata": {},
     "output_type": "display_data"
    },
    {
     "data": {
      "text/plain": [
       "<Figure size 800x500 with 0 Axes>"
      ]
     },
     "metadata": {},
     "output_type": "display_data"
    },
    {
     "data": {
      "image/png": "[encoded data removed]",
      "text/plain": [
       "<Figure size 640x480 with 1 Axes>"
      ]
     },
     "metadata": {},
     "output_type": "display_data"
    },
    {
     "data": {
      "image/png": "[encoded data removed]",
      "text/plain": [
       "<Figure size 640x480 with 1 Axes>"
      ]
     },
     "metadata": {},
     "output_type": "display_data"
    }
   ],
   "source": [
    "# Verify you have 1 model and 1 forecast per unique ID.\n",
    "assert len(model) == len(ID_LIST)\n",
    "assert len(forecast) == len(ID_LIST)\n",
    "\n",
    "# plot first two forecasts\n",
    "plt.figure(figsize=(8, 5))\n",
    "for p, v in enumerate(ID_LIST[0:2]):\n",
    "    display(forecast[p])\n",
    "    future = pd.concat([train[p].set_index('ds')[[UNIQUE_ID, 'y']], forecast[p]])\n",
    "    future[[\"y\", \"yhat\"]].plot()"
   ]
  },
  {
   "cell_type": "code",
   "execution_count": 18,
   "id": "3a3126f9-5143-438a-82f9-e6fe6c41166d",
   "metadata": {},
   "outputs": [],
   "source": [
    "import ray\n",
    "\n",
    "if ray.is_initialized():\n",
    "    ray.shutdown()"
   ]
  },
  {
   "cell_type": "code",
   "execution_count": null,
   "id": "f9c86c05-0338-44d2-b7cb-f9cf85cc5002",
   "metadata": {},
   "outputs": [],
   "source": []
  }
 ],
 "metadata": {
  "kernelspec": {
   "display_name": "Python 3 (ipykernel)",
   "language": "python",
   "name": "python3"
  },
  "language_info": {
   "codemirror_mode": {
    "name": "ipython",
    "version": 3
   },
   "file_extension": ".py",
   "mimetype": "text/x-python",
   "name": "python",
   "nbconvert_exporter": "python",
   "pygments_lexer": "ipython3",
   "version": "3.8.13"
  }
 },
 "nbformat": 4,
 "nbformat_minor": 5
}
