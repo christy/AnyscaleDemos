{
 "cells": [
  {
   "cell_type": "markdown",
   "id": "9cee4d5e",
   "metadata": {},
   "source": [
    "# Batch (parallel) Demand Forecasting using PyTorch Forecasting\n"
   ]
  },
  {
   "cell_type": "markdown",
   "id": "fa96ceaa",
   "metadata": {},
   "source": [
    "**Batch training** and tuning are common tasks in machine learning use-cases. They require training simple models, on data batches, typcially corresponding to different locations, products, etc. Batch training can take less time to process all the data at once, but only if those batches can run in parallel!\n",
    "\n",
    "This notebook showcases how to conduct batch training using forecast algorithms [Prophet](https://github.com/facebook/prophet) and [ARIMA](https://github.com/Nixtla/statsforecast). **Prophet** is a popular open-source library developed by Facebook and designed for automatic forecasting of univariate time series data. **ARIMA** is an older, well-known algorithm for forecasting univariate time series at less fine-grained detail than Prophet.\n",
    "\n",
    "![Batch training diagram](../../data/examples/images/batch-training.svg)\n",
    "\n",
    "For the data, we will use the [NYC Taxi dataset](https://www1.nyc.gov/site/tlc/about/tlc-trip-record-data.page). This popular tabular dataset contains historical taxi pickups by timestamp and location in NYC.\n",
    "\n",
    "For the training, we will train a separate forecasting model to predict #pickups at each location in NYC at daily level for the next 28 days. Specifically, we will use the `pickup_location_id` column in the dataset to group the dataset into data batches. Then we will conduct an experiment for each location, to find the best either Prophet or ARIMA model, per location."
   ]
  },
  {
   "cell_type": "markdown",
   "id": "8a93d171",
   "metadata": {
    "tags": []
   },
   "source": [
    "# Contents\n",
    "\n",
    "In this this tutorial, you will learn about:\n",
    " 1. [Define how to load and prepare Parquet data](#prepare_data)\n",
    " 2. [Define your Ray Tune Search Space and Search Algorithm](#define_search_space2)\n",
    " 3. [Define a Trainable (callable) function](#define_trainable2)\n",
    " 4. [Run batch training with Ray Tune](#run_tune_search2)\n",
    " 5. [Load a model from checkpoint and create a forecast](#load_checkpoint2)\n"
   ]
  },
  {
   "cell_type": "markdown",
   "id": "5b839f6b",
   "metadata": {},
   "source": [
    "# Walkthrough\n",
    "\n",
    "```{tip}\n",
    "Prerequisite for this notebook: Read the [Key Concepts](https://docs.ray.io/en/latest/tune/key-concepts.html) page for Ray Tune.\n",
    "```\n",
    "\n",
    "Let us start by importing a few required libraries, including open-source [Ray](https://github.com/ray-project/ray) itself!"
   ]
  },
  {
   "cell_type": "code",
   "execution_count": 1,
   "id": "e0996e63",
   "metadata": {},
   "outputs": [
    {
     "name": "stdout",
     "output_type": "stream",
     "text": [
      "Number of CPUs in this system: 8\n",
      "numpy: 1.21.6\n",
      "pyarrow: 6.0.1\n"
     ]
    }
   ],
   "source": [
    "import os\n",
    "import typing\n",
    "num_cpu = os.cpu_count()\n",
    "\n",
    "print(f\"Number of CPUs in this system: {num_cpu}\")\n",
    "from typing import Tuple, List, Union, Optional, Callable\n",
    "from datetime import datetime, timedelta\n",
    "import time\n",
    "import pandas as pd\n",
    "import numpy as np\n",
    "\n",
    "print(f\"numpy: {np.__version__}\")\n",
    "import matplotlib.pyplot as plt\n",
    "\n",
    "%matplotlib inline\n",
    "# import scipy\n",
    "\n",
    "# print(f\"scipy: {scipy.__version__}\")\n",
    "import pyarrow\n",
    "import pyarrow.parquet as pq\n",
    "import pyarrow.dataset as pds\n",
    "\n",
    "print(f\"pyarrow: {pyarrow.__version__}\")\n"
   ]
  },
  {
   "cell_type": "code",
   "execution_count": 2,
   "id": "e32bfdb7",
   "metadata": {},
   "outputs": [],
   "source": [
    "# import GPUtil #GPU status from NVIDA GPUs\n",
    "# len(GPUtil.getGPUs())"
   ]
  },
  {
   "cell_type": "code",
   "execution_count": 3,
   "id": "ed44b46c",
   "metadata": {},
   "outputs": [
    {
     "name": "stderr",
     "output_type": "stream",
     "text": [
      "2022-12-28 15:11:59,055\tINFO worker.py:1519 -- Started a local Ray instance. View the dashboard at \u001b[1m\u001b[32mhttp://127.0.0.1:8265 \u001b[39m\u001b[22m\n"
     ]
    },
    {
     "data": {
      "text/html": [
       "<div>\n",
       "    <div style=\"margin-left: 50px;display: flex;flex-direction: row;align-items: center\">\n",
       "        <h3 style=\"color: var(--jp-ui-font-color0)\">Ray</h3>\n",
       "        <svg version=\"1.1\" id=\"ray\" width=\"3em\" viewBox=\"0 0 144.5 144.6\" style=\"margin-left: 3em;margin-right: 3em\">\n",
       "            <g id=\"layer-1\">\n",
       "                <path fill=\"#00a2e9\" class=\"st0\" d=\"M97.3,77.2c-3.8-1.1-6.2,0.9-8.3,5.1c-3.5,6.8-9.9,9.9-17.4,9.6S58,88.1,54.8,81.2c-1.4-3-3-4-6.3-4.1\n",
       "                    c-5.6-0.1-9.9,0.1-13.1,6.4c-3.8,7.6-13.6,10.2-21.8,7.6C5.2,88.4-0.4,80.5,0,71.7c0.1-8.4,5.7-15.8,13.8-18.2\n",
       "                    c8.4-2.6,17.5,0.7,22.3,8c1.3,1.9,1.3,5.2,3.6,5.6c3.9,0.6,8,0.2,12,0.2c1.8,0,1.9-1.6,2.4-2.8c3.5-7.8,9.7-11.8,18-11.9\n",
       "                    c8.2-0.1,14.4,3.9,17.8,11.4c1.3,2.8,2.9,3.6,5.7,3.3c1-0.1,2,0.1,3,0c2.8-0.5,6.4,1.7,8.1-2.7s-2.3-5.5-4.1-7.5\n",
       "                    c-5.1-5.7-10.9-10.8-16.1-16.3C84,38,81.9,37.1,78,38.3C66.7,42,56.2,35.7,53,24.1C50.3,14,57.3,2.8,67.7,0.5\n",
       "                    C78.4-2,89,4.7,91.5,15.3c0.1,0.3,0.1,0.5,0.2,0.8c0.7,3.4,0.7,6.9-0.8,9.8c-1.7,3.2-0.8,5,1.5,7.2c6.7,6.5,13.3,13,19.8,19.7\n",
       "                    c1.8,1.8,3,2.1,5.5,1.2c9.1-3.4,17.9-0.6,23.4,7c4.8,6.9,4.6,16.1-0.4,22.9c-5.4,7.2-14.2,9.9-23.1,6.5c-2.3-0.9-3.5-0.6-5.1,1.1\n",
       "                    c-6.7,6.9-13.6,13.7-20.5,20.4c-1.8,1.8-2.5,3.2-1.4,5.9c3.5,8.7,0.3,18.6-7.7,23.6c-7.9,5-18.2,3.8-24.8-2.9\n",
       "                    c-6.4-6.4-7.4-16.2-2.5-24.3c4.9-7.8,14.5-11,23.1-7.8c3,1.1,4.7,0.5,6.9-1.7C91.7,98.4,98,92.3,104.2,86c1.6-1.6,4.1-2.7,2.6-6.2\n",
       "                    c-1.4-3.3-3.8-2.5-6.2-2.6C99.8,77.2,98.9,77.2,97.3,77.2z M72.1,29.7c5.5,0.1,9.9-4.3,10-9.8c0-0.1,0-0.2,0-0.3\n",
       "                    C81.8,14,77,9.8,71.5,10.2c-5,0.3-9,4.2-9.3,9.2c-0.2,5.5,4,10.1,9.5,10.3C71.8,29.7,72,29.7,72.1,29.7z M72.3,62.3\n",
       "                    c-5.4-0.1-9.9,4.2-10.1,9.7c0,0.2,0,0.3,0,0.5c0.2,5.4,4.5,9.7,9.9,10c5.1,0.1,9.9-4.7,10.1-9.8c0.2-5.5-4-10-9.5-10.3\n",
       "                    C72.6,62.3,72.4,62.3,72.3,62.3z M115,72.5c0.1,5.4,4.5,9.7,9.8,9.9c5.6-0.2,10-4.8,10-10.4c-0.2-5.4-4.6-9.7-10-9.7\n",
       "                    c-5.3-0.1-9.8,4.2-9.9,9.5C115,72.1,115,72.3,115,72.5z M19.5,62.3c-5.4,0.1-9.8,4.4-10,9.8c-0.1,5.1,5.2,10.4,10.2,10.3\n",
       "                    c5.6-0.2,10-4.9,9.8-10.5c-0.1-5.4-4.5-9.7-9.9-9.6C19.6,62.3,19.5,62.3,19.5,62.3z M71.8,134.6c5.9,0.2,10.3-3.9,10.4-9.6\n",
       "                    c0.5-5.5-3.6-10.4-9.1-10.8c-5.5-0.5-10.4,3.6-10.8,9.1c0,0.5,0,0.9,0,1.4c-0.2,5.3,4,9.8,9.3,10\n",
       "                    C71.6,134.6,71.7,134.6,71.8,134.6z\"/>\n",
       "            </g>\n",
       "        </svg>\n",
       "        <table>\n",
       "            <tr>\n",
       "                <td style=\"text-align: left\"><b>Python version:</b></td>\n",
       "                <td style=\"text-align: left\"><b>3.8.13</b></td>\n",
       "            </tr>\n",
       "            <tr>\n",
       "                <td style=\"text-align: left\"><b>Ray version:</b></td>\n",
       "                <td style=\"text-align: left\"><b> 2.1.0</b></td>\n",
       "            </tr>\n",
       "            <tr>\n",
       "    <td style=\"text-align: left\"><b>Dashboard:</b></td>\n",
       "    <td style=\"text-align: left\"><b><a href=\"http://127.0.0.1:8265\" target=\"_blank\">http://127.0.0.1:8265</a></b></td>\n",
       "</tr>\n",
       "\n",
       "        </table>\n",
       "    </div>\n",
       "</div>\n"
      ],
      "text/plain": [
       "RayContext(dashboard_url='127.0.0.1:8265', python_version='3.8.13', ray_version='2.1.0', ray_commit='be49bde7ee4f6adb3f8710aee0665c27f9f0bb62', address_info={'node_ip_address': '127.0.0.1', 'raylet_ip_address': '127.0.0.1', 'redis_address': None, 'object_store_address': '/tmp/ray/session_2022-12-28_15-11-56_952329_29891/sockets/plasma_store', 'raylet_socket_name': '/tmp/ray/session_2022-12-28_15-11-56_952329_29891/sockets/raylet', 'webui_url': '127.0.0.1:8265', 'session_dir': '/tmp/ray/session_2022-12-28_15-11-56_952329_29891', 'metrics_export_port': 63066, 'gcs_address': '127.0.0.1:64992', 'address': '127.0.0.1:64992', 'dashboard_agent_listen_port': 52365, 'node_id': 'b9210415114246ba4c2e1ced66705d8769d03446edbf62aa1dcfa500'})"
      ]
     },
     "execution_count": 3,
     "metadata": {},
     "output_type": "execute_result"
    }
   ],
   "source": [
    "import ray\n",
    "\n",
    "if ray.is_initialized():\n",
    "    ray.shutdown()\n",
    "ray.init()"
   ]
  },
  {
   "cell_type": "code",
   "execution_count": 4,
   "id": "7b2ce10b",
   "metadata": {},
   "outputs": [
    {
     "name": "stdout",
     "output_type": "stream",
     "text": [
      "{'CPU': 8.0, 'memory': 8896056525.0, 'object_store_memory': 2147483648.0, 'node:127.0.0.1': 1.0}\n"
     ]
    }
   ],
   "source": [
    "print(ray.cluster_resources())"
   ]
  },
  {
   "cell_type": "code",
   "execution_count": 5,
   "id": "bc0a4135",
   "metadata": {},
   "outputs": [
    {
     "name": "stderr",
     "output_type": "stream",
     "text": [
      "Global seed set to 415\n"
     ]
    },
    {
     "name": "stdout",
     "output_type": "stream",
     "text": [
      "torch: 1.12.1\n",
      "PyTorch Lightning: 1.6.5\n",
      "pytorch forecasting: 0.10.3\n",
      "tensorboard: 2.11.0\n"
     ]
    }
   ],
   "source": [
    "# import forecasting libraries\n",
    "# PyTorch, PyTorch Lightning, and PyTorch Forecasting\n",
    "import torch  #Pytorch\n",
    "import pytorch_lightning as pl  #PyTorch Lightning convenience APIs for PyTorch\n",
    "from pytorch_lightning.loggers import TensorBoardLogger\n",
    "import pytorch_forecasting as ptf #PyTorch Forecasting convenience APIs for PyTorch Lightning\n",
    "pl.seed_everything(415)  # Set global random seed\n",
    "\n",
    "# PyTorch visualization uses Tensorboard\n",
    "# import tensorflow as tf #Tensorflow\n",
    "import tensorboard as tb  #Tensorboard\n",
    "# tf.io.gfile = tb.compat.tensorflow_stub.io.gfile  #compatibility for PyTorch\n",
    "\n",
    "print(f\"torch: {torch.__version__}\")\n",
    "print(f\"PyTorch Lightning: {pl.__version__}\")\n",
    "print(f\"pytorch forecasting: {ptf.__version__}\")\n",
    "print(f\"tensorboard: {tb.__version__}\")\n",
    "\n",
    "# import ray libraries\n",
    "import ray_lightning\n",
    "from ray_lightning import RayStrategy\n",
    "from ray_lightning.tune import get_tune_resources, TuneReportCheckpointCallback\n",
    "from ray import air, tune\n",
    "from ray.tune.schedulers import ASHAScheduler, PopulationBasedTraining\n",
    "# from ray.air import session\n",
    "# from ray.air.checkpoint import Checkpoint\n",
    "\n",
    "# print(f\"ray_lightning: {ray_lightning.__version__}\")"
   ]
  },
  {
   "cell_type": "code",
   "execution_count": 6,
   "id": "e49983d1",
   "metadata": {},
   "outputs": [],
   "source": [
    "# For benchmarking purposes, we can print the times of various operations.\n",
    "# In order to reduce clutter in the output, this is set to False by default.\n",
    "PRINT_TIMES = False\n",
    "\n",
    "\n",
    "def print_time(msg: str):\n",
    "    if PRINT_TIMES:\n",
    "        print(msg)\n",
    "\n",
    "\n",
    "# To speed things up, we’ll only use a small subset of the full dataset consisting of two last months of 2019.\n",
    "# You can choose to use the full dataset for 2018-2019 by setting the SMOKE_TEST variable to False.\n",
    "SMOKE_TEST = True"
   ]
  },
  {
   "cell_type": "markdown",
   "id": "0a040600",
   "metadata": {
    "tags": []
   },
   "source": [
    "## Define how to load and prepare Parquet data <a class=\"anchor\" id=\"load_data\"></a>"
   ]
  },
  {
   "cell_type": "markdown",
   "id": "0727e7dd",
   "metadata": {},
   "source": [
    "First, we need to load some data. Since the NYC Taxi dataset is fairly large, we will filter files first into a PyArrow dataset. And then in the next cell after, we will filter the data on read into a PyArrow table and convert that to a pandas dataframe.\n",
    "\n",
    "```{tip}\n",
    "Use PyArrow dataset and table for reading or writing large parquet files, since its native multithreaded C++ adapter is faster than pandas read_parquet, even using engine=pyarrow.\n",
    "```"
   ]
  },
  {
   "cell_type": "code",
   "execution_count": 15,
   "id": "ca512f8d",
   "metadata": {},
   "outputs": [
    {
     "name": "stdout",
     "output_type": "stream",
     "text": [
      "NYC Taxi using 2 file(s)!\n",
      "s3_files: ['s3://anonymous@air-example-data/ursa-labs-taxi-data/by_year/2019/05/data.parquet/359c21b3e28f40328e68cf66f7ba40e2_000000.parquet', 's3://anonymous@air-example-data/ursa-labs-taxi-data/by_year/2019/06/data.parquet/ab5b9d2b8cc94be19346e260b543ec35_000000.parquet']\n",
      "Locations: [141, 43, 229, 173]\n",
      "Clusters: ['erratic']\n"
     ]
    }
   ],
   "source": [
    "# Define some global variables.\n",
    "TARGET = \"trip_duration\"\n",
    "FORECAST_LENGTH = 28\n",
    "MAX_DATE = datetime(2019, 6, 30)\n",
    "s3_partitions = pds.dataset(\n",
    "    \"s3://anonymous@air-example-data/ursa-labs-taxi-data/by_year/\",\n",
    "    partitioning=[\"year\", \"month\"],\n",
    ")\n",
    "s3_files = [f\"s3://anonymous@{file}\" for file in s3_partitions.files]\n",
    "\n",
    "# Besides raw S3, also test with cleaned data.\n",
    "FILENAME = \"../data/clean_taxi_hourly_clustered.parquet\"\n",
    "\n",
    "# Obtain all location IDs\n",
    "all_location_ids = (\n",
    "    pq.read_table(s3_files[0], columns=[\"pickup_location_id\"])[\n",
    "        \"pickup_location_id\"\n",
    "    ]\n",
    "    .unique()\n",
    "    .to_pylist()\n",
    ")\n",
    "# drop [264, 265]\n",
    "all_location_ids.remove(264)\n",
    "all_location_ids.remove(265)\n",
    "all_location_ids.remove(199)\n",
    "\n",
    "# Use smoke testing or not.\n",
    "sample_clusters = [\"erratic\"] if SMOKE_TEST else [\"smooth\", \"erratic\"]\n",
    "sample_locations = [141, 43, 229, 173] if SMOKE_TEST else all_location_ids\n",
    "starting_idx = -2 if SMOKE_TEST else 0\n",
    "# TODO drop this\n",
    "starting_idx = -2 if SMOKE_TEST else 11\n",
    "\n",
    "# Display what data will be used.\n",
    "s3_files = s3_files[starting_idx:]\n",
    "print(f\"NYC Taxi using {len(s3_files)} file(s)!\")\n",
    "print(f\"s3_files: {s3_files}\")\n",
    "print(f\"Locations: {sample_locations}\")\n",
    "print(f\"Clusters: {sample_clusters}\")"
   ]
  },
  {
   "cell_type": "code",
   "execution_count": 52,
   "id": "34875d1e",
   "metadata": {},
   "outputs": [],
   "source": [
    "# Function to read a pyarrow.Table object using pyarrow parquet, pq\n",
    "def read_data_from_clean(\n",
    "    file: str, \n",
    "    sample_id: np.int32) -> pd.DataFrame:\n",
    "\n",
    "    df = pq.read_table(\n",
    "        file,\n",
    "        filters=[\n",
    "            (\"pulocationid\", \"not in\", [264, 265, 199]),\n",
    "            (\"ts_type\", \"=\", sample_id),\n",
    "        ],\n",
    "        columns=[\n",
    "            \"time_idx\",\n",
    "            \"pulocationid\",\n",
    "            \"day_hour\",\n",
    "            \"trip_quantity\",\n",
    "            \"ts_type\",\n",
    "        ],\n",
    "    ).to_pandas()\n",
    "    return df\n",
    "\n",
    "def prepare_data_from_clean(\n",
    "    file: str, \n",
    "    sample_cluster_id: str) -> pd.DataFrame:\n",
    "\n",
    "    # Load data from clean sample.\n",
    "    df = read_data_from_clean(file, sample_cluster_id)\n",
    "    df.rename(columns={\"pulocationid\": \"pickup_location_id\"}, inplace=True)\n",
    "    df['trip_quantity'] = df['trip_quantity'].astype(np.float32)\n",
    "\n",
    "    # Abort Tune to avoid Tune Error if df has too few rows\n",
    "    if df.shape[0] < FORECAST_LENGTH:\n",
    "        print_time(\n",
    "            f\"Location {sample_cluster_id} has only {df.shape[0]} rows\"\n",
    "        )\n",
    "        session.report(dict(error=None))\n",
    "        return None\n",
    "    else:\n",
    "        return df\n"
   ]
  },
  {
   "cell_type": "code",
   "execution_count": 53,
   "id": "c212564b-6542-492c-a0c1-bde72e86b74f",
   "metadata": {},
   "outputs": [
    {
     "name": "stdout",
     "output_type": "stream",
     "text": [
      "(251808, 5)\n",
      "time_idx                int16\n",
      "pickup_location_id     object\n",
      "day_hour               object\n",
      "trip_quantity         float32\n",
      "ts_type                object\n",
      "dtype: object\n",
      "['10' '112' '114' '12' '129' '130' '140' '144' '148' '158' '161' '179'\n",
      " '181' '189' '193' '195' '215' '224' '232' '236' '237' '243' '247' '25'\n",
      " '255' '256' '260' '261' '262' '33' '37' '4' '40' '43' '49' '52' '61' '66'\n",
      " '79' '80' '88' '93' '97']\n"
     ]
    },
    {
     "data": {
      "text/html": [
       "<div>\n",
       "<style scoped>\n",
       "    .dataframe tbody tr th:only-of-type {\n",
       "        vertical-align: middle;\n",
       "    }\n",
       "\n",
       "    .dataframe tbody tr th {\n",
       "        vertical-align: top;\n",
       "    }\n",
       "\n",
       "    .dataframe thead th {\n",
       "        text-align: right;\n",
       "    }\n",
       "</style>\n",
       "<table border=\"1\" class=\"dataframe\">\n",
       "  <thead>\n",
       "    <tr style=\"text-align: right;\">\n",
       "      <th></th>\n",
       "      <th>time_idx</th>\n",
       "      <th>pickup_location_id</th>\n",
       "      <th>day_hour</th>\n",
       "      <th>trip_quantity</th>\n",
       "      <th>ts_type</th>\n",
       "    </tr>\n",
       "  </thead>\n",
       "  <tbody>\n",
       "    <tr>\n",
       "      <th>0</th>\n",
       "      <td>4371</td>\n",
       "      <td>10</td>\n",
       "      <td>Monday_3</td>\n",
       "      <td>0.0</td>\n",
       "      <td>erratic</td>\n",
       "    </tr>\n",
       "    <tr>\n",
       "      <th>1</th>\n",
       "      <td>3926</td>\n",
       "      <td>10</td>\n",
       "      <td>Wednesday_14</td>\n",
       "      <td>1.0</td>\n",
       "      <td>erratic</td>\n",
       "    </tr>\n",
       "    <tr>\n",
       "      <th>2</th>\n",
       "      <td>4773</td>\n",
       "      <td>10</td>\n",
       "      <td>Wednesday_21</td>\n",
       "      <td>2.0</td>\n",
       "      <td>erratic</td>\n",
       "    </tr>\n",
       "    <tr>\n",
       "      <th>3</th>\n",
       "      <td>5046</td>\n",
       "      <td>10</td>\n",
       "      <td>Monday_6</td>\n",
       "      <td>2.0</td>\n",
       "      <td>erratic</td>\n",
       "    </tr>\n",
       "    <tr>\n",
       "      <th>4</th>\n",
       "      <td>3911</td>\n",
       "      <td>10</td>\n",
       "      <td>Tuesday_23</td>\n",
       "      <td>1.0</td>\n",
       "      <td>erratic</td>\n",
       "    </tr>\n",
       "  </tbody>\n",
       "</table>\n",
       "</div>"
      ],
      "text/plain": [
       "   time_idx pickup_location_id      day_hour  trip_quantity  ts_type\n",
       "0      4371                 10      Monday_3            0.0  erratic\n",
       "1      3926                 10  Wednesday_14            1.0  erratic\n",
       "2      4773                 10  Wednesday_21            2.0  erratic\n",
       "3      5046                 10      Monday_6            2.0  erratic\n",
       "4      3911                 10    Tuesday_23            1.0  erratic"
      ]
     },
     "execution_count": 53,
     "metadata": {},
     "output_type": "execute_result"
    }
   ],
   "source": [
    "# Test reading data\n",
    "df_raw = prepare_data_from_clean(FILENAME, \"erratic\")\n",
    "print(df_raw.shape)\n",
    "print(df_raw.dtypes)\n",
    "print(df_raw.pickup_location_id.unique())\n",
    "df_raw.head()"
   ]
  },
  {
   "cell_type": "markdown",
   "id": "74c6aa63",
   "metadata": {
    "tags": []
   },
   "source": [
    "## Define your Ray Tune Search Space and Search Algorithm <a class=\"anchor\" id=\"define_search_space\"></a>"
   ]
  },
  {
   "cell_type": "markdown",
   "id": "464ae366",
   "metadata": {},
   "source": [
    "In this notebook, we will use Ray Tune to run parallel training jobs per pickup location. The training jobs will be defined using a search space and simple grid search. Depending on your need, fancier search spaces and search algorithms are possible with Tune.\n",
    "\n",
    "**First, define a search space of experiment trials to run.**\n",
    "> The typical use case for Tune search spaces are for hyperparameter tuning. In our case, we are defining a Tune search space in a way to allow for training jobs to be conducted automatically. Each training job will run on a different data partition (taxi pickup location) and use a different algorithm.\n",
    "\n",
    "**Next, define a search algorithm.**  \n",
    "\n",
    "```{tip}\n",
    "Common search algorithms include grid search, random search, and Bayesian optimization. For more details, see [Working with Tune Search Spaces](https://docs.ray.io/en/master/tune/tutorials/tune-search-spaces.html#tune-search-space-tutorial). Deciding the best combination of search space and search algorithm is part of the art of being a Data Scientist and depends on the data, algorithm, and problem being solved.\n",
    "```\n",
    "\n",
    "Ray Tune will use the search space and search algorithm to generate multiple configurations, each of which will be evaluated in a separate Trial on a Ray Cluster. Ray Tune will take care of orchestrating those Trials automatically. Specifically, Ray Tune will pass a config dictionary to each partition and make a Trainable function call.\n",
    "\n",
    "**Below, we define our search space consists of:**\n",
    "- Different algorithms, either:\n",
    "  - Prophet with [multiplicative or additive](https://facebook.github.io/prophet/docs/multiplicative_seasonality.html) seasonal effects \n",
    "  - AutoARIMA.\n",
    "- Some or all NYC taxi pick-up locations.\n",
    "\n",
    "For Tune search algorithm, we want to run *grid search*, meaning we want to run an experiment for every possible combination in the search space. What this means is every algorithm will be applied to every NYC Taxi pick-up location."
   ]
  },
  {
   "cell_type": "code",
   "execution_count": 17,
   "id": "3b2f00c6",
   "metadata": {},
   "outputs": [],
   "source": [
    "# TODO: clean up this section.  \n",
    "# Want config closer to where you call function.  Easier to debug.\n",
    "\n",
    "# # 1. Define a search space.\n",
    "# search_space = {\n",
    "#     \"batch_size\": tune.grid_search([128])  #[128, 64])\n",
    "# }"
   ]
  },
  {
   "cell_type": "markdown",
   "id": "0233d4c7",
   "metadata": {},
   "source": [
    "## Define a Trainable (callable) function <a class=\"anchor\" id=\"define_trainable\"></a>"
   ]
  },
  {
   "cell_type": "markdown",
   "id": "8db25919",
   "metadata": {},
   "source": [
    "📈 Typically when you are running Data Science experiments, you want to be able to keep track of summary metrics for each trial, so you can decide at the end which trials were best. That way, you can decide which model to deploy.\n",
    "\n",
    "🇫 Next, we define a trainable function in order to train and evaluate a Prophet model on a data partition. This function will be called in parallel by every Tune trial. Inside this trainable function, we will:\n",
    "- Add detailed metrics we want to report (each model's loss or error). \n",
    "- Checkpoint each model for easy deployment later.\n",
    "\n",
    "📖 **The metrics defined inside the trainable function will appear in the Ray Tune experiment summary table.**\n",
    "```{tip}\n",
    "Ray Tune has two ways of defining a trainable, namely the [Function API](https://docs.ray.io/en/latest/tune/api_docs/trainable.html#trainable-docs) and the Class API. Both are valid ways of defining a trainable, but *the Function API is generally recommended*.\n",
    "```\n",
    "\n",
    "**In the cell below, we define a \"Trainable\" function called `train_model()`**.\n",
    "- The input is a config dictionary argument. \n",
    "- The output can be a simple dictionary of metrics which will be reported back to Tune.\n",
    "- We will [checkpoint](https://docs.ray.io/en/master/ray-air/key-concepts.html#checkpoints) save each model in addition to reporting each trial's metrics.\n",
    "- Since we are using **grid search**, this means `train_model()` will be run *in parallel for every permutation* in the Tune search space!"
   ]
  },
  {
   "cell_type": "code",
   "execution_count": 50,
   "id": "0bc2d697",
   "metadata": {},
   "outputs": [],
   "source": [
    "# Convert pandas data to PyTorch tensors.\n",
    "def convert_pandas_pytorch_timeseriesdata(\n",
    "    input_data_pandas_df:pd.DataFrame, \n",
    "    config:dict\n",
    ") -> typing.Union['pytorch_forecasting.data.timeseries.TimeSeriesDataSet',\n",
    "                  'torch.utils.data.dataloader.DataLoader']:\n",
    "\n",
    "    \"\"\"Converts pandas dataframe into TimeSeries folded tensors following \n",
    "       the backtesting technique.  A generator for doing the folding is \n",
    "       per batch also created.  One for the training data.  \n",
    "       Another for the validation data.  \n",
    "\n",
    "    Inputs:\n",
    "        pd.DataFrame: All the input data\n",
    "        dict: config is a configuration file containing hard-coded settings.\n",
    "\n",
    "    Returns:\n",
    "        'pytorch_forecasting.data.timeseries.TimeSeriesDataSet': training data\n",
    "        'torch.utils.data.dataloader.DataLoader': training data loader\n",
    "        'torch.utils.data.dataloader.DataLoader': validation data loader\n",
    "    \"\"\"\n",
    "    \n",
    "    # specify data parameters\n",
    "    FORECAST_HORIZON = config.get(\"forecast_horizon\", 168)\n",
    "    CONTEXT_LENGTH = config.get(\"context_length\", 63)\n",
    "    BATCH_SIZE = config.get(\"batch_size\", 32)\n",
    "    NUM_TRAINING_WORKERS = config.get(\"num_training_workers\", 4)\n",
    "    id_col_name = \"pickup_location_id\"\n",
    "    target_value = \"trip_quantity\"\n",
    "    \n",
    "    df = input_data_pandas_df.copy()\n",
    "    \n",
    "    # define forecast horizon and training cutoff\n",
    "    max_prediction_length = FORECAST_HORIZON  #decoder length = 1 week forecast horizon\n",
    "    max_encoder_length = CONTEXT_LENGTH  # window or context length\n",
    "    training_cutoff = df[\"time_idx\"].max() - max_prediction_length \n",
    "\n",
    "    # convert pandas to PyTorch tensor\n",
    "    training_data = ptf.data.TimeSeriesDataSet(\n",
    "        df[lambda x: x.time_idx <= training_cutoff],\n",
    "        allow_missing_timesteps=True,\n",
    "        time_idx=\"time_idx\",\n",
    "        target=target_value,\n",
    "        group_ids=[id_col_name],\n",
    "        min_encoder_length=5,  # min 5 historical values must exist\n",
    "        max_encoder_length=max_encoder_length,\n",
    "        min_prediction_length=1,\n",
    "        max_prediction_length=max_prediction_length,\n",
    "        static_categoricals=[id_col_name],\n",
    "        # static_reals=[\"avg_population_2017\", \"avg_yearly_household_income_2017\"],\n",
    "        static_reals=[],\n",
    "        time_varying_known_categoricals=[\"day_hour\"],\n",
    "        # In case you have validation values not found in training data.\n",
    "        # KeyError: \"Unknown category '9' encountered. Set `add_nan=True` to allow unknown categories\"\n",
    "        # This removes error message, but does not solve the problem!\n",
    "        # Only solution is to fix your data!  Fill in missing time_idx values.\n",
    "#         categorical_encoders={\n",
    "#             'day_hour': ptf.data.encoders.NaNLabelEncoder(add_nan=True),\n",
    "#             id_col_name : ptf.data.encoders.NaNLabelEncoder(add_nan=True),\n",
    "#         },\n",
    "        # group of categorical variables can be treated as one variable\n",
    "        # variable_groups={\"special_days\": special_days},  \n",
    "        time_varying_known_reals=[\"time_idx\", ],\n",
    "                            # \"mean_item_loc_weekday\",\n",
    "                            # \"binned_max_item\"],\n",
    "        time_varying_unknown_categoricals=[],\n",
    "        time_varying_unknown_reals=[target_value,],\n",
    "\n",
    "        # https://pytorch-forecasting.readthedocs.io/en/v0.2.4/_modules/pytorch_forecasting/data.html\n",
    "        target_normalizer=ptf.data.GroupNormalizer(\n",
    "            groups=[\"pickup_location_id\"], \n",
    "            transformation=\"softplus\"  #forces positive values\n",
    "        ), \n",
    "        add_relative_time_idx=True, # add as feature\n",
    "        add_target_scales=True, # add avg target_value as feature\n",
    "        add_encoder_length=True, # add as feature\n",
    "    )\n",
    "    \n",
    "    # create PyTorch dataloader for training\n",
    "    train_loader = training_data\\\n",
    "                        .to_dataloader(\n",
    "                            train=True, \n",
    "                            batch_size=BATCH_SIZE, \n",
    "                            num_workers=NUM_TRAINING_WORKERS)\n",
    "    \n",
    "    # create validation PyTorch data \n",
    "    # (predict=True) means make do inference using the validation data\n",
    "    val_dataset = ptf.data.TimeSeriesDataSet\\\n",
    "                    .from_dataset(\n",
    "                        training_data, \n",
    "                        data=df, \n",
    "                        predict=True, \n",
    "                        stop_randomization=True)\n",
    "\n",
    "    # create PyTorch dataloaders for inference on validation data\n",
    "    validation_loader = val_dataset\\\n",
    "                    .to_dataloader(\n",
    "                        train=False, \n",
    "                        batch_size=BATCH_SIZE * 10, \n",
    "                        num_workers=NUM_TRAINING_WORKERS)\n",
    "    \n",
    "    # return original df converted to PyTorch tensors, and pytorch loaders\n",
    "    return training_data, train_loader, validation_loader\n",
    "\n",
    "def evaluate_model(y_actual:'torch.Tensor', \n",
    "             y_quantiles:'torch.Tensor', \n",
    "             quantile_list:list)->'torch.Tensor':\n",
    "    \"\"\"Calculate weighted quantile loss given actuals, quantile predictions,\n",
    "       and list of desired quantiles to average over.\n",
    "    Inputs:\n",
    "        'torch.Tensor': y_actual is a tensor of actual values \n",
    "        'torch.Tensor': y_quantiles is a tensor of quantile predictions\n",
    "        'list': List of quantiles to average over\n",
    "\n",
    "    Returns:\n",
    "        'torch.Tensor': weighted quantile loss over all the desired quantiles\n",
    "    \"\"\"\n",
    "\n",
    "    assert not y_actual.requires_grad\n",
    "    assert y_quantiles.size(0) == y_actual.size(0)\n",
    "    \n",
    "    all_losses = []\n",
    "    for i, q in enumerate(quantile_list):\n",
    "        sum_actuals = torch.sum(torch.abs(y_actual[i]))\n",
    "        errors = torch.abs(y_actual[i] - y_quantiles[i][:, i])\n",
    "        all_losses.append(\n",
    "            torch.where(y_quantiles[i][:, i] > y_actual[i],\n",
    "                        (1-q) * errors, \n",
    "                        q * errors ).unsqueeze(1))\n",
    "        \n",
    "        if torch.is_nonzero(sum_actuals):\n",
    "            all_losses[i] = torch.sum(all_losses[i]).div(sum_actuals)\n",
    "        else:\n",
    "            all_losses[i] = torch.empty_like(all_losses[i])\n",
    "    \n",
    "    WQL = torch.mean(torch.stack(all_losses), dim=0)\n",
    "    return WQL\n",
    "    \n",
    "# Define a calling function to read data, define model, train it\n",
    "def train_ptf(\n",
    "    config: dict,\n",
    "    strategy: 'ray_lightning.ray_ddp.RayStrategy',\n",
    "    filename: str, \n",
    "    train_dataset: 'pytorch_forecasting.data.timeseries.TimeSeriesDataSet',\n",
    "    train_loader: 'torch.utils.data.dataloader.DataLoader',\n",
    "    validation_loader: 'torch.utils.data.dataloader.DataLoader',) -> typing.Union[\n",
    "        'torch.utils.data.dataloader.DataLoader',\n",
    "        'pytorch_lightning.trainer.trainer.Trainer',\n",
    "        'pytorch_forecasting.models.temporal_fusion_transformer.TemporalFusionTransformer', str\n",
    "]:\n",
    "    \"\"\"Define a calling function to read data, define a model and train it.\n",
    "\n",
    "    Inputs:\n",
    "        dict: configuration dictionary with hard-coded runtime values\n",
    "\n",
    "    Returns:\n",
    "        'torch.utils.data.dataloader.DataLoader': validation data loader\n",
    "        'pytorch_lightning.trainer.trainer.Trainer': trainer for fitting the model\n",
    "        'pytorch_forecasting.models.temporal_fusion_transformer.TemporalFusionTransformer': trained model\n",
    "        str: path where Pytorch Forecasting model is stored\n",
    "    \"\"\"\n",
    "    # Get data segment ID from Tune search parameters\n",
    "    sample_cluster_id = config.get(\"sample_cluster_id\", [\"erratic\"])\n",
    "    \n",
    "    # Read a segment of data for multi-model training in parallel.\n",
    "    df = prepare_data_from_clean(filename, sample_cluster_id[0])\n",
    "        \n",
    "    # convert data from pandas to PyTorch tensors\n",
    "    train_dataset, train_loader, validation_loader = \\\n",
    "        convert_pandas_pytorch_timeseriesdata(df, config)\n",
    "    \n",
    "    # Create your PTF model.\n",
    "    model = ptf.models.TemporalFusionTransformer.from_dataset(\n",
    "        train_dataset,\n",
    "        learning_rate=config.get(\"lr\", 0.01),\n",
    "        hidden_size=config.get(\"hidden_size\", 40), # num neurons in each layer, bigger runs more slowly\n",
    "        # lstm_layers=HIDDEN_LAYERS, #LSTM layers=1 is default for tft architecture\n",
    "        attention_head_size=config.get(\"attention_head_size\", 4),  #default 4 cells in LSTM layer\n",
    "        dropout=config.get(\"droupout\", 0.1),\n",
    "        hidden_continuous_size=config.get(\"hidden_continuous_size\", 1),  #similar to categorical embedding size\n",
    "        # 7 quantiles by default: [0.02, 0.1, 0.25, 0.5, 0.75, 0.9, 0.98]\n",
    "        # optimizer loss metric\n",
    "        loss=ptf.metrics.QuantileLoss([0.25, 0.5, 0.75]),\n",
    "        reduce_on_plateau_patience=4, # reduce learning automatically\n",
    "    )\n",
    "    print(f\"Number of parameters in network: {model.size()/1e3:.1f}k\")\n",
    "    \n",
    "    # Configure early stopping.\n",
    "    early_stop_callback = \\\n",
    "        pl.callbacks.EarlyStopping(monitor=\"val_loss\", \n",
    "                      min_delta=1e-4, \n",
    "                      patience=10, \n",
    "                      verbose=False, \n",
    "                      mode=\"min\")\n",
    "   \n",
    "    # Create the Tune Reporting Callback\n",
    "    metrics = {\"loss\": \"val_loss\"}\n",
    "    callbacks = [early_stop_callback, \n",
    "                 TuneReportCheckpointCallback(\n",
    "                     metrics, \n",
    "                     on=\"validation_end\")]\n",
    "\n",
    "    # configure PyTorch trainer with Ray Lightning plugin\n",
    "    trainer = pl.Trainer(\n",
    "        max_epochs=config.get(\"epochs\", 30),\n",
    "        gradient_clip_val=config.get(\"gradient_clip_val\", 0.1),\n",
    "        limit_train_batches=config.get(\"limit_train_batches\", 30),  \n",
    "        callbacks=callbacks,\n",
    "        strategy=strategy, \n",
    "        # Suggest always use fast_mode, uses Tune instead of ptf logging.\n",
    "        fast_dev_run=True,\n",
    "    )\n",
    "    trainer.fit(\n",
    "        model,\n",
    "        train_dataloaders=train_loader,\n",
    "        val_dataloaders=validation_loader,\n",
    "    )\n",
    "\n",
    "# Currently PyTorch Lightning checkpointing not yet fully integrated \n",
    "# with Ray AIR.  TODO update this section when available.\n",
    "\n"
   ]
  },
  {
   "cell_type": "code",
   "execution_count": 51,
   "id": "f67970c9-a9bf-450c-a432-b9017c58ceae",
   "metadata": {},
   "outputs": [
    {
     "name": "stdout",
     "output_type": "stream",
     "text": [
      "sample_id: erratic\n"
     ]
    }
   ],
   "source": [
    "# Test train_ptf function\n",
    "num_training_workers = min(num_cpu - 2, 32)\n",
    "FORECAST_CONFIG = {\"forecast_horizon\": 168, \"context_length\": 63,\n",
    "          \"num_gpus\":0, \"batch_size\": 128, \n",
    "          \"num_training_workers\": num_training_workers,\n",
    "          \"sample_cluster_id\": sample_clusters,\n",
    "         }\n",
    "\n",
    "# Customize scaling.\n",
    "strategy = RayStrategy(num_workers=num_training_workers, \n",
    "                       num_cpus_per_worker=1, \n",
    "                       use_gpu=False,\n",
    "                        # add this to skip warnings\n",
    "                        # https://github.com/PyTorchLightning/pytorch-lightning/discussions/6761\n",
    "                        find_unused_parameters=False,)\n",
    "\n",
    "# Test using cluster_ids.\n",
    "train_ptf(config = FORECAST_CONFIG,\n",
    "             strategy=strategy,\n",
    "             filename=FILENAME,\n",
    "             train_dataset=None, \n",
    "             train_loader=None, \n",
    "             validation_loader=None)\n"
   ]
  },
  {
   "cell_type": "markdown",
   "id": "cb5f0683",
   "metadata": {},
   "source": [
    "## Create and train a baseline model"
   ]
  },
  {
   "cell_type": "code",
   "execution_count": 54,
   "id": "763bae25-94a3-4de4-b7de-8239a4d63bea",
   "metadata": {},
   "outputs": [
    {
     "data": {
      "text/plain": [
       "['erratic']"
      ]
     },
     "execution_count": 54,
     "metadata": {},
     "output_type": "execute_result"
    }
   ],
   "source": [
    "sample_clusters"
   ]
  },
  {
   "cell_type": "code",
   "execution_count": 56,
   "id": "ea77c623",
   "metadata": {},
   "outputs": [
    {
     "name": "stdout",
     "output_type": "stream",
     "text": [
      "Clusters: ['erratic']\n",
      "time_idx                int16\n",
      "pickup_location_id     object\n",
      "day_hour               object\n",
      "trip_quantity         float32\n",
      "ts_type                object\n",
      "dtype: object\n",
      "Input data type: <class 'pandas.core.frame.DataFrame'>\n",
      "Converted data type: <class 'pytorch_forecasting.data.timeseries.TimeSeriesDataSet'>\n"
     ]
    },
    {
     "name": "stderr",
     "output_type": "stream",
     "text": [
      "/Users/christy/opt/miniconda3/envs/prophet38/lib/python3.8/site-packages/pytorch_lightning/utilities/parsing.py:261: UserWarning: Attribute 'loss' is an instance of `nn.Module` and is already saved during checkpointing. It is recommended to ignore them using `self.save_hyperparameters(ignore=['loss'])`.\n",
      "  rank_zero_warn(\n",
      "/Users/christy/opt/miniconda3/envs/prophet38/lib/python3.8/site-packages/pytorch_lightning/utilities/parsing.py:261: UserWarning: Attribute 'logging_metrics' is an instance of `nn.Module` and is already saved during checkpointing. It is recommended to ignore them using `self.save_hyperparameters(ignore=['logging_metrics'])`.\n",
      "  rank_zero_warn(\n"
     ]
    },
    {
     "name": "stdout",
     "output_type": "stream",
     "text": [
      "baseline model MAE: 71.43466186523438\n",
      "CPU times: user 912 ms, sys: 199 ms, total: 1.11 s\n",
      "Wall time: 6.75 s\n"
     ]
    }
   ],
   "source": [
    "%%time\n",
    "\n",
    "# Config parameters for baseline model.\n",
    "num_training_workers = min(num_cpu - 2, 32)\n",
    "FORECAST_CONFIG = {\"forecast_horizon\": 168, \"context_length\": 63,\n",
    "          \"num_gpus\":0, \"batch_size\": 128, \n",
    "          \"num_training_workers\": num_training_workers,\n",
    "          \"sample_cluster_id\": sample_clusters,\n",
    "         }\n",
    "\n",
    "# Test reading data pandas from sample clean data.\n",
    "df = prepare_data_from_clean(FILENAME, sample_clusters[0])\n",
    "# Display what data will be used.\n",
    "print(f\"Clusters: {sample_clusters}\")\n",
    "sample_locations = df.loc[(df.ts_type.isin(sample_clusters)), 'pickup_location_id'].unique()\n",
    "print(df.dtypes)\n",
    "df.head()\n",
    "\n",
    "# convert data from pandas to PyTorch tensors\n",
    "print(f\"Input data type: {type(df)}\")\n",
    "train_dataset, train_loader, validation_loader = convert_pandas_pytorch_timeseriesdata(\n",
    "    df, FORECAST_CONFIG\n",
    ")\n",
    "print(f\"Converted data type: {type(train_dataset)}\")\n",
    "\n",
    "# calculate baseline mean absolute error, i.e. predict next value as the last available value from the history\n",
    "actuals = torch.cat([y for x, (y, weight) in iter(validation_loader)])\n",
    "baseline_predictions = ptf.models.Baseline().predict(validation_loader)\n",
    "\n",
    "## EVALUATE THE BASELINE MODEL\n",
    "# print MAE\n",
    "baseline_error = (actuals - baseline_predictions).abs().mean()\n",
    "print(f\"baseline model MAE: {baseline_error}\")\n",
    "\n",
    "# Erratic cluster\n",
    "# baseline model MAE: 71.43466186523438\n",
    "\n",
    "# Smooth cluster\n",
    "# baseline model MAE: 20.886438369750977\n",
    "\n",
    "# Locations: [141, 43, 229, 173]\n",
    "# baseline model MAE: 102.18452453613281\n"
   ]
  },
  {
   "cell_type": "code",
   "execution_count": 29,
   "id": "93824384",
   "metadata": {},
   "outputs": [
    {
     "data": {
      "text/plain": [
       "smooth     0.832962\n",
       "erratic    0.167038\n",
       "Name: ts_type, dtype: float64"
      ]
     },
     "execution_count": 29,
     "metadata": {},
     "output_type": "execute_result"
    }
   ],
   "source": [
    "df_raw.ts_type.value_counts(normalize=True, dropna=False)"
   ]
  },
  {
   "cell_type": "markdown",
   "id": "fc213ac3",
   "metadata": {},
   "source": [
    "## Run batch training on Ray Tune <a class=\"anchor\" id=\"run_tune_search\"></a>"
   ]
  },
  {
   "cell_type": "markdown",
   "id": "680eb8dc",
   "metadata": {},
   "source": [
    "\n",
    "**Now we are ready to kick off a Ray Tune experiment!**  \n",
    "\n",
    "Recall what we are doing, high level, is training several different models per pickup location. We are using Ray Tune so we can run all these trials in parallel on a Ray cluster. At the end, we will inspect the results of the experiment and deploy only the best model per pickup location.\n",
    "\n",
    "**In the cell below, we use AIR configs and run the experiment using `tuner.fit()`.** \n",
    "\n",
    "Tune will report on experiment status, and after the experiment finishes, you can inspect the results. \n",
    "\n",
    "- In the cell below, we use the default resources config which is 1 CPU core for each task. For more information about configuring resource allocations, see [A Guide To Parallelism and Resources](https://docs.ray.io/en/master/tune/tutorials/tune-resources.html#tune-parallelism). \n",
    "\n",
    "- In the AIR config below, we have specified a local directory `my_Tune_logs` for logging instead of the default `~/ray_results` directory. Giving your logs a project name makes them easier to find. Also giving a relative path, means you can see your logs inside the Jupyter browser. Learn more about logging Tune results at [How to configure logging in Tune](https://docs.ray.io/en/master/tune/tutorials/tune-output.html#tune-logging).\n",
    "\n",
    "- Tune can [retry failed experiments automatically](https://docs.ray.io/en/master/tune/tutorials/tune-stopping.html#tune-stopping-guide), as well as entire experiments. This is necessary in case a node on your remote cluster fails (when running on a cloud such as AWS or GCP).\n",
    "\n",
    "💡 Right-click on the cell below and choose \"Enable Scrolling for Outputs\"! This will make it easier to view, since model training output can be very long!\n",
    "\n",
    "**Setting SMOKE_TEST=False, running on Anyscale: 771 models, using 18 NYC Taxi S3 files dating from 2018/01 to 2019/06 (split into partitions approx 1GiB each), were simultaneously trained on a 7-node AWS cluster of [m5.4xlarges](https://aws.amazon.com/ec2/instance-types/m5/), within 40 minutes.**"
   ]
  },
  {
   "cell_type": "code",
   "execution_count": null,
   "id": "ea5141ee",
   "metadata": {
    "scrolled": true
   },
   "outputs": [],
   "source": [
    "# STEP 1. Define a search space of all config parameters, including the Tune ones\n",
    "sample_clusters = [\"erratic\"] if SMOKE_TEST else [\"smooth\", \"erratic\"]\n",
    "sample_locations = [141, 43, 229, 173] if SMOKE_TEST else all_location_ids\n",
    "num_training_workers = min(num_cpu - 2, 32)\n",
    "FORECAST_CONFIG = {\n",
    "    \"forecast_horizon\": 168,\n",
    "    \"context_length\": 63,\n",
    "    \"num_gpus\": 0,\n",
    "    \"num_training_workers\": num_training_workers,\n",
    "#     \"batch_size\": 128,     \n",
    "    \"batch_size\": tune.grid_search([128, 64]), \n",
    "    \"epochs\": 2,\n",
    "    \"lr\": 0.05,\n",
    "    \"hidden_size\": 20,\n",
    "    \"dropout\": 0.1,\n",
    "    # \"dropout\": tune.choice([0, 0.05, 0.1]),\n",
    "    \"hidden_continuous_size\": 4,\n",
    "    \"attention_head_size\": num_training_workers,\n",
    "    \"limit_train_batches\": 1, #0.25,\n",
    "    \"sample_cluster_id\": sample_clusters,\n",
    "}\n",
    "\n",
    "# STEP 2. Specify search strategy: algorithm + scheduler\n",
    "# Select scheduler https://blog.ml.cmu.edu/2018/12/12/massively-parallel-hyperparameter-optimization/\n",
    "scheduler = ASHAScheduler(\n",
    "    max_t=FORECAST_CONFIG['epochs'],\n",
    "    grace_period=1,\n",
    "    reduction_factor=2)\n",
    "\n",
    "# STEP 3. Customize scaling \n",
    "strategy = RayStrategy(num_workers=num_training_workers, \n",
    "                       num_cpus_per_worker=1, \n",
    "                       use_gpu=False,\n",
    "                       find_unused_parameters=False,)\n",
    "\n",
    "# Optional to pass parameters. Wrap Callable train function inside tune.with_parameters()\n",
    "# By default Callable function accepts only 1 input parameter called \"config\"\n",
    "train_fn_with_parameters = \\\n",
    "    tune.with_parameters(\n",
    "        train_ptf,\n",
    "        strategy=strategy,\n",
    "        input_df=df_raw,  #Use clusters\n",
    "        # input_df=None,  #Use location_ids\n",
    "        train_dataset=train_dataset, \n",
    "        train_loader=train_loader, \n",
    "        validation_loader=validation_loader)\n",
    "\n",
    "# STEP 4. Run the experiment with Ray Tune.\n",
    "# Use Ray 2.2 Tune APIs\n",
    "# https://docs.ray.io/en/latest/tune/examples/tune-pytorch-lightning.html\n",
    "start = time.time()\n",
    "\n",
    "tuner = tune.Tuner(\n",
    "        tune.with_resources(\n",
    "            train_fn_with_parameters,\n",
    "            resources=get_tune_resources(num_workers=num_training_workers),\n",
    "        ),\n",
    "        tune_config=tune.TuneConfig(\n",
    "            metric=\"loss\",\n",
    "            mode=\"min\",\n",
    "#             scheduler=scheduler,\n",
    "        ),\n",
    "        run_config=air.RunConfig(\n",
    "            name=\"ptf_nyc\",\n",
    "        ),\n",
    "        param_space=FORECAST_CONFIG,\n",
    "    )\n",
    "\n",
    "results = tuner.fit()\n",
    " \n",
    "total_time_taken = time.time() - start\n",
    "print(f\"Total number of models: {len(results)}\")\n",
    "print(f\"Finished in: {(time.time()-start)/60} minutes\")\n",
    "\n",
    "# With ASHA\n",
    "# Total number of models: 2\n",
    "# Finished in: 3.0699266950289408 minutes\n",
    "\n",
    "# Without ASHA\n",
    "# Total number of models: 2\n",
    "# Finished in: 0.6272321343421936 minutes\n"
   ]
  },
  {
   "cell_type": "markdown",
   "id": "3f5590e5",
   "metadata": {},
   "source": [
    "## Load a model from checkpoint and create a forecast  <a class=\"anchor\" id=\"load_checkpoint\"></a>"
   ]
  },
  {
   "cell_type": "markdown",
   "id": "82a06b2c",
   "metadata": {},
   "source": [
    "```{tip}\n",
    "[Ray AIR Predictors](https://docs.ray.io/en/latest/ray-air/predictors.html) make batch inference easy since they have internal logic to parallelize the inference.\n",
    "```\n",
    "  \n",
    "Finally, we will restore the best and worst models from checkpoint and inspect the forecasts. Prophet includes a convenient plot library which displays actual data along with backtest predictions and confidence intervals and future forecasts. With ARIMA, you have to create a prediciton manually.\n",
    "\n",
    "- We will easily obtain AIR Checkpoint objects from the Tune results. \n",
    "- We will restore a Prophet or ARIMA model directly from checkpoint, and demonstrate it can be used for prediction.\n"
   ]
  },
  {
   "cell_type": "code",
   "execution_count": null,
   "id": "d65466af",
   "metadata": {},
   "outputs": [],
   "source": [
    "[print(i.config) for i in results]"
   ]
  },
  {
   "cell_type": "code",
   "execution_count": null,
   "id": "b600e7a1",
   "metadata": {},
   "outputs": [],
   "source": [
    "# get a list of training loss errors\n",
    "loss = [i.metrics.get(\"loss\", 10000.0) for i in results]\n",
    "\n",
    "# get a list of model params\n",
    "batch_size = [i.config[\"batch_size\"] for i in results]\n",
    "\n",
    "# get a list of checkpoints\n",
    "checkpoints = [i.checkpoint for i in results]\n",
    "\n",
    "# Assemble a pandas dataframe from Tune results\n",
    "results_df = pd.DataFrame(\n",
    "    zip(loss, batch_size, checkpoints),\n",
    "    columns=[\"loss\", \"batch_size\", \"checkpoint\"],\n",
    ")\n",
    "print(results_df.dtypes)\n",
    "results_df.head(8)"
   ]
  },
  {
   "cell_type": "code",
   "execution_count": null,
   "id": "92de26f5",
   "metadata": {},
   "outputs": [],
   "source": [
    "# results_df.describe(include=\"all\")"
   ]
  },
  {
   "cell_type": "code",
   "execution_count": null,
   "id": "7759c33a",
   "metadata": {},
   "outputs": [],
   "source": [
    "# Get model error for the best model\n",
    "# TODO: Not exact comparison -baseline was MAE vs tuned was WQL\n",
    "best_model_error = results_df.loss.min()\n",
    "print(\"#########\")\n",
    "print(f\"Baseline error: {baseline_error}\")\n",
    "print(f\"Best tuned error: {best_model_error}\")\n",
    "print(\"#########\")\n",
    "print()\n",
    "\n",
    "# Get model path for the best model\n",
    "best_model_path = results_df.iloc[0, -1:][0]\n",
    "best_model_path = str(best_model_path).split(\"local_path=\")[1]\n",
    "best_model_path = best_model_path.split(\")\")[0] + \"/checkpoint\"\n",
    "\n",
    "# Restore a model from checkpoint\n",
    "best_model = ptf.models.TemporalFusionTransformer.load_from_checkpoint(best_model_path)\n",
    "print(f\"Restored model type: {type(best_model)}\")\n",
    "\n"
   ]
  },
  {
   "cell_type": "code",
   "execution_count": null,
   "id": "cdf9396e",
   "metadata": {},
   "outputs": [],
   "source": [
    "################\n",
    "# calculate WQL\n",
    "# note: to get a single item quantile prediction:\n",
    "# example: quantile p50 for itemid=\"140\"\n",
    "# y_quantiles[1].detach().cpu()[43, : x[\"decoder_lengths\"][43]] \n",
    "# raw predictions are a dictionary from which quantiles can be extracte\n",
    "################\n",
    "print(f\"available quantiles: {best_model.loss.quantiles}\")\n",
    "raw_predictions, x = best_model.predict(validation_loader, mode=\"raw\", return_x=True)\n",
    "desired_quantiles = [0.25, 0.5, 0.75]\n",
    "y_quantiles = best_model.to_quantiles(raw_predictions, desired_quantiles)\n",
    "WQL = evaluate_model(actuals, y_quantiles, desired_quantiles)\n",
    "print(f\"Mean WQL over quantiles {desired_quantiles}: {WQL}\")\n",
    "\n",
    "# Erratic cluster\n",
    "# Mean WQL over quantiles [0.25, 0.5, 0.75]: 0.4691859781742096\n",
    "\n",
    "\n",
    "# ################\n",
    "# # calculate MAE\n",
    "# ################\n",
    "# import torchmetrics\n",
    "# pred = y_quantiles[:, :, 1]\n",
    "# torchmetrics.MeanAbsoluteError(raw_predictions, pred)"
   ]
  },
  {
   "cell_type": "code",
   "execution_count": null,
   "id": "a07f0386",
   "metadata": {},
   "outputs": [],
   "source": [
    "print(y_quantiles.shape)\n",
    "pred = y_quantiles[:, :, 1]\n",
    "print(pred.shape)\n",
    "print(type(raw_predictions))"
   ]
  },
  {
   "cell_type": "code",
   "execution_count": null,
   "id": "37611276",
   "metadata": {},
   "outputs": [],
   "source": [
    "sample_locations[0:5]"
   ]
  },
  {
   "cell_type": "code",
   "execution_count": null,
   "id": "40d75716",
   "metadata": {},
   "outputs": [],
   "source": [
    "# plot first 5 indexes (sort of a random sample)\n",
    "for idx in range(len(sample_locations[0:5])):\n",
    "    best_model.plot_prediction(x, raw_predictions, idx=idx, add_loss_to_title=True)"
   ]
  },
  {
   "cell_type": "code",
   "execution_count": null,
   "id": "267b240f",
   "metadata": {},
   "outputs": [],
   "source": []
  }
 ],
 "metadata": {
  "kernelspec": {
   "display_name": "Python 3 (ipykernel)",
   "language": "python",
   "name": "python3"
  },
  "language_info": {
   "codemirror_mode": {
    "name": "ipython",
    "version": 3
   },
   "file_extension": ".py",
   "mimetype": "text/x-python",
   "name": "python",
   "nbconvert_exporter": "python",
   "pygments_lexer": "ipython3",
   "version": "3.8.13"
  }
 },
 "nbformat": 4,
 "nbformat_minor": 5
}
