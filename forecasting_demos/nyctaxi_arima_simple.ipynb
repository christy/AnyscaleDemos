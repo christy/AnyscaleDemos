{
 "cells": [
  {
   "cell_type": "markdown",
   "id": "7031259b-9c54-497a-a068-6b4b14060f6d",
   "metadata": {},
   "source": [
    "# Demo ARIMA Time Series Forecasting on Ray local"
   ]
  },
  {
   "cell_type": "code",
   "execution_count": 13,
   "id": "3fdab91e-f253-4535-8017-1a5cc725c431",
   "metadata": {},
   "outputs": [],
   "source": [
    "# install open-source ray if you haven't already\n",
    "# !pip install \"ray[default] installs the latest version; otherwise use a specific version\n",
    "# !pip install \"ray[default]==1.8.0\""
   ]
  },
  {
   "cell_type": "code",
   "execution_count": 14,
   "id": "a9c19cfb-d264-4607-8222-01375c387fed",
   "metadata": {},
   "outputs": [
    {
     "name": "stdout",
     "output_type": "stream",
     "text": [
      "Python 3.8.12\n",
      "ray: 1.8.0\n",
      "numpy: 1.20.3\n",
      "pandas: 1.3.4\n",
      "matplotlib: 3.4.3\n",
      "pmdarima: 1.8.3\n"
     ]
    }
   ],
   "source": [
    "###########\n",
    "# Import libraries\n",
    "###########\n",
    "\n",
    "# Open-source libraries\n",
    "import time               # Python time functions\n",
    "import ray                # Run distributed code\n",
    "import numpy as np        # Numerical processing\n",
    "import pandas as pd       # Dataframe (tabular data) processing\n",
    "import matplotlib as mpl  # Graph plotting\n",
    "import matplotlib.pyplot as plt\n",
    "%matplotlib inline\n",
    "import pickle\n",
    "\n",
    "# Open-source ARIMA forecasting libraries\n",
    "import warnings\n",
    "warnings.filterwarnings('ignore')\n",
    "arima_model_type = \"pmdarima.arima.arima.ARIMA\"\n",
    "import pmdarima as pm\n",
    "from pmdarima.model_selection import train_test_split\n",
    "\n",
    "!python --version\n",
    "print(f\"ray: {ray.__version__}\")\n",
    "print(f\"numpy: {np.__version__}\")\n",
    "print(f\"pandas: {pd.__version__}\")\n",
    "print(f\"matplotlib: {mpl.__version__}\")\n",
    "print(f\"pmdarima: {pm.__version__}\")"
   ]
  },
  {
   "cell_type": "code",
   "execution_count": 15,
   "id": "0d1ba53d-f1f1-47b5-a118-28600497c93b",
   "metadata": {},
   "outputs": [
    {
     "name": "stderr",
     "output_type": "stream",
     "text": [
      "2021-11-17 19:24:40,448\tINFO worker.py:832 -- Calling ray.init() again after it has already been called.\n"
     ]
    }
   ],
   "source": [
    "###########\n",
    "# start-up ray on your laptop for testing purposes\n",
    "###########\n",
    "\n",
    "NUM_CPU = 4\n",
    "# ray.shutdown()  #in case a different ray server is already running\n",
    "\n",
    "ray.init(\n",
    "    # prevent errors in case re-running notebook\n",
    "    ignore_reinit_error=True\n",
    "    , num_cpus = NUM_CPU\n",
    ")"
   ]
  },
  {
   "cell_type": "markdown",
   "id": "7f5041e6-01c7-47d9-865c-1f1dd0e10f68",
   "metadata": {},
   "source": [
    "# Read 8 months clean NYC taxi data \n",
    "Normally there is a data cleaning/prep step here to convert raw data -> cleaned data.  We'll dig into details of ETL later.  For now, let's just start with cleaned data..."
   ]
  },
  {
   "cell_type": "code",
   "execution_count": 16,
   "id": "c86cd7b2-8ff5-405e-bd9a-0a1fab4651ab",
   "metadata": {},
   "outputs": [
    {
     "data": {
      "text/html": [
       "<div>\n",
       "<style scoped>\n",
       "    .dataframe tbody tr th:only-of-type {\n",
       "        vertical-align: middle;\n",
       "    }\n",
       "\n",
       "    .dataframe tbody tr th {\n",
       "        vertical-align: top;\n",
       "    }\n",
       "\n",
       "    .dataframe thead th {\n",
       "        text-align: right;\n",
       "    }\n",
       "</style>\n",
       "<table border=\"1\" class=\"dataframe\">\n",
       "  <thead>\n",
       "    <tr style=\"text-align: right;\">\n",
       "      <th></th>\n",
       "      <th>time</th>\n",
       "      <th>pulocationid</th>\n",
       "      <th>trip_quantity</th>\n",
       "      <th>pickup_lat</th>\n",
       "      <th>pickup_lon</th>\n",
       "    </tr>\n",
       "  </thead>\n",
       "  <tbody>\n",
       "    <tr>\n",
       "      <th>0</th>\n",
       "      <td>2019-07-31</td>\n",
       "      <td>1</td>\n",
       "      <td>50</td>\n",
       "      <td>40.689514</td>\n",
       "      <td>-74.176788</td>\n",
       "    </tr>\n",
       "    <tr>\n",
       "      <th>1</th>\n",
       "      <td>2019-07-31</td>\n",
       "      <td>10</td>\n",
       "      <td>2201</td>\n",
       "      <td>40.678123</td>\n",
       "      <td>-73.791664</td>\n",
       "    </tr>\n",
       "    <tr>\n",
       "      <th>2</th>\n",
       "      <td>2019-07-31</td>\n",
       "      <td>100</td>\n",
       "      <td>138614</td>\n",
       "      <td>40.753513</td>\n",
       "      <td>-73.988785</td>\n",
       "    </tr>\n",
       "    <tr>\n",
       "      <th>3</th>\n",
       "      <td>2019-07-31</td>\n",
       "      <td>101</td>\n",
       "      <td>63</td>\n",
       "      <td>40.743721</td>\n",
       "      <td>-73.709068</td>\n",
       "    </tr>\n",
       "    <tr>\n",
       "      <th>4</th>\n",
       "      <td>2019-07-31</td>\n",
       "      <td>102</td>\n",
       "      <td>97</td>\n",
       "      <td>40.702679</td>\n",
       "      <td>-73.881996</td>\n",
       "    </tr>\n",
       "  </tbody>\n",
       "</table>\n",
       "</div>"
      ],
      "text/plain": [
       "        time pulocationid  trip_quantity  pickup_lat  pickup_lon\n",
       "0 2019-07-31            1             50   40.689514  -74.176788\n",
       "1 2019-07-31           10           2201   40.678123  -73.791664\n",
       "2 2019-07-31          100         138614   40.753513  -73.988785\n",
       "3 2019-07-31          101             63   40.743721  -73.709068\n",
       "4 2019-07-31          102             97   40.702679  -73.881996"
      ]
     },
     "metadata": {},
     "output_type": "display_data"
    }
   ],
   "source": [
    "###########\n",
    "# Read pandas dataframe\n",
    "###########\n",
    "# read 8 months of clean, aggregated monthly taxi data\n",
    "filename = \"data/clean_taxi_monthly.parquet\"\n",
    "g_month = pd.read_parquet(filename) \n",
    "\n",
    "# rename \"time\" column, since prophet expects that, arima doesn't care\n",
    "g_month.reset_index(inplace=True)\n",
    "g_month.rename(columns={'pickup_monthly':'time'}, inplace=True)\n",
    "\n",
    "display(g_month.head())\n",
    "\n",
    "# Train a model per item_id\n",
    "item_list = list(g_month['pulocationid'].unique())"
   ]
  },
  {
   "cell_type": "code",
   "execution_count": 17,
   "id": "a5ce030b-dfd6-49a6-9a92-5fa839b0f6d2",
   "metadata": {},
   "outputs": [],
   "source": [
    "###########\n",
    "# Assume these are already-existing functions.\n",
    "###########\n",
    "\n",
    "###########\n",
    "# Define a train_model function, default train on 6 months, inference 2\n",
    "###########\n",
    "def train_model_ARIMA(theDF:pd.DataFrame, item_col:str\n",
    "                , item_value:str, target_col:str\n",
    "                , train_size:int=6) -> list:\n",
    "    \n",
    "    import warnings\n",
    "    warnings.filterwarnings('ignore')\n",
    "\n",
    "    # split data into train/test\n",
    "    train, test = train_test_split(theDF.loc[(theDF[item_col]==item_value), :], train_size=train_size)\n",
    "    \n",
    "    # train and fit auto.arima model\n",
    "    model = pm.auto_arima(y=train[target_col]\n",
    "                          ,X=train.loc[:, (train.columns!=target_col) \n",
    "                                          & (train.columns!=item_col)]\n",
    "                         )\n",
    "    \n",
    "    return [train, test, model]\n",
    "\n",
    "\n",
    "###########\n",
    "# Define inference_model function\n",
    "###########\n",
    "def inference_model_ARIMA(model:\"pmdarima.arima.arima.ARIMA\", test:pd.DataFrame\n",
    "                    , item_col:str, target_col:str) -> pd.DataFrame:\n",
    "    \n",
    "    # inference on test data\n",
    "    forecast = pd.DataFrame(model.predict(n_periods=test.shape[0]\n",
    "                         , X=test.loc[:, (test.columns!=target_col) & (test.columns!=item_col)]\n",
    "                         , index=test.index))\n",
    "    \n",
    "    # put both actual_value and predicted_value in forecast, for easier eval later\n",
    "    forecast.columns = ['predicted_value']\n",
    "    forecast.predicted_value = forecast.predicted_value.astype(np.int32)\n",
    "    forecast = pd.concat([forecast\n",
    "                         , test.loc[:, target_col].reset_index()]\n",
    "                         , axis=1)\n",
    "    forecast.set_index('time', inplace=True)\n",
    "\n",
    "    return forecast"
   ]
  },
  {
   "cell_type": "code",
   "execution_count": 18,
   "id": "3b795279-ee68-499d-aa6d-2a4430094089",
   "metadata": {},
   "outputs": [
    {
     "name": "stdout",
     "output_type": "stream",
     "text": [
      "Done! Training and forecasting on Regular Python finished in 3.6071090698242188 seconds\n"
     ]
    }
   ],
   "source": [
    "#%%timeit\n",
    "###########\n",
    "# Main Regular Python program flow to train and inference ARIMA models\n",
    "###########\n",
    "\n",
    "model = []\n",
    "train = []\n",
    "test = []\n",
    "\n",
    "# Train every model\n",
    "start = time.time()\n",
    "train, test, model = map(list, zip(*([train_model_ARIMA(g_month.set_index('time')\n",
    "                          , item_col='pulocationid'\n",
    "                          , item_value=v\n",
    "                          , target_col='trip_quantity'\n",
    "                          , train_size=6) for p,v in enumerate(item_list)]\n",
    "                          )))\n",
    "\n",
    "# Inference every model\n",
    "forecast = [inference_model_ARIMA(model[p]\n",
    "                        , test[p]\n",
    "                        , item_col='pulocationid'\n",
    "                        , target_col='trip_quantity') \n",
    "                     for p in range(len(item_list))]\n",
    "\n",
    "print(f\"Done! Training and forecasting on Regular Python finished in {time.time()-start} seconds\")"
   ]
  },
  {
   "cell_type": "code",
   "execution_count": 19,
   "id": "12c36701-3094-4646-abf1-cc5cf9d5d4b7",
   "metadata": {},
   "outputs": [
    {
     "name": "stdout",
     "output_type": "stream",
     "text": [
      "len(forecast): 260\n"
     ]
    },
    {
     "data": {
      "text/html": [
       "<div>\n",
       "<style scoped>\n",
       "    .dataframe tbody tr th:only-of-type {\n",
       "        vertical-align: middle;\n",
       "    }\n",
       "\n",
       "    .dataframe tbody tr th {\n",
       "        vertical-align: top;\n",
       "    }\n",
       "\n",
       "    .dataframe thead th {\n",
       "        text-align: right;\n",
       "    }\n",
       "</style>\n",
       "<table border=\"1\" class=\"dataframe\">\n",
       "  <thead>\n",
       "    <tr style=\"text-align: right;\">\n",
       "      <th></th>\n",
       "      <th>predicted_value</th>\n",
       "      <th>trip_quantity</th>\n",
       "    </tr>\n",
       "    <tr>\n",
       "      <th>time</th>\n",
       "      <th></th>\n",
       "      <th></th>\n",
       "    </tr>\n",
       "  </thead>\n",
       "  <tbody>\n",
       "    <tr>\n",
       "      <th>2020-01-31</th>\n",
       "      <td>49</td>\n",
       "      <td>34</td>\n",
       "    </tr>\n",
       "    <tr>\n",
       "      <th>2020-02-29</th>\n",
       "      <td>49</td>\n",
       "      <td>35</td>\n",
       "    </tr>\n",
       "  </tbody>\n",
       "</table>\n",
       "</div>"
      ],
      "text/plain": [
       "            predicted_value  trip_quantity\n",
       "time                                      \n",
       "2020-01-31               49             34\n",
       "2020-02-29               49             35"
      ]
     },
     "metadata": {},
     "output_type": "display_data"
    },
    {
     "data": {
      "text/html": [
       "<div>\n",
       "<style scoped>\n",
       "    .dataframe tbody tr th:only-of-type {\n",
       "        vertical-align: middle;\n",
       "    }\n",
       "\n",
       "    .dataframe tbody tr th {\n",
       "        vertical-align: top;\n",
       "    }\n",
       "\n",
       "    .dataframe thead th {\n",
       "        text-align: right;\n",
       "    }\n",
       "</style>\n",
       "<table border=\"1\" class=\"dataframe\">\n",
       "  <thead>\n",
       "    <tr style=\"text-align: right;\">\n",
       "      <th></th>\n",
       "      <th>predicted_value</th>\n",
       "      <th>trip_quantity</th>\n",
       "    </tr>\n",
       "    <tr>\n",
       "      <th>time</th>\n",
       "      <th></th>\n",
       "      <th></th>\n",
       "    </tr>\n",
       "  </thead>\n",
       "  <tbody>\n",
       "    <tr>\n",
       "      <th>2020-01-31</th>\n",
       "      <td>2003</td>\n",
       "      <td>1689</td>\n",
       "    </tr>\n",
       "    <tr>\n",
       "      <th>2020-02-29</th>\n",
       "      <td>2003</td>\n",
       "      <td>1386</td>\n",
       "    </tr>\n",
       "  </tbody>\n",
       "</table>\n",
       "</div>"
      ],
      "text/plain": [
       "            predicted_value  trip_quantity\n",
       "time                                      \n",
       "2020-01-31             2003           1689\n",
       "2020-02-29             2003           1386"
      ]
     },
     "metadata": {},
     "output_type": "display_data"
    },
    {
     "data": {
      "image/png": "[encoded data removed]",
      "text/plain": [
       "<Figure size 576x360 with 1 Axes>"
      ]
     },
     "metadata": {
      "needs_background": "light"
     },
     "output_type": "display_data"
    }
   ],
   "source": [
    "###########\n",
    "# inspect a few forecasts\n",
    "###########\n",
    "\n",
    "assert len(model) == len(item_list)\n",
    "assert len(forecast) == len(item_list)\n",
    "print(f\"len(forecast): {len(forecast)}\")\n",
    "\n",
    "# eyeball first two forecasts\n",
    "plt.figure(figsize=(8,5))\n",
    "for p,v in enumerate(item_list[0:2]):\n",
    "    display(forecast[p])\n",
    "    plt.plot(train[p]['trip_quantity'], label=\"Train\")\n",
    "    plt.plot(test[p]['trip_quantity'], label=\"Test\")\n",
    "    plt.plot(forecast[p][\"predicted_value\"], label=\"Forecast\")\n",
    "    plt.legend(loc='best')"
   ]
  },
  {
   "cell_type": "code",
   "execution_count": 20,
   "id": "4de81c7e-0c72-4e58-a66e-c82284b6e6bd",
   "metadata": {},
   "outputs": [],
   "source": [
    "###########\n",
    "# Convert existing functions to Ray parallelized functions\n",
    "###########\n",
    "\n",
    "###########\n",
    "# Define a train_model function, default train on 6 months, inference 2\n",
    "###########\n",
    "@ray.remote(num_returns=3)\n",
    "def train_model_ARIMA_remote(theDF:pd.DataFrame, item_col:str\n",
    "                , item_value:str, target_col:str\n",
    "                , train_size:int=6) -> list:\n",
    "    \n",
    "    import warnings\n",
    "    warnings.filterwarnings('ignore')\n",
    "\n",
    "    # split data into train/test\n",
    "    train, test = train_test_split(theDF.loc[(theDF[item_col]==item_value), :], train_size=train_size)\n",
    "    \n",
    "    # train and fit auto.arima model\n",
    "    model = pm.auto_arima(y=train[target_col]\n",
    "                          ,X=train.loc[:, (train.columns!=target_col) \n",
    "                                          & (train.columns!=item_col)]\n",
    "                         )\n",
    "    \n",
    "    # here is the extra pickle step only required for statsmodels objects\n",
    "    # Explanation why https://alkaline-ml.com/pmdarima/1.0.0/serialization.html\n",
    "    # return [train, test, model]\n",
    "    return [train, test, pickle.dumps(model)]\n",
    "\n",
    "\n",
    "###########\n",
    "# Define inference_model function\n",
    "###########\n",
    "@ray.remote\n",
    "def inference_model_ARIMA_remote(model_pickle:bytes, test:pd.DataFrame\n",
    "                    , item_col:str, target_col:str) -> pd.DataFrame:\n",
    "\n",
    "    # Here is extra unpickle step\n",
    "    model = pickle.loads(model_pickle)\n",
    "    \n",
    "    # inference on test data\n",
    "    forecast = pd.DataFrame(model.predict(n_periods=test.shape[0]\n",
    "                         , X=test.loc[:, (test.columns!=target_col) & (test.columns!=item_col)]\n",
    "                         , index=test.index))\n",
    "    \n",
    "    # put both actual_value and predicted_value in forecast, for easier eval later\n",
    "    forecast.columns = ['predicted_value']\n",
    "    forecast.predicted_value = forecast.predicted_value.astype(np.int32)\n",
    "    forecast = pd.concat([forecast\n",
    "                         , test.loc[:, target_col].reset_index()]\n",
    "                         , axis=1)\n",
    "    forecast.set_index('time', inplace=True)\n",
    "    \n",
    "    return forecast"
   ]
  },
  {
   "cell_type": "code",
   "execution_count": 21,
   "id": "8966348f-1a09-4d35-be6f-dca28ed57bc2",
   "metadata": {},
   "outputs": [
    {
     "name": "stdout",
     "output_type": "stream",
     "text": [
      "Done! Training and forecasting on Ray finished in 1.4075267314910889 seconds\n"
     ]
    }
   ],
   "source": [
    "#%%timeit\n",
    "###########\n",
    "# Main Ray distributed program flow to train and inference ARIMA models\n",
    "###########\n",
    "\n",
    "model = []\n",
    "train = []\n",
    "test = []\n",
    "\n",
    "# Train every model\n",
    "start = time.time()\n",
    "train, test, model = map(list, zip(*([train_model_ARIMA_remote.remote(g_month.set_index('time')\n",
    "                          , item_col='pulocationid'\n",
    "                          , item_value=v\n",
    "                          , target_col='trip_quantity'\n",
    "                          , train_size=6) for p,v in enumerate(item_list)]\n",
    "                          )))\n",
    "\n",
    "# Inference every model\n",
    "forecast_obj_refs = [inference_model_ARIMA_remote.remote(model[p]\n",
    "                        , test[p]\n",
    "                        , item_col='pulocationid'\n",
    "                        , target_col='trip_quantity') \n",
    "                     for p in range(len(item_list))]\n",
    "\n",
    "\n",
    "# ray blocking step, to get the forecasts\n",
    "# ray.get() means block until all objectIDs requested are available\n",
    "forecast = ray.get(forecast_obj_refs)\n",
    "print(f\"Done! Training and forecasting on Ray finished in {time.time()-start} seconds\")"
   ]
  },
  {
   "cell_type": "code",
   "execution_count": 22,
   "id": "188252a8-108b-46ad-96e3-81cdaceb74e1",
   "metadata": {},
   "outputs": [
    {
     "name": "stdout",
     "output_type": "stream",
     "text": [
      "len(forecast): 260\n"
     ]
    },
    {
     "data": {
      "text/html": [
       "<div>\n",
       "<style scoped>\n",
       "    .dataframe tbody tr th:only-of-type {\n",
       "        vertical-align: middle;\n",
       "    }\n",
       "\n",
       "    .dataframe tbody tr th {\n",
       "        vertical-align: top;\n",
       "    }\n",
       "\n",
       "    .dataframe thead th {\n",
       "        text-align: right;\n",
       "    }\n",
       "</style>\n",
       "<table border=\"1\" class=\"dataframe\">\n",
       "  <thead>\n",
       "    <tr style=\"text-align: right;\">\n",
       "      <th></th>\n",
       "      <th>predicted_value</th>\n",
       "      <th>trip_quantity</th>\n",
       "    </tr>\n",
       "    <tr>\n",
       "      <th>time</th>\n",
       "      <th></th>\n",
       "      <th></th>\n",
       "    </tr>\n",
       "  </thead>\n",
       "  <tbody>\n",
       "    <tr>\n",
       "      <th>2020-01-31</th>\n",
       "      <td>49</td>\n",
       "      <td>34</td>\n",
       "    </tr>\n",
       "    <tr>\n",
       "      <th>2020-02-29</th>\n",
       "      <td>49</td>\n",
       "      <td>35</td>\n",
       "    </tr>\n",
       "  </tbody>\n",
       "</table>\n",
       "</div>"
      ],
      "text/plain": [
       "            predicted_value  trip_quantity\n",
       "time                                      \n",
       "2020-01-31               49             34\n",
       "2020-02-29               49             35"
      ]
     },
     "metadata": {},
     "output_type": "display_data"
    },
    {
     "data": {
      "text/html": [
       "<div>\n",
       "<style scoped>\n",
       "    .dataframe tbody tr th:only-of-type {\n",
       "        vertical-align: middle;\n",
       "    }\n",
       "\n",
       "    .dataframe tbody tr th {\n",
       "        vertical-align: top;\n",
       "    }\n",
       "\n",
       "    .dataframe thead th {\n",
       "        text-align: right;\n",
       "    }\n",
       "</style>\n",
       "<table border=\"1\" class=\"dataframe\">\n",
       "  <thead>\n",
       "    <tr style=\"text-align: right;\">\n",
       "      <th></th>\n",
       "      <th>predicted_value</th>\n",
       "      <th>trip_quantity</th>\n",
       "    </tr>\n",
       "    <tr>\n",
       "      <th>time</th>\n",
       "      <th></th>\n",
       "      <th></th>\n",
       "    </tr>\n",
       "  </thead>\n",
       "  <tbody>\n",
       "    <tr>\n",
       "      <th>2020-01-31</th>\n",
       "      <td>2003</td>\n",
       "      <td>1689</td>\n",
       "    </tr>\n",
       "    <tr>\n",
       "      <th>2020-02-29</th>\n",
       "      <td>2003</td>\n",
       "      <td>1386</td>\n",
       "    </tr>\n",
       "  </tbody>\n",
       "</table>\n",
       "</div>"
      ],
      "text/plain": [
       "            predicted_value  trip_quantity\n",
       "time                                      \n",
       "2020-01-31             2003           1689\n",
       "2020-02-29             2003           1386"
      ]
     },
     "metadata": {},
     "output_type": "display_data"
    },
    {
     "data": {
      "image/png": "[encoded data removed]",
      "text/plain": [
       "<Figure size 576x360 with 1 Axes>"
      ]
     },
     "metadata": {
      "needs_background": "light"
     },
     "output_type": "display_data"
    }
   ],
   "source": [
    "assert len(forecast) == len(item_list)\n",
    "print(f\"len(forecast): {len(forecast)}\")\n",
    "train = ray.get(train)\n",
    "test = ray.get(test)\n",
    "\n",
    "# eyeball first two forecasts\n",
    "plt.figure(figsize=(8,5))\n",
    "for p in range(len(item_list[0:2])):\n",
    "    display(forecast[p])\n",
    "    plt.plot(train[p]['trip_quantity'], label=\"Train\")\n",
    "    plt.plot(test[p]['trip_quantity'], label=\"Test\")\n",
    "    plt.plot(forecast[p][\"predicted_value\"], label=\"Forecast\")\n",
    "    plt.legend(loc='best')"
   ]
  },
  {
   "cell_type": "code",
   "execution_count": 23,
   "id": "f35c97b8-94da-4fc2-9855-407f52a14653",
   "metadata": {},
   "outputs": [
    {
     "name": "stdout",
     "output_type": "stream",
     "text": [
      "Forecast for item 1:\n"
     ]
    },
    {
     "data": {
      "text/html": [
       "<div>\n",
       "<style scoped>\n",
       "    .dataframe tbody tr th:only-of-type {\n",
       "        vertical-align: middle;\n",
       "    }\n",
       "\n",
       "    .dataframe tbody tr th {\n",
       "        vertical-align: top;\n",
       "    }\n",
       "\n",
       "    .dataframe thead th {\n",
       "        text-align: right;\n",
       "    }\n",
       "</style>\n",
       "<table border=\"1\" class=\"dataframe\">\n",
       "  <thead>\n",
       "    <tr style=\"text-align: right;\">\n",
       "      <th></th>\n",
       "      <th>predicted_value</th>\n",
       "      <th>trip_quantity</th>\n",
       "    </tr>\n",
       "    <tr>\n",
       "      <th>time</th>\n",
       "      <th></th>\n",
       "      <th></th>\n",
       "    </tr>\n",
       "  </thead>\n",
       "  <tbody>\n",
       "    <tr>\n",
       "      <th>2020-01-31</th>\n",
       "      <td>49</td>\n",
       "      <td>34</td>\n",
       "    </tr>\n",
       "    <tr>\n",
       "      <th>2020-02-29</th>\n",
       "      <td>49</td>\n",
       "      <td>35</td>\n",
       "    </tr>\n",
       "  </tbody>\n",
       "</table>\n",
       "</div>"
      ],
      "text/plain": [
       "            predicted_value  trip_quantity\n",
       "time                                      \n",
       "2020-01-31               49             34\n",
       "2020-02-29               49             35"
      ]
     },
     "metadata": {},
     "output_type": "display_data"
    },
    {
     "name": "stdout",
     "output_type": "stream",
     "text": [
      "Forecast for item 10:\n"
     ]
    },
    {
     "data": {
      "text/html": [
       "<div>\n",
       "<style scoped>\n",
       "    .dataframe tbody tr th:only-of-type {\n",
       "        vertical-align: middle;\n",
       "    }\n",
       "\n",
       "    .dataframe tbody tr th {\n",
       "        vertical-align: top;\n",
       "    }\n",
       "\n",
       "    .dataframe thead th {\n",
       "        text-align: right;\n",
       "    }\n",
       "</style>\n",
       "<table border=\"1\" class=\"dataframe\">\n",
       "  <thead>\n",
       "    <tr style=\"text-align: right;\">\n",
       "      <th></th>\n",
       "      <th>predicted_value</th>\n",
       "      <th>trip_quantity</th>\n",
       "    </tr>\n",
       "    <tr>\n",
       "      <th>time</th>\n",
       "      <th></th>\n",
       "      <th></th>\n",
       "    </tr>\n",
       "  </thead>\n",
       "  <tbody>\n",
       "    <tr>\n",
       "      <th>2020-01-31</th>\n",
       "      <td>2003</td>\n",
       "      <td>1689</td>\n",
       "    </tr>\n",
       "    <tr>\n",
       "      <th>2020-02-29</th>\n",
       "      <td>2003</td>\n",
       "      <td>1386</td>\n",
       "    </tr>\n",
       "  </tbody>\n",
       "</table>\n",
       "</div>"
      ],
      "text/plain": [
       "            predicted_value  trip_quantity\n",
       "time                                      \n",
       "2020-01-31             2003           1689\n",
       "2020-02-29             2003           1386"
      ]
     },
     "metadata": {},
     "output_type": "display_data"
    },
    {
     "data": {
      "image/png": "[encoded data removed]",
      "text/plain": [
       "<Figure size 576x360 with 2 Axes>"
      ]
     },
     "metadata": {
      "needs_background": "light"
     },
     "output_type": "display_data"
    }
   ],
   "source": [
    "# fancier plots\n",
    "## inspect your forecasts\n",
    "\n",
    "# just first two in the list\n",
    "fig, axs = plt.subplots(2, 1, figsize=(8,5), sharex=True)\n",
    "for p,v in enumerate(item_list[0:2]):  \n",
    "    print(f\"Forecast for item {v}:\")\n",
    "    display(forecast[p])\n",
    "    \n",
    "    ax = axs[p]\n",
    "    train[p].trip_quantity.plot(ax=ax, label=\"Train\")\n",
    "    test[p].trip_quantity.plot(ax=ax, label=\"Test\")\n",
    "    forecast[p].predicted_value.plot(ax=ax, label=\"Forecast\")\n",
    "    ax.legend(loc='best')\n",
    "    ax.set_title( f\"item {v}\" )"
   ]
  },
  {
   "cell_type": "code",
   "execution_count": 24,
   "id": "cdd9dca9-859c-491e-9a2a-87dd3fc6b139",
   "metadata": {},
   "outputs": [
    {
     "name": "stdout",
     "output_type": "stream",
     "text": [
      "len(train): 260, len(test): 260, len(model): 260\n",
      "type(train[0]): <class 'pandas.core.frame.DataFrame'>\n",
      "type(test[0]): <class 'pandas.core.frame.DataFrame'>\n"
     ]
    },
    {
     "data": {
      "text/html": [
       "<div>\n",
       "<style scoped>\n",
       "    .dataframe tbody tr th:only-of-type {\n",
       "        vertical-align: middle;\n",
       "    }\n",
       "\n",
       "    .dataframe tbody tr th {\n",
       "        vertical-align: top;\n",
       "    }\n",
       "\n",
       "    .dataframe thead th {\n",
       "        text-align: right;\n",
       "    }\n",
       "</style>\n",
       "<table border=\"1\" class=\"dataframe\">\n",
       "  <thead>\n",
       "    <tr style=\"text-align: right;\">\n",
       "      <th></th>\n",
       "      <th>pulocationid</th>\n",
       "      <th>trip_quantity</th>\n",
       "      <th>pickup_lat</th>\n",
       "      <th>pickup_lon</th>\n",
       "    </tr>\n",
       "    <tr>\n",
       "      <th>time</th>\n",
       "      <th></th>\n",
       "      <th></th>\n",
       "      <th></th>\n",
       "      <th></th>\n",
       "    </tr>\n",
       "  </thead>\n",
       "  <tbody>\n",
       "    <tr>\n",
       "      <th>2019-07-31</th>\n",
       "      <td>1</td>\n",
       "      <td>50</td>\n",
       "      <td>40.689514</td>\n",
       "      <td>-74.176788</td>\n",
       "    </tr>\n",
       "    <tr>\n",
       "      <th>2019-08-31</th>\n",
       "      <td>1</td>\n",
       "      <td>50</td>\n",
       "      <td>40.689514</td>\n",
       "      <td>-74.176788</td>\n",
       "    </tr>\n",
       "    <tr>\n",
       "      <th>2019-09-30</th>\n",
       "      <td>1</td>\n",
       "      <td>47</td>\n",
       "      <td>40.689514</td>\n",
       "      <td>-74.176788</td>\n",
       "    </tr>\n",
       "    <tr>\n",
       "      <th>2019-10-31</th>\n",
       "      <td>1</td>\n",
       "      <td>54</td>\n",
       "      <td>40.689514</td>\n",
       "      <td>-74.176788</td>\n",
       "    </tr>\n",
       "    <tr>\n",
       "      <th>2019-11-30</th>\n",
       "      <td>1</td>\n",
       "      <td>42</td>\n",
       "      <td>40.689514</td>\n",
       "      <td>-74.176788</td>\n",
       "    </tr>\n",
       "    <tr>\n",
       "      <th>2019-12-31</th>\n",
       "      <td>1</td>\n",
       "      <td>53</td>\n",
       "      <td>40.689514</td>\n",
       "      <td>-74.176788</td>\n",
       "    </tr>\n",
       "  </tbody>\n",
       "</table>\n",
       "</div>"
      ],
      "text/plain": [
       "           pulocationid  trip_quantity  pickup_lat  pickup_lon\n",
       "time                                                          \n",
       "2019-07-31            1             50   40.689514  -74.176788\n",
       "2019-08-31            1             50   40.689514  -74.176788\n",
       "2019-09-30            1             47   40.689514  -74.176788\n",
       "2019-10-31            1             54   40.689514  -74.176788\n",
       "2019-11-30            1             42   40.689514  -74.176788\n",
       "2019-12-31            1             53   40.689514  -74.176788"
      ]
     },
     "metadata": {},
     "output_type": "display_data"
    },
    {
     "data": {
      "text/html": [
       "<div>\n",
       "<style scoped>\n",
       "    .dataframe tbody tr th:only-of-type {\n",
       "        vertical-align: middle;\n",
       "    }\n",
       "\n",
       "    .dataframe tbody tr th {\n",
       "        vertical-align: top;\n",
       "    }\n",
       "\n",
       "    .dataframe thead th {\n",
       "        text-align: right;\n",
       "    }\n",
       "</style>\n",
       "<table border=\"1\" class=\"dataframe\">\n",
       "  <thead>\n",
       "    <tr style=\"text-align: right;\">\n",
       "      <th></th>\n",
       "      <th>pulocationid</th>\n",
       "      <th>trip_quantity</th>\n",
       "      <th>pickup_lat</th>\n",
       "      <th>pickup_lon</th>\n",
       "    </tr>\n",
       "    <tr>\n",
       "      <th>time</th>\n",
       "      <th></th>\n",
       "      <th></th>\n",
       "      <th></th>\n",
       "      <th></th>\n",
       "    </tr>\n",
       "  </thead>\n",
       "  <tbody>\n",
       "    <tr>\n",
       "      <th>2020-01-31</th>\n",
       "      <td>1</td>\n",
       "      <td>34</td>\n",
       "      <td>40.689514</td>\n",
       "      <td>-74.176788</td>\n",
       "    </tr>\n",
       "    <tr>\n",
       "      <th>2020-02-29</th>\n",
       "      <td>1</td>\n",
       "      <td>35</td>\n",
       "      <td>40.689514</td>\n",
       "      <td>-74.176788</td>\n",
       "    </tr>\n",
       "  </tbody>\n",
       "</table>\n",
       "</div>"
      ],
      "text/plain": [
       "           pulocationid  trip_quantity  pickup_lat  pickup_lon\n",
       "time                                                          \n",
       "2020-01-31            1             34   40.689514  -74.176788\n",
       "2020-02-29            1             35   40.689514  -74.176788"
      ]
     },
     "metadata": {},
     "output_type": "display_data"
    },
    {
     "name": "stdout",
     "output_type": "stream",
     "text": [
      "\n",
      "type(model[0]) before unpickling: <class 'bytes'>\n",
      "type(model[0]) after unpickling: <class 'pmdarima.arima.arima.ARIMA'>\n"
     ]
    },
    {
     "data": {
      "text/plain": [
       "ARIMA(order=(0, 0, 0), scoring_args={}, suppress_warnings=True,\n",
       "      with_intercept=False)"
      ]
     },
     "metadata": {},
     "output_type": "display_data"
    }
   ],
   "source": [
    "###########\n",
    "# verify intermediate model artifacts, if desired\n",
    "###########\n",
    "\n",
    "# ray.get the model artifacts, in case you want to check them\n",
    "model = ray.get(model)\n",
    "print(f\"len(train): {len(train)}, len(test): {len(test)}, len(model): {len(model)}\")\n",
    "\n",
    "\n",
    "# verify types of objects you got back from ray...\n",
    "for p in range(len(item_list[0:1])):  #just look at first in the list\n",
    "    print(f\"type(train[{p}]): {type(train[p])}\")\n",
    "    print(f\"type(test[{p}]): {type(test[p])}\")\n",
    "    display(train[p])\n",
    "    display(test[p])\n",
    "        \n",
    "    print()\n",
    "    print(f\"type(model[{p}]) before unpickling: {type(model[p])}\")\n",
    "    model[p] = pickle.loads(model[p])\n",
    "    print(f\"type(model[{p}]) after unpickling: {type(model[p])}\")\n",
    "    display(model[p])"
   ]
  },
  {
   "cell_type": "code",
   "execution_count": null,
   "id": "8c060400-e949-454b-80a2-25b89c6a2a1d",
   "metadata": {},
   "outputs": [],
   "source": []
  }
 ],
 "metadata": {
  "kernelspec": {
   "display_name": "Python 3 (ipykernel)",
   "language": "python",
   "name": "python3"
  },
  "language_info": {
   "codemirror_mode": {
    "name": "ipython",
    "version": 3
   },
   "file_extension": ".py",
   "mimetype": "text/x-python",
   "name": "python",
   "nbconvert_exporter": "python",
   "pygments_lexer": "ipython3",
   "version": "3.8.12"
  }
 },
 "nbformat": 4,
 "nbformat_minor": 5
}
