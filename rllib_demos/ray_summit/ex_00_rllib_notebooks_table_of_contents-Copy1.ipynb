{
 "cells": [
  {
   "cell_type": "markdown",
   "metadata": {},
   "source": [
    "# RLlib Tutorial at Ray Summit 2022 - Overview\n",
    "\n",
    "© 2021-2022, Anyscale. All Rights Reserved\n",
    "\n",
    "<img src=\"images/rllib-logo.png\" width=250>\n",
    "\n",
    "## About This Tutorial\n",
    "\n",
    "\n",
    "See the instructions in the [README](README.md) tutorial overview and setting up your environment to use this tutorial if you want to run this on your laptop.\n",
    "\n",
    "If you are using Anyscale hosted enviroment for this class, then you do not have to do anything!"
   ]
  },
  {
   "cell_type": "markdown",
   "metadata": {},
   "source": [
    "|     | Lesson | Description |\n",
    "| :-- | :----- | :---------- |\n",
    "|     | **Module 1** | **Introduction to Gym Environments & RLlib Algorithms** |\n",
    "| 01  | [OpenAI Gym and RLlib](ex_01_intro_gym_and_rllib.ipynb) |Introduction to OpenAI Gym Environment and RLlib Algorithm top-level APIs |\n",
    "|     | **Module 2** | **Create a Custom RLlib Multi-Agent Environment and Train a RLlib Multi-Agent Model** |\n",
    "| 02  | [Multiagent RLlib Environment](ex_02_create_multiagent_rllib_env.ipynb) |Creata a custom multi-agent RLlib game anvironment |\n",
    "| 03  | [Train a RLlib Muti-Agent model using Ray Tune](ex_03_train_tune_rllib_model.ipynb) | Train RLlib to play your multiplayer game using Ray Tune API |\n",
    "|     | **Module 3** | **Offline RL with RLlib and Ray Serve** |\n",
    "| 04  | [Introduction to Offline RL](ex_04_offline_rl_with_rllib.ipynb) | Introduction to Offline RL |\n",
    "| 05 | [Ray Serve and RL](ex_05_rllib_and_ray_serve.ipynb)| Using RLlib in combination with Ray Serve to deploy a policy into production|\n",
    "|     | **Module 4 (take home)** | **Advanced topics - From Offline RL to Serving to Recommender Systems** |\n",
    "| 06  | [End-to-end Demo (multi-agent with in-game recommender system using Serve)](ex_06_rllib_end_to_end_demo.ipynb) | Demo of what you will build in this tutorial |\n"
   ]
  },
  {
   "cell_type": "code",
   "execution_count": null,
   "metadata": {},
   "outputs": [],
   "source": []
  }
 ],
 "metadata": {
  "kernelspec": {
   "display_name": "Python 3 (ipykernel)",
   "language": "python",
   "name": "python3"
  },
  "language_info": {
   "codemirror_mode": {
    "name": "ipython",
    "version": 3
   },
   "file_extension": ".py",
   "mimetype": "text/x-python",
   "name": "python",
   "nbconvert_exporter": "python",
   "pygments_lexer": "ipython3",
   "version": "3.9.12"
  }
 },
 "nbformat": 4,
 "nbformat_minor": 4
}
