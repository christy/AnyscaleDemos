{
 "cells": [
  {
   "cell_type": "markdown",
   "metadata": {},
   "source": [
    "# RLlib Tutorial at Ray Summit 2022 - Overview\n",
    "\n",
    "© 2021-2022, Anyscale. All Rights Reserved\n",
    "\n",
    "<img src=\"images/rllib-logo.png\" width=250>\n",
    "\n",
    "## About This Tutorial\n",
    "\n",
    "\n",
    "See the instructions in the [README](README.md) tutorial overview and setting up your environment to use this tutorial if you want to run this on your laptop.\n",
    "\n",
    "If you are using Anyscale hosted enviroment for this class, then you do not have to do anything!"
   ]
  },
  {
   "cell_type": "markdown",
   "metadata": {},
   "source": [
    "|     | Lesson | Description |\n",
    "| :-- | :----- | :---------- |\n",
    "|     | **Module 1** | **Introduction to Gym Environments & RLlib APIs** |\n",
    "| 01  | [OpenAI Gym and RLlib](ex_01_intro_gym_and_rllib.ipynb) |Introduction to OpenAI Gym and Ray RLlib |\n",
    "|     | **BREAK** |\n",
    "|     | **Module 2** | **Create a Custom RLlib Multi-Agent Environment and Train a RLlib Multi-Agent Model** |\n",
    "| 02  | [Multiagent RLlib Environment](ex_02_create_multiagent_rllib_env.ipynb) |Create a Custom Multi-Agent Environment in RLlib |\n",
    "| 03  | [Train a RLlib Muti-Agent model using Ray Tune](ex_03_train_tune_rllib_model.ipynb) | Introduction to Ray Tune and hyperparameter optimization (HPO) |\n",
    "|     | **BREAK** |\n",
    "|     | **Module 3** | **Offline RL, Remote Class distributed stateful pattern and Ray Serve** |\n",
    "| 04  | [Introduction to Offline RL](ex_04_offline_rl_with_rllib.ipynb) | Introduction to Offline RL with RLlib |\n",
    "| 05 | [Ray Serve and RL](ex_05_rllib_and_ray_serve.ipynb)| Using RLlib with Ray Serve to deploy a policy into production|\n",
    "|     | **4:30pm HAPPY HOUR + Meetup** |\n",
    "|     | **Module 4 (take home)** | **Extra Notebooks, Depending on Class Timing** |\n",
    "| 06  | [End-to-end Demo](ex_06_rllib_end_to_end_demo.ipynb)| End-to-End Demo of what you built in this tutorial |\n",
    "| 07  | [Introduction to RLlib in RecSys](ex_07_rlib_in_recsys_overview.ipynb)| Introduction to RL applied to Recommender Systems |\n",
    "\n"
   ]
  },
  {
   "cell_type": "code",
   "execution_count": null,
   "metadata": {},
   "outputs": [],
   "source": []
  }
 ],
 "metadata": {
  "kernelspec": {
   "display_name": "Python 3 (ipykernel)",
   "language": "python",
   "name": "python3"
  },
  "language_info": {
   "codemirror_mode": {
    "name": "ipython",
    "version": 3
   },
   "file_extension": ".py",
   "mimetype": "text/x-python",
   "name": "python",
   "nbconvert_exporter": "python",
   "pygments_lexer": "ipython3",
   "version": "3.8.13"
  }
 },
 "nbformat": 4,
 "nbformat_minor": 4
}
